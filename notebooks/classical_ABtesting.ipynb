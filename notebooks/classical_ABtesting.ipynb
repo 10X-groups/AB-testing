{
 "cells": [
  {
   "cell_type": "code",
   "execution_count": 1,
   "id": "8a0b38e8",
   "metadata": {},
   "outputs": [],
   "source": [
    "import numpy as np\n",
    "import pandas as pd\n",
    "import matplotlib.pyplot as plt\n",
    "import seaborn as sns\n",
    "import scipy.stats as stats\n",
    "from scipy.stats import chi2_contingency, beta, binom\n",
    "from statsmodels.stats.proportion import proportions_ztest\n",
    "from matplotlib.lines import Line2D\n",
    "import plotly.graph_objs as go\n"
   ]
  },
  {
   "cell_type": "code",
   "execution_count": 6,
   "id": "8ab5e09a",
   "metadata": {},
   "outputs": [],
   "source": [
    "data_frame = pd.read_csv('../data/AdSmartABdata.csv')"
   ]
  },
  {
   "cell_type": "markdown",
   "id": "86d05e9e",
   "metadata": {},
   "source": [
    "Fetch our AdSmartABdata from our data folder"
   ]
  },
  {
   "cell_type": "code",
   "execution_count": 7,
   "id": "494b679e",
   "metadata": {},
   "outputs": [
    {
     "name": "stdout",
     "output_type": "stream",
     "text": [
      "The exposed group = 657 observations\n",
      "The control group = 586 observations\n",
      "The conversion rate of exposed group = 46.88%\n",
      "The conversion rate of control group = 45.05%\n"
     ]
    }
   ],
   "source": [
    "data = data_frame.query('yes == 1 | no == 1')\n",
    "\n",
    "exposed = data.query('experiment == \"exposed\"')\n",
    "control = data.query('experiment == \"control\"')\n",
    "\n",
    "# number of observation in exposed and control groups\n",
    "print('The exposed group = {} observations'. format(exposed.shape[0]))\n",
    "print('The control group = {} observations'. format(control.shape[0]))\n",
    "\n",
    "exposed_mean = '{0:.2f}%'.format(exposed.yes.mean()*100)\n",
    "control_mean = '{0:.2f}%'.format(control.yes.mean()*100)\n",
    "print('The conversion rate of exposed group = {}'.format(exposed_mean))\n",
    "print('The conversion rate of control group = {}'.format(control_mean))"
   ]
  },
  {
   "cell_type": "code",
   "execution_count": 8,
   "id": "148e9160",
   "metadata": {},
   "outputs": [
    {
     "name": "stdout",
     "output_type": "stream",
     "text": [
      "Their difference is 1.83%\n"
     ]
    }
   ],
   "source": [
    "difference = exposed.yes.mean() - control.yes.mean()\n",
    "difference_form = '{0:.2f}%'.format(difference*100)\n",
    "print('Their difference is {}'.format(difference_form))"
   ]
  },
  {
   "cell_type": "code",
   "execution_count": 9,
   "id": "e455252a",
   "metadata": {},
   "outputs": [
    {
     "name": "stdout",
     "output_type": "stream",
     "text": [
      "The sample sizes of the exposed group is 657\n",
      "The sample sizes of the controled group is 586\n",
      "The conversion rates for the exposed group and control group is 308 and 264 respectively\n"
     ]
    }
   ],
   "source": [
    "exposed_converted = exposed.query('yes == 1')\n",
    "control_converted = control.query('yes == 1')\n",
    "print('The sample sizes of the exposed group is {}'.format(exposed.shape[0]))\n",
    "print('The sample sizes of the controled group is {}'.format(control.shape[0]))\n",
    "\n",
    "print('The conversion rates for the exposed group and control group is {} and {} respectively'.format(exposed_converted.shape[0],control_converted.shape[0]))"
   ]
  },
  {
   "cell_type": "code",
   "execution_count": 10,
   "id": "23c02568",
   "metadata": {},
   "outputs": [
    {
     "name": "stdout",
     "output_type": "stream",
     "text": [
      "The sample sizes of the exposed group is 657\n",
      "The sample sizes of the controled group is 586\n",
      "The conversion rates for the exposed group and control group is 308 and 264 respectively\n"
     ]
    }
   ],
   "source": [
    "exposed_converted = exposed.query('yes == 1')\n",
    "control_converted = control.query('yes == 1')\n",
    "print('The sample sizes of the exposed group is {}'.format(exposed.shape[0]))\n",
    "print('The sample sizes of the controled group is {}'.format(control.shape[0]))\n",
    "\n",
    "print('The conversion rates for the exposed group and control group is {} and {} respectively'.format(exposed_converted.shape[0],                                                                                        control_converted.shape[0]))"
   ]
  },
  {
   "cell_type": "code",
   "execution_count": 11,
   "id": "6f41dd13",
   "metadata": {},
   "outputs": [
    {
     "name": "stdout",
     "output_type": "stream",
     "text": [
      "P-value = 25.92%\n"
     ]
    }
   ],
   "source": [
    "# calculating the p-value\n",
    "# convert the groups in to an array\n",
    "count = np.array([exposed_converted.shape[0], control_converted.shape[0]])\n",
    "# converting the sample size to an array\n",
    "sample = np.array([exposed.shape[0], control.shape[0]])\n",
    "#storing results of z test in variables\n",
    "stat, p_val = proportions_ztest(count, sample, alternative = 'larger')\n",
    "p_value = '{0:.2f}%'.format(p_val*100)\n",
    "print('P-value = {}'.format(p_value))"
   ]
  },
  {
   "cell_type": "code",
   "execution_count": 12,
   "id": "7f5a9b56",
   "metadata": {},
   "outputs": [],
   "source": [
    "exposed_simulation = np.random.binomial(exposed.shape[0], exposed.yes.mean(), 100000)/exposed.shape[0]\n",
    "control_simulation = np.random.binomial(control.shape[0], control.yes.mean(), 100000)/control.shape[0]\n",
    "p_diffs = exposed_simulation - control_simulation\n",
    "diffs = np.array(p_diffs)\n",
    "\n",
    "#Creation of normal distribution centered at zero\n",
    "null_vals = np.random.normal(0, np.std(diffs), len(diffs))"
   ]
  },
  {
   "cell_type": "code",
   "execution_count": null,
   "id": "aa60ed3a",
   "metadata": {},
   "outputs": [],
   "source": []
  }
 ],
 "metadata": {
  "kernelspec": {
   "display_name": "Python 3 (ipykernel)",
   "language": "python",
   "name": "python3"
  },
  "language_info": {
   "codemirror_mode": {
    "name": "ipython",
    "version": 3
   },
   "file_extension": ".py",
   "mimetype": "text/x-python",
   "name": "python",
   "nbconvert_exporter": "python",
   "pygments_lexer": "ipython3",
   "version": "3.10.4"
  }
 },
 "nbformat": 4,
 "nbformat_minor": 5
}
