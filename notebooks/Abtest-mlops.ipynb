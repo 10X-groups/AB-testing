{
 "cells": [
  {
   "cell_type": "code",
   "execution_count": 180,
   "id": "2917f5ee",
   "metadata": {},
   "outputs": [],
   "source": [
    "#importing neccessary packages\n",
    "import pandas as pd\n",
    "import numpy as np\n",
    "import seaborn as sns\n",
    "import mlflow\n",
    "import itertools\n",
    "import pickle\n",
    "import matplotlib.pyplot as plt\n",
    "import matplotlib.colors as mcolors \n",
    "import matplotlib.pyplot as figure\n",
    "from matplotlib import cm\n",
    "from sklearn import metrics\n",
    "from xgboost import XGBClassifier\n",
    "from sklearn.pipeline import Pipeline\n",
    "from sklearn.decomposition import PCA\n",
    "\n",
    "from sklearn.preprocessing import LabelEncoder\n",
    "from sklearn.tree import DecisionTreeClassifier\n",
    "from sklearn.preprocessing import StandardScaler\n",
    "from sklearn.neighbors import KNeighborsClassifier\n",
    "from sklearn.neighbors import KNeighborsClassifier\n",
    "from sklearn.linear_model import LogisticRegression\n",
    "from sklearn.model_selection import train_test_split\n",
    "from sklearn.naive_bayes import BernoulliNB, GaussianNB\n",
    "from sklearn.metrics import accuracy_score, confusion_matrix\n",
    "from sklearn.ensemble import RandomForestClassifier, RandomForestRegressor\n"
   ]
  },
  {
   "cell_type": "code",
   "execution_count": 181,
   "id": "2db58471",
   "metadata": {},
   "outputs": [],
   "source": [
    "# To import scripts from script folder\n",
    "import os \n",
    "import sys\n",
    "import warnings\n",
    "warnings.filterwarnings('ignore')\n",
    "sys.path.append(os.path.abspath(os.path.join('../scripts')))"
   ]
  },
  {
   "cell_type": "code",
   "execution_count": 182,
   "id": "54de9ce0",
   "metadata": {},
   "outputs": [],
   "source": [
    "# Load dataset\n",
    "\n",
    "df  = pd.read_csv('../data/clean_data.csv')"
   ]
  },
  {
   "cell_type": "code",
   "execution_count": 183,
   "id": "db062bd9",
   "metadata": {},
   "outputs": [
    {
     "data": {
      "text/html": [
       "<div>\n",
       "<style scoped>\n",
       "    .dataframe tbody tr th:only-of-type {\n",
       "        vertical-align: middle;\n",
       "    }\n",
       "\n",
       "    .dataframe tbody tr th {\n",
       "        vertical-align: top;\n",
       "    }\n",
       "\n",
       "    .dataframe thead th {\n",
       "        text-align: right;\n",
       "    }\n",
       "</style>\n",
       "<table border=\"1\" class=\"dataframe\">\n",
       "  <thead>\n",
       "    <tr style=\"text-align: right;\">\n",
       "      <th></th>\n",
       "      <th>Unnamed: 0</th>\n",
       "      <th>auction_id</th>\n",
       "      <th>experiment</th>\n",
       "      <th>date</th>\n",
       "      <th>hour</th>\n",
       "      <th>device_make</th>\n",
       "      <th>platform_os</th>\n",
       "      <th>browser</th>\n",
       "      <th>aware</th>\n",
       "    </tr>\n",
       "  </thead>\n",
       "  <tbody>\n",
       "    <tr>\n",
       "      <th>0</th>\n",
       "      <td>2</td>\n",
       "      <td>0016d14a-ae18-4a02-a204-6ba53b52f2ed</td>\n",
       "      <td>exposed</td>\n",
       "      <td>2020-07-05</td>\n",
       "      <td>2</td>\n",
       "      <td>E5823</td>\n",
       "      <td>6</td>\n",
       "      <td>Chrome Mobile WebView</td>\n",
       "      <td>0</td>\n",
       "    </tr>\n",
       "    <tr>\n",
       "      <th>1</th>\n",
       "      <td>16</td>\n",
       "      <td>008aafdf-deef-4482-8fec-d98e3da054da</td>\n",
       "      <td>exposed</td>\n",
       "      <td>2020-07-04</td>\n",
       "      <td>16</td>\n",
       "      <td>Generic Smartphone</td>\n",
       "      <td>6</td>\n",
       "      <td>Chrome Mobile</td>\n",
       "      <td>1</td>\n",
       "    </tr>\n",
       "    <tr>\n",
       "      <th>2</th>\n",
       "      <td>20</td>\n",
       "      <td>00a1384a-5118-4d1b-925b-6cdada50318d</td>\n",
       "      <td>exposed</td>\n",
       "      <td>2020-07-06</td>\n",
       "      <td>8</td>\n",
       "      <td>Generic Smartphone</td>\n",
       "      <td>6</td>\n",
       "      <td>Chrome Mobile</td>\n",
       "      <td>0</td>\n",
       "    </tr>\n",
       "    <tr>\n",
       "      <th>3</th>\n",
       "      <td>23</td>\n",
       "      <td>00b6fadb-10bd-49e3-a778-290da82f7a8d</td>\n",
       "      <td>control</td>\n",
       "      <td>2020-07-08</td>\n",
       "      <td>4</td>\n",
       "      <td>Samsung SM-A202F</td>\n",
       "      <td>6</td>\n",
       "      <td>Facebook</td>\n",
       "      <td>1</td>\n",
       "    </tr>\n",
       "    <tr>\n",
       "      <th>4</th>\n",
       "      <td>27</td>\n",
       "      <td>00ebf4a8-060f-4b99-93ac-c62724399483</td>\n",
       "      <td>control</td>\n",
       "      <td>2020-07-03</td>\n",
       "      <td>15</td>\n",
       "      <td>Generic Smartphone</td>\n",
       "      <td>6</td>\n",
       "      <td>Chrome Mobile</td>\n",
       "      <td>0</td>\n",
       "    </tr>\n",
       "  </tbody>\n",
       "</table>\n",
       "</div>"
      ],
      "text/plain": [
       "   Unnamed: 0                            auction_id experiment        date  \\\n",
       "0           2  0016d14a-ae18-4a02-a204-6ba53b52f2ed    exposed  2020-07-05   \n",
       "1          16  008aafdf-deef-4482-8fec-d98e3da054da    exposed  2020-07-04   \n",
       "2          20  00a1384a-5118-4d1b-925b-6cdada50318d    exposed  2020-07-06   \n",
       "3          23  00b6fadb-10bd-49e3-a778-290da82f7a8d    control  2020-07-08   \n",
       "4          27  00ebf4a8-060f-4b99-93ac-c62724399483    control  2020-07-03   \n",
       "\n",
       "   hour         device_make  platform_os                browser  aware  \n",
       "0     2               E5823            6  Chrome Mobile WebView      0  \n",
       "1    16  Generic Smartphone            6          Chrome Mobile      1  \n",
       "2     8  Generic Smartphone            6          Chrome Mobile      0  \n",
       "3     4    Samsung SM-A202F            6               Facebook      1  \n",
       "4    15  Generic Smartphone            6          Chrome Mobile      0  "
      ]
     },
     "execution_count": 183,
     "metadata": {},
     "output_type": "execute_result"
    }
   ],
   "source": [
    "df.head()"
   ]
  },
  {
   "cell_type": "code",
   "execution_count": 184,
   "id": "a9217398",
   "metadata": {},
   "outputs": [
    {
     "name": "stdout",
     "output_type": "stream",
     "text": [
      "<class 'pandas.core.frame.DataFrame'>\n",
      "RangeIndex: 1243 entries, 0 to 1242\n",
      "Data columns (total 9 columns):\n",
      " #   Column       Non-Null Count  Dtype \n",
      "---  ------       --------------  ----- \n",
      " 0   Unnamed: 0   1243 non-null   int64 \n",
      " 1   auction_id   1243 non-null   object\n",
      " 2   experiment   1243 non-null   object\n",
      " 3   date         1243 non-null   object\n",
      " 4   hour         1243 non-null   int64 \n",
      " 5   device_make  1243 non-null   object\n",
      " 6   platform_os  1243 non-null   int64 \n",
      " 7   browser      1243 non-null   object\n",
      " 8   aware        1243 non-null   int64 \n",
      "dtypes: int64(4), object(5)\n",
      "memory usage: 87.5+ KB\n"
     ]
    }
   ],
   "source": [
    "# info of features\n",
    "df.info()"
   ]
  },
  {
   "cell_type": "code",
   "execution_count": 185,
   "id": "473b38ff",
   "metadata": {},
   "outputs": [
    {
     "data": {
      "text/plain": [
       "Index(['Unnamed: 0', 'auction_id', 'experiment', 'date', 'hour', 'device_make',\n",
       "       'platform_os', 'browser', 'aware'],\n",
       "      dtype='object')"
      ]
     },
     "execution_count": 185,
     "metadata": {},
     "output_type": "execute_result"
    }
   ],
   "source": [
    "# columns in dataset\n",
    "df.columns"
   ]
  },
  {
   "cell_type": "code",
   "execution_count": 186,
   "id": "e87f53ff",
   "metadata": {},
   "outputs": [
    {
     "data": {
      "text/plain": [
       "Unnamed: 0     0\n",
       "auction_id     0\n",
       "experiment     0\n",
       "date           0\n",
       "hour           0\n",
       "device_make    0\n",
       "platform_os    0\n",
       "browser        0\n",
       "aware          0\n",
       "dtype: int64"
      ]
     },
     "execution_count": 186,
     "metadata": {},
     "output_type": "execute_result"
    }
   ],
   "source": [
    "# to identify missing values\n",
    "df.isnull().sum()"
   ]
  },
  {
   "cell_type": "code",
   "execution_count": 187,
   "id": "a2654273",
   "metadata": {},
   "outputs": [
    {
     "data": {
      "text/plain": [
       "['Unnamed: 0', 'hour', 'platform_os', 'aware']"
      ]
     },
     "execution_count": 187,
     "metadata": {},
     "output_type": "execute_result"
    }
   ],
   "source": [
    "#to identify numeric columns\n",
    "numerical_features=list(df._get_numeric_data().columns)\n",
    "numerical_features"
   ]
  },
  {
   "cell_type": "code",
   "execution_count": 188,
   "id": "6535f282",
   "metadata": {},
   "outputs": [
    {
     "data": {
      "text/plain": [
       "Index(['auction_id', 'experiment', 'date', 'device_make', 'browser'], dtype='object')"
      ]
     },
     "execution_count": 188,
     "metadata": {},
     "output_type": "execute_result"
    }
   ],
   "source": [
    "#to identify categoricala features\n",
    "df.select_dtypes(include=['object']).columns"
   ]
  },
  {
   "cell_type": "code",
   "execution_count": 189,
   "id": "94949b07",
   "metadata": {},
   "outputs": [
    {
     "data": {
      "text/html": [
       "<div>\n",
       "<style scoped>\n",
       "    .dataframe tbody tr th:only-of-type {\n",
       "        vertical-align: middle;\n",
       "    }\n",
       "\n",
       "    .dataframe tbody tr th {\n",
       "        vertical-align: top;\n",
       "    }\n",
       "\n",
       "    .dataframe thead th {\n",
       "        text-align: right;\n",
       "    }\n",
       "</style>\n",
       "<table border=\"1\" class=\"dataframe\">\n",
       "  <thead>\n",
       "    <tr style=\"text-align: right;\">\n",
       "      <th></th>\n",
       "      <th>Unnamed: 0</th>\n",
       "      <th>experiment</th>\n",
       "      <th>date</th>\n",
       "      <th>hour</th>\n",
       "      <th>device_make</th>\n",
       "      <th>platform_os</th>\n",
       "      <th>browser</th>\n",
       "      <th>aware</th>\n",
       "    </tr>\n",
       "  </thead>\n",
       "  <tbody>\n",
       "    <tr>\n",
       "      <th>0</th>\n",
       "      <td>2</td>\n",
       "      <td>exposed</td>\n",
       "      <td>2020-07-05</td>\n",
       "      <td>2</td>\n",
       "      <td>E5823</td>\n",
       "      <td>6</td>\n",
       "      <td>Chrome Mobile WebView</td>\n",
       "      <td>0</td>\n",
       "    </tr>\n",
       "    <tr>\n",
       "      <th>1</th>\n",
       "      <td>16</td>\n",
       "      <td>exposed</td>\n",
       "      <td>2020-07-04</td>\n",
       "      <td>16</td>\n",
       "      <td>Generic Smartphone</td>\n",
       "      <td>6</td>\n",
       "      <td>Chrome Mobile</td>\n",
       "      <td>1</td>\n",
       "    </tr>\n",
       "    <tr>\n",
       "      <th>2</th>\n",
       "      <td>20</td>\n",
       "      <td>exposed</td>\n",
       "      <td>2020-07-06</td>\n",
       "      <td>8</td>\n",
       "      <td>Generic Smartphone</td>\n",
       "      <td>6</td>\n",
       "      <td>Chrome Mobile</td>\n",
       "      <td>0</td>\n",
       "    </tr>\n",
       "    <tr>\n",
       "      <th>3</th>\n",
       "      <td>23</td>\n",
       "      <td>control</td>\n",
       "      <td>2020-07-08</td>\n",
       "      <td>4</td>\n",
       "      <td>Samsung SM-A202F</td>\n",
       "      <td>6</td>\n",
       "      <td>Facebook</td>\n",
       "      <td>1</td>\n",
       "    </tr>\n",
       "    <tr>\n",
       "      <th>4</th>\n",
       "      <td>27</td>\n",
       "      <td>control</td>\n",
       "      <td>2020-07-03</td>\n",
       "      <td>15</td>\n",
       "      <td>Generic Smartphone</td>\n",
       "      <td>6</td>\n",
       "      <td>Chrome Mobile</td>\n",
       "      <td>0</td>\n",
       "    </tr>\n",
       "    <tr>\n",
       "      <th>...</th>\n",
       "      <td>...</td>\n",
       "      <td>...</td>\n",
       "      <td>...</td>\n",
       "      <td>...</td>\n",
       "      <td>...</td>\n",
       "      <td>...</td>\n",
       "      <td>...</td>\n",
       "      <td>...</td>\n",
       "    </tr>\n",
       "    <tr>\n",
       "      <th>1238</th>\n",
       "      <td>8059</td>\n",
       "      <td>exposed</td>\n",
       "      <td>2020-07-05</td>\n",
       "      <td>21</td>\n",
       "      <td>Generic Smartphone</td>\n",
       "      <td>6</td>\n",
       "      <td>Chrome Mobile</td>\n",
       "      <td>1</td>\n",
       "    </tr>\n",
       "    <tr>\n",
       "      <th>1239</th>\n",
       "      <td>8063</td>\n",
       "      <td>exposed</td>\n",
       "      <td>2020-07-04</td>\n",
       "      <td>1</td>\n",
       "      <td>Generic Smartphone</td>\n",
       "      <td>6</td>\n",
       "      <td>Chrome Mobile</td>\n",
       "      <td>1</td>\n",
       "    </tr>\n",
       "    <tr>\n",
       "      <th>1240</th>\n",
       "      <td>8064</td>\n",
       "      <td>control</td>\n",
       "      <td>2020-07-09</td>\n",
       "      <td>7</td>\n",
       "      <td>Generic Smartphone</td>\n",
       "      <td>6</td>\n",
       "      <td>Chrome Mobile</td>\n",
       "      <td>0</td>\n",
       "    </tr>\n",
       "    <tr>\n",
       "      <th>1241</th>\n",
       "      <td>8069</td>\n",
       "      <td>control</td>\n",
       "      <td>2020-07-10</td>\n",
       "      <td>16</td>\n",
       "      <td>Generic Smartphone</td>\n",
       "      <td>6</td>\n",
       "      <td>Chrome Mobile</td>\n",
       "      <td>0</td>\n",
       "    </tr>\n",
       "    <tr>\n",
       "      <th>1242</th>\n",
       "      <td>8071</td>\n",
       "      <td>exposed</td>\n",
       "      <td>2020-07-03</td>\n",
       "      <td>4</td>\n",
       "      <td>Generic Smartphone</td>\n",
       "      <td>6</td>\n",
       "      <td>Chrome Mobile</td>\n",
       "      <td>0</td>\n",
       "    </tr>\n",
       "  </tbody>\n",
       "</table>\n",
       "<p>1243 rows × 8 columns</p>\n",
       "</div>"
      ],
      "text/plain": [
       "      Unnamed: 0 experiment        date  hour         device_make  \\\n",
       "0              2    exposed  2020-07-05     2               E5823   \n",
       "1             16    exposed  2020-07-04    16  Generic Smartphone   \n",
       "2             20    exposed  2020-07-06     8  Generic Smartphone   \n",
       "3             23    control  2020-07-08     4    Samsung SM-A202F   \n",
       "4             27    control  2020-07-03    15  Generic Smartphone   \n",
       "...          ...        ...         ...   ...                 ...   \n",
       "1238        8059    exposed  2020-07-05    21  Generic Smartphone   \n",
       "1239        8063    exposed  2020-07-04     1  Generic Smartphone   \n",
       "1240        8064    control  2020-07-09     7  Generic Smartphone   \n",
       "1241        8069    control  2020-07-10    16  Generic Smartphone   \n",
       "1242        8071    exposed  2020-07-03     4  Generic Smartphone   \n",
       "\n",
       "      platform_os                browser  aware  \n",
       "0               6  Chrome Mobile WebView      0  \n",
       "1               6          Chrome Mobile      1  \n",
       "2               6          Chrome Mobile      0  \n",
       "3               6               Facebook      1  \n",
       "4               6          Chrome Mobile      0  \n",
       "...           ...                    ...    ...  \n",
       "1238            6          Chrome Mobile      1  \n",
       "1239            6          Chrome Mobile      1  \n",
       "1240            6          Chrome Mobile      0  \n",
       "1241            6          Chrome Mobile      0  \n",
       "1242            6          Chrome Mobile      0  \n",
       "\n",
       "[1243 rows x 8 columns]"
      ]
     },
     "execution_count": 189,
     "metadata": {},
     "output_type": "execute_result"
    }
   ],
   "source": [
    "#removing unwanted features\n",
    "del df['auction_id']\n",
    "df"
   ]
  },
  {
   "cell_type": "code",
   "execution_count": 190,
   "id": "4ec6b4bb",
   "metadata": {},
   "outputs": [],
   "source": [
    "# converting categorical varaibles to numeric values \n",
    "from sklearn.preprocessing import LabelEncoder\n",
    "lb_encoder=LabelEncoder()\n",
    "categorical_column=df.columns.tolist()\n",
    "for column in categorical_column:\n",
    "    if df[column].dtype=='object':\n",
    "        df[column]=lb_encoder.fit_transform(df[column])"
   ]
  },
  {
   "cell_type": "code",
   "execution_count": 191,
   "id": "8be7264a",
   "metadata": {},
   "outputs": [
    {
     "data": {
      "text/plain": [
       "Unnamed: 0     int64\n",
       "experiment     int32\n",
       "date           int32\n",
       "hour           int64\n",
       "device_make    int32\n",
       "platform_os    int64\n",
       "browser        int32\n",
       "aware          int64\n",
       "dtype: object"
      ]
     },
     "execution_count": 191,
     "metadata": {},
     "output_type": "execute_result"
    }
   ],
   "source": [
    "df.dtypes"
   ]
  },
  {
   "cell_type": "code",
   "execution_count": 192,
   "id": "f0ca0005",
   "metadata": {},
   "outputs": [
    {
     "data": {
      "text/html": [
       "<div>\n",
       "<style scoped>\n",
       "    .dataframe tbody tr th:only-of-type {\n",
       "        vertical-align: middle;\n",
       "    }\n",
       "\n",
       "    .dataframe tbody tr th {\n",
       "        vertical-align: top;\n",
       "    }\n",
       "\n",
       "    .dataframe thead th {\n",
       "        text-align: right;\n",
       "    }\n",
       "</style>\n",
       "<table border=\"1\" class=\"dataframe\">\n",
       "  <thead>\n",
       "    <tr style=\"text-align: right;\">\n",
       "      <th></th>\n",
       "      <th>Unnamed: 0</th>\n",
       "      <th>experiment</th>\n",
       "      <th>date</th>\n",
       "      <th>hour</th>\n",
       "      <th>device_make</th>\n",
       "      <th>platform_os</th>\n",
       "      <th>browser</th>\n",
       "      <th>aware</th>\n",
       "    </tr>\n",
       "  </thead>\n",
       "  <tbody>\n",
       "    <tr>\n",
       "      <th>0</th>\n",
       "      <td>2</td>\n",
       "      <td>1</td>\n",
       "      <td>2</td>\n",
       "      <td>2</td>\n",
       "      <td>4</td>\n",
       "      <td>6</td>\n",
       "      <td>2</td>\n",
       "      <td>0</td>\n",
       "    </tr>\n",
       "    <tr>\n",
       "      <th>1</th>\n",
       "      <td>16</td>\n",
       "      <td>1</td>\n",
       "      <td>1</td>\n",
       "      <td>16</td>\n",
       "      <td>13</td>\n",
       "      <td>6</td>\n",
       "      <td>1</td>\n",
       "      <td>1</td>\n",
       "    </tr>\n",
       "    <tr>\n",
       "      <th>2</th>\n",
       "      <td>20</td>\n",
       "      <td>1</td>\n",
       "      <td>3</td>\n",
       "      <td>8</td>\n",
       "      <td>13</td>\n",
       "      <td>6</td>\n",
       "      <td>1</td>\n",
       "      <td>0</td>\n",
       "    </tr>\n",
       "    <tr>\n",
       "      <th>3</th>\n",
       "      <td>23</td>\n",
       "      <td>0</td>\n",
       "      <td>5</td>\n",
       "      <td>4</td>\n",
       "      <td>43</td>\n",
       "      <td>6</td>\n",
       "      <td>4</td>\n",
       "      <td>1</td>\n",
       "    </tr>\n",
       "    <tr>\n",
       "      <th>4</th>\n",
       "      <td>27</td>\n",
       "      <td>0</td>\n",
       "      <td>0</td>\n",
       "      <td>15</td>\n",
       "      <td>13</td>\n",
       "      <td>6</td>\n",
       "      <td>1</td>\n",
       "      <td>0</td>\n",
       "    </tr>\n",
       "  </tbody>\n",
       "</table>\n",
       "</div>"
      ],
      "text/plain": [
       "   Unnamed: 0  experiment  date  hour  device_make  platform_os  browser  \\\n",
       "0           2           1     2     2            4            6        2   \n",
       "1          16           1     1    16           13            6        1   \n",
       "2          20           1     3     8           13            6        1   \n",
       "3          23           0     5     4           43            6        4   \n",
       "4          27           0     0    15           13            6        1   \n",
       "\n",
       "   aware  \n",
       "0      0  \n",
       "1      1  \n",
       "2      0  \n",
       "3      1  \n",
       "4      0  "
      ]
     },
     "execution_count": 192,
     "metadata": {},
     "output_type": "execute_result"
    }
   ],
   "source": [
    "df.head()"
   ]
  },
  {
   "cell_type": "code",
   "execution_count": 193,
   "id": "cfc4ae5e",
   "metadata": {},
   "outputs": [],
   "source": [
    "# Normalizing dataset \n",
    "#Assuming same lines from your example\n",
    "cols_to_norm = ['Unnamed: 0','experiment','date','hour','device_make','platform_os','browser']\n",
    "df[cols_to_norm] = df[cols_to_norm].apply(lambda x: (x - x.min()) / (x.max() - x.min()))"
   ]
  },
  {
   "cell_type": "code",
   "execution_count": 194,
   "id": "b6fc0664",
   "metadata": {},
   "outputs": [
    {
     "data": {
      "text/html": [
       "<div>\n",
       "<style scoped>\n",
       "    .dataframe tbody tr th:only-of-type {\n",
       "        vertical-align: middle;\n",
       "    }\n",
       "\n",
       "    .dataframe tbody tr th {\n",
       "        vertical-align: top;\n",
       "    }\n",
       "\n",
       "    .dataframe thead th {\n",
       "        text-align: right;\n",
       "    }\n",
       "</style>\n",
       "<table border=\"1\" class=\"dataframe\">\n",
       "  <thead>\n",
       "    <tr style=\"text-align: right;\">\n",
       "      <th></th>\n",
       "      <th>Unnamed: 0</th>\n",
       "      <th>experiment</th>\n",
       "      <th>date</th>\n",
       "      <th>hour</th>\n",
       "      <th>device_make</th>\n",
       "      <th>platform_os</th>\n",
       "      <th>browser</th>\n",
       "      <th>aware</th>\n",
       "    </tr>\n",
       "  </thead>\n",
       "  <tbody>\n",
       "    <tr>\n",
       "      <th>0</th>\n",
       "      <td>0.000000</td>\n",
       "      <td>1.0</td>\n",
       "      <td>0.285714</td>\n",
       "      <td>0.086957</td>\n",
       "      <td>0.035088</td>\n",
       "      <td>1.0</td>\n",
       "      <td>0.285714</td>\n",
       "      <td>0</td>\n",
       "    </tr>\n",
       "    <tr>\n",
       "      <th>1</th>\n",
       "      <td>0.001735</td>\n",
       "      <td>1.0</td>\n",
       "      <td>0.142857</td>\n",
       "      <td>0.695652</td>\n",
       "      <td>0.114035</td>\n",
       "      <td>1.0</td>\n",
       "      <td>0.142857</td>\n",
       "      <td>1</td>\n",
       "    </tr>\n",
       "    <tr>\n",
       "      <th>2</th>\n",
       "      <td>0.002231</td>\n",
       "      <td>1.0</td>\n",
       "      <td>0.428571</td>\n",
       "      <td>0.347826</td>\n",
       "      <td>0.114035</td>\n",
       "      <td>1.0</td>\n",
       "      <td>0.142857</td>\n",
       "      <td>0</td>\n",
       "    </tr>\n",
       "    <tr>\n",
       "      <th>3</th>\n",
       "      <td>0.002603</td>\n",
       "      <td>0.0</td>\n",
       "      <td>0.714286</td>\n",
       "      <td>0.173913</td>\n",
       "      <td>0.377193</td>\n",
       "      <td>1.0</td>\n",
       "      <td>0.571429</td>\n",
       "      <td>1</td>\n",
       "    </tr>\n",
       "    <tr>\n",
       "      <th>4</th>\n",
       "      <td>0.003098</td>\n",
       "      <td>0.0</td>\n",
       "      <td>0.000000</td>\n",
       "      <td>0.652174</td>\n",
       "      <td>0.114035</td>\n",
       "      <td>1.0</td>\n",
       "      <td>0.142857</td>\n",
       "      <td>0</td>\n",
       "    </tr>\n",
       "    <tr>\n",
       "      <th>...</th>\n",
       "      <td>...</td>\n",
       "      <td>...</td>\n",
       "      <td>...</td>\n",
       "      <td>...</td>\n",
       "      <td>...</td>\n",
       "      <td>...</td>\n",
       "      <td>...</td>\n",
       "      <td>...</td>\n",
       "    </tr>\n",
       "    <tr>\n",
       "      <th>1238</th>\n",
       "      <td>0.998513</td>\n",
       "      <td>1.0</td>\n",
       "      <td>0.285714</td>\n",
       "      <td>0.913043</td>\n",
       "      <td>0.114035</td>\n",
       "      <td>1.0</td>\n",
       "      <td>0.142857</td>\n",
       "      <td>1</td>\n",
       "    </tr>\n",
       "    <tr>\n",
       "      <th>1239</th>\n",
       "      <td>0.999009</td>\n",
       "      <td>1.0</td>\n",
       "      <td>0.142857</td>\n",
       "      <td>0.043478</td>\n",
       "      <td>0.114035</td>\n",
       "      <td>1.0</td>\n",
       "      <td>0.142857</td>\n",
       "      <td>1</td>\n",
       "    </tr>\n",
       "    <tr>\n",
       "      <th>1240</th>\n",
       "      <td>0.999132</td>\n",
       "      <td>0.0</td>\n",
       "      <td>0.857143</td>\n",
       "      <td>0.304348</td>\n",
       "      <td>0.114035</td>\n",
       "      <td>1.0</td>\n",
       "      <td>0.142857</td>\n",
       "      <td>0</td>\n",
       "    </tr>\n",
       "    <tr>\n",
       "      <th>1241</th>\n",
       "      <td>0.999752</td>\n",
       "      <td>0.0</td>\n",
       "      <td>1.000000</td>\n",
       "      <td>0.695652</td>\n",
       "      <td>0.114035</td>\n",
       "      <td>1.0</td>\n",
       "      <td>0.142857</td>\n",
       "      <td>0</td>\n",
       "    </tr>\n",
       "    <tr>\n",
       "      <th>1242</th>\n",
       "      <td>1.000000</td>\n",
       "      <td>1.0</td>\n",
       "      <td>0.000000</td>\n",
       "      <td>0.173913</td>\n",
       "      <td>0.114035</td>\n",
       "      <td>1.0</td>\n",
       "      <td>0.142857</td>\n",
       "      <td>0</td>\n",
       "    </tr>\n",
       "  </tbody>\n",
       "</table>\n",
       "<p>1243 rows × 8 columns</p>\n",
       "</div>"
      ],
      "text/plain": [
       "      Unnamed: 0  experiment      date      hour  device_make  platform_os  \\\n",
       "0       0.000000         1.0  0.285714  0.086957     0.035088          1.0   \n",
       "1       0.001735         1.0  0.142857  0.695652     0.114035          1.0   \n",
       "2       0.002231         1.0  0.428571  0.347826     0.114035          1.0   \n",
       "3       0.002603         0.0  0.714286  0.173913     0.377193          1.0   \n",
       "4       0.003098         0.0  0.000000  0.652174     0.114035          1.0   \n",
       "...          ...         ...       ...       ...          ...          ...   \n",
       "1238    0.998513         1.0  0.285714  0.913043     0.114035          1.0   \n",
       "1239    0.999009         1.0  0.142857  0.043478     0.114035          1.0   \n",
       "1240    0.999132         0.0  0.857143  0.304348     0.114035          1.0   \n",
       "1241    0.999752         0.0  1.000000  0.695652     0.114035          1.0   \n",
       "1242    1.000000         1.0  0.000000  0.173913     0.114035          1.0   \n",
       "\n",
       "       browser  aware  \n",
       "0     0.285714      0  \n",
       "1     0.142857      1  \n",
       "2     0.142857      0  \n",
       "3     0.571429      1  \n",
       "4     0.142857      0  \n",
       "...        ...    ...  \n",
       "1238  0.142857      1  \n",
       "1239  0.142857      1  \n",
       "1240  0.142857      0  \n",
       "1241  0.142857      0  \n",
       "1242  0.142857      0  \n",
       "\n",
       "[1243 rows x 8 columns]"
      ]
     },
     "execution_count": 194,
     "metadata": {},
     "output_type": "execute_result"
    }
   ],
   "source": [
    "df"
   ]
  },
  {
   "cell_type": "code",
   "execution_count": 195,
   "id": "e1a1d04b",
   "metadata": {},
   "outputs": [
    {
     "data": {
      "image/png": "[encoded data removed]",
      "text/plain": [
       "<Figure size 576x432 with 1 Axes>"
      ]
     },
     "metadata": {},
     "output_type": "display_data"
    }
   ],
   "source": [
    "# number of aware and not aware\n",
    "fig = plt.figure(figsize=(8,6))\n",
    "ax = sns.countplot(x='aware', data=df,hue=\"aware\",dodge=False)\n",
    "plt.style.use('fivethirtyeight')\n",
    "plt.show()"
   ]
  },
  {
   "cell_type": "markdown",
   "id": "1531d4ce",
   "metadata": {},
   "source": [
    "### Model Traning"
   ]
  },
  {
   "cell_type": "code",
   "execution_count": 196,
   "id": "417084d0",
   "metadata": {},
   "outputs": [],
   "source": [
    "feature_cols = [\"experiment\", \"hour\", \"date\", 'device_make', 'browser']\n",
    "#spliting dataset as target and features\n",
    "X = clean_df[feature_cols]\n",
    "y = clean_df[['aware']]\n",
    "\n",
    "test_size = 0.1\n",
    "\n",
    "X_train, X_test, y_train, y_test = train_test_split(X, y, test_size=test_size, random_state=42)"
   ]
  },
  {
   "cell_type": "code",
   "execution_count": 197,
   "id": "87e61c64",
   "metadata": {},
   "outputs": [
    {
     "name": "stdout",
     "output_type": "stream",
     "text": [
      "Predicted: [1 1 0 0 1 0 1 0 0 1]\n",
      "Actual:       aware\n",
      "900       1\n",
      "1003      0\n",
      "671       0\n",
      "620       0\n",
      "926       1\n",
      "997       0\n",
      "745       1\n",
      "938       1\n",
      "451       0\n",
      "439       1\n"
     ]
    }
   ],
   "source": [
    "#Random Forest\n",
    "rfc=RandomForestClassifier(n_estimators=100)\n",
    "# fitting model with train data\n",
    "rfc.fit(X_train,y_train)\n",
    "# to predict results from X_test dataset\n",
    "pred_rfc=rfc.predict(X_test)\n",
    "# See First 10 Predictions and They Actual Values\n",
    "print(\"Predicted:\", pred_rfc[0:10])\n",
    "print(\"Actual:\", y_test[0:10])"
   ]
  },
  {
   "cell_type": "code",
   "execution_count": 198,
   "id": "5ad4b619",
   "metadata": {},
   "outputs": [
    {
     "name": "stdout",
     "output_type": "stream",
     "text": [
      "Predicted: [1 0 0 0 1 0 1 1 1 0]\n",
      "Actual:       aware\n",
      "900       1\n",
      "1003      0\n",
      "671       0\n",
      "620       0\n",
      "926       1\n",
      "997       0\n",
      "745       1\n",
      "938       1\n",
      "451       0\n",
      "439       1\n"
     ]
    }
   ],
   "source": [
    "# Decision Tree\n",
    "dt=DecisionTreeClassifier()\n",
    "# fitting model with train data\n",
    "dt.fit(X_train,y_train)\n",
    "# to predict results from X_test dataset\n",
    "pred_dt=dt.predict(X_test)\n",
    "# See First 10 Predictions and They Actual Values\n",
    "print(\"Predicted:\", pred_dt[0:10])\n",
    "print(\"Actual:\", y_test[0:10])\n"
   ]
  },
  {
   "cell_type": "code",
   "execution_count": 199,
   "id": "0b145017",
   "metadata": {},
   "outputs": [
    {
     "name": "stdout",
     "output_type": "stream",
     "text": [
      "Predicted: [0 1 0 0 1 0 1 0 0 0]\n",
      "Actual:       aware\n",
      "900       1\n",
      "1003      0\n",
      "671       0\n",
      "620       0\n",
      "926       1\n",
      "997       0\n",
      "745       1\n",
      "938       1\n",
      "451       0\n",
      "439       1\n"
     ]
    }
   ],
   "source": [
    "# Logistic regression\n",
    "lr=LogisticRegression()\n",
    "# fitting model with train data\n",
    "lr.fit(X_train,y_train)\n",
    "# to predict results from X_test dataset\n",
    "pred_lr=lr.predict(X_test)\n",
    "# See First 10 Predictions and They Actual Values\n",
    "print(\"Predicted:\", pred_lr[0:10])\n",
    "print(\"Actual:\", y_test[0:10])"
   ]
  },
  {
   "cell_type": "code",
   "execution_count": 200,
   "id": "4ee8cb1a",
   "metadata": {},
   "outputs": [
    {
     "name": "stdout",
     "output_type": "stream",
     "text": [
      "Predicted: [0 0 0 0 0 0 0 0 0 0]\n",
      "Actual:       aware\n",
      "900       1\n",
      "1003      0\n",
      "671       0\n",
      "620       0\n",
      "926       1\n",
      "997       0\n",
      "745       1\n",
      "938       1\n",
      "451       0\n",
      "439       1\n"
     ]
    }
   ],
   "source": [
    "# Bernouilli NB\n",
    "bnb = BernoulliNB()\n",
    "# We fit our model with our train data\n",
    "bnb.fit(X_train, y_train)\n",
    "# Then predict results from X_test data\n",
    "pred_bnb = bnb.predict(X_test)\n",
    "\n",
    "# See First 10 Predictions and They Actual Values\n",
    "print(\"Predicted:\", pred_bnb[0:10])\n",
    "print(\"Actual:\", y_test[0:10])"
   ]
  },
  {
   "cell_type": "code",
   "execution_count": 201,
   "id": "a78baf9e",
   "metadata": {},
   "outputs": [
    {
     "name": "stdout",
     "output_type": "stream",
     "text": [
      "Actual:       aware\n",
      "900       1\n",
      "1003      0\n",
      "671       0\n",
      "620       0\n",
      "926       1\n",
      "997       0\n",
      "745       1\n",
      "938       1\n",
      "451       0\n",
      "439       1\n"
     ]
    }
   ],
   "source": [
    "# Define XGBoost Model\n",
    "xgb = XGBClassifier(n_estimators=1000, learning_rate=0.05)\n",
    "# We fit our model with our train data\n",
    "xgb.fit(\n",
    "    X_train, y_train,\n",
    "    # That means if model don't improve it self in 5 rounds, it will stop learning\n",
    "    # So you can save your time and don't overtrain your model.\n",
    "    early_stopping_rounds=5,\n",
    "    # We provide Test data's to evaluate model performance\n",
    "    eval_set=[(X_test, y_test)],\n",
    "    verbose=False\n",
    " )\n",
    "# Then predict results from X_test data\n",
    "pred_xgb = xgb.predict(X_test)\n",
    "\n",
    "# See First 10 Predictions and They Actual Values\n",
    "# print(\"Predicted:\", pred_xgb[0:10])\n",
    "print(\"Actual:\", y_test[0:10])"
   ]
  },
  {
   "cell_type": "markdown",
   "id": "7ce846f5",
   "metadata": {},
   "source": [
    "### Confusion Matrixes\n",
    "    # First parameter is actual value\n",
    "    # second parameter is value that we prediceted"
   ]
  },
  {
   "cell_type": "code",
   "execution_count": 209,
   "id": "00aeb765",
   "metadata": {},
   "outputs": [
    {
     "name": "stdout",
     "output_type": "stream",
     "text": [
      "***********************\n",
      "Confusion Matrixes\n",
      "***********************\n",
      "Random Forest:\n",
      " [[44 21]\n",
      " [34 26]]\n",
      "Desicion Tree:\n",
      " [[39 26]\n",
      " [33 27]]\n",
      "Logistic Regression:\n",
      " [[58  7]\n",
      " [47 13]]\n",
      "Bernouilli Naive Bias:\n",
      " [[65  0]\n",
      " [60  0]]\n",
      "XGBoost:\n",
      " [[51 14]\n",
      " [41 19]]\n"
     ]
    }
   ],
   "source": [
    "\n",
    "# Random Forest \n",
    "cm_rfc = confusion_matrix(y_test, pred_rfc)\n",
    "# Desicion Tree\n",
    "cm_dt = confusion_matrix(y_test, pred_dt)\n",
    "# Logistic Regression\n",
    "#BNB\n",
    "cm_bnb=confusion_matrix(y_test, pred_bnb)\n",
    "#Logistic Regression\n",
    "cm_lr = confusion_matrix(y_test, pred_lr)\n",
    "# XGBoost \n",
    "cm_xgb = confusion_matrix(y_test, pred_xgb)\n",
    "\n",
    "print(\"***********************\")\n",
    "print(\"Confusion Matrixes\")\n",
    "print(\"***********************\")\n",
    "print(\"Random Forest:\\n\", cm_rfc)\n",
    "print(\"Desicion Tree:\\n\", cm_dt)\n",
    "print(\"Logistic Regression:\\n\", cm_lr)\n",
    "print(\"Bernouilli Naive Bias:\\n\", cm_bnb)\n",
    "print(\"XGBoost:\\n\", cm_xgb)"
   ]
  },
  {
   "cell_type": "code",
   "execution_count": 213,
   "id": "ab2782fb",
   "metadata": {},
   "outputs": [
    {
     "name": "stdout",
     "output_type": "stream",
     "text": [
      "***********************\n",
      "Accuracy Scores\n",
      "***********************\n",
      "Random Forest: 0.56\n",
      "Desicion Tree: 0.528\n",
      "Logistic Regression: 0.568\n",
      "Bernouilli Naive Bias: 0.52\n",
      "XGBoost: 0.56\n"
     ]
    }
   ],
   "source": [
    "# Accuracy Scores\n",
    "# First parameter is actual value\n",
    "# second parameter is value that we prediceted\n",
    "\n",
    "# Random Forest \n",
    "acc_rfc = accuracy_score(y_test, pred_rfc)\n",
    "# Desicion Tree\n",
    "acc_dt = accuracy_score(y_test, pred_dt)\n",
    "# Logistic Regression\n",
    "acc_lr = accuracy_score(y_test, pred_lr)\n",
    "# Bernouilli Naive Bias\n",
    "acc_bnb = accuracy_score(y_test, pred_bnb)\n",
    "# XGBoost \n",
    "acc_xgb = accuracy_score(y_test, pred_xgb)\n",
    "\n",
    "print(\"***********************\")\n",
    "print(\"Accuracy Scores\")\n",
    "print(\"***********************\")\n",
    "print(\"Random Forest:\", acc_rfc)\n",
    "print(\"Desicion Tree:\", acc_dt)\n",
    "print(\"Logistic Regression:\", acc_lr)\n",
    "print(\"Bernouilli Naive Bias:\", acc_bnb)\n",
    "print(\"XGBoost:\", acc_xgb)"
   ]
  },
  {
   "cell_type": "markdown",
   "id": "274df9b4",
   "metadata": {},
   "source": [
    "### Sklearn Pipeline"
   ]
  },
  {
   "cell_type": "code",
   "execution_count": 215,
   "id": "62cbecc9",
   "metadata": {},
   "outputs": [],
   "source": [
    "def plot_confusion_matrix(cm, classes,\n",
    "                          normalize=False,\n",
    "                          title='Confusion matrix',\n",
    "                          cmap=plt.cm.Blues):\n",
    "    \n",
    "    plt.imshow(cm, interpolation='nearest', cmap=cmap)\n",
    "    plt.title(title)\n",
    "    plt.colorbar()\n",
    "    tick_marks = np.arange(len(classes))\n",
    "    plt.xticks(tick_marks, classes, rotation=45)\n",
    "    plt.yticks(tick_marks, classes)\n",
    "    if normalize:\n",
    "\n",
    "        cm = cm.astype('float') / cm.sum(axis=1)[:, np.newaxis]\n",
    "    else:\n",
    "        print('Confusion matrix, without normalization')\n",
    "    thresh = cm.max() / 2.\n",
    "    for i, j in itertools.product(range(cm.shape[0]), range(cm.shape[1])):\n",
    "         plt.text(j, i, cm[i, j],horizontalalignment=\"center\",color=\"white\" if cm[i, j] > thresh else \"black\")\n",
    "         plt.tight_layout()\n",
    "         plt.ylabel('True label')\n",
    "         plt.xlabel('Predicted label')"
   ]
  },
  {
   "cell_type": "code",
   "execution_count": 220,
   "id": "4c5ecf3b",
   "metadata": {},
   "outputs": [],
   "source": [
    "pipelin=Pipeline([('scalar1',StandardScaler()),\n",
    "                     ('pca1',PCA(n_components=2)),\n",
    "                     ('lr_classifier',LogisticRegression(random_state=0))])"
   ]
  },
  {
   "cell_type": "code",
   "execution_count": 221,
   "id": "f09e26a4",
   "metadata": {},
   "outputs": [],
   "source": [
    "pipedes=Pipeline([('scalar2',StandardScaler()),\n",
    "                     ('pca2',PCA(n_components=2)),\n",
    "                     ('lr_classifier',DecisionTreeClassifier())])"
   ]
  },
  {
   "cell_type": "code",
   "execution_count": 222,
   "id": "0c570264",
   "metadata": {},
   "outputs": [],
   "source": [
    "\n",
    "pipeber=Pipeline([('scalar3',StandardScaler()),\n",
    "                     ('pca3',PCA(n_components=2)),\n",
    "                     ('rf_classifier',BernoulliNB())])\n",
    "\n"
   ]
  },
  {
   "cell_type": "code",
   "execution_count": 223,
   "id": "58f55d12",
   "metadata": {},
   "outputs": [],
   "source": [
    "piperan=Pipeline([('scalar3',StandardScaler()),\n",
    "                     ('pca3',PCA(n_components=2)),\n",
    "                     ('rf_classifier',RandomForestClassifier())])"
   ]
  },
  {
   "cell_type": "code",
   "execution_count": 224,
   "id": "3c207347",
   "metadata": {},
   "outputs": [],
   "source": [
    "pipexgb=Pipeline([('scalar3',StandardScaler()),\n",
    "                     ('pca3',PCA(n_components=2)),\n",
    "                     ('rf_classifier',XGBClassifier())])"
   ]
  },
  {
   "cell_type": "code",
   "execution_count": 227,
   "id": "2628f6d7",
   "metadata": {},
   "outputs": [],
   "source": [
    "# to list defined piplines \n",
    "piplines=pipelines = [pipelin, pipedes, piperan,pipeber,pipexgb]"
   ]
  },
  {
   "cell_type": "code",
   "execution_count": 228,
   "id": "28124818",
   "metadata": {},
   "outputs": [],
   "source": [
    "# Dictionary of pipelines and classifier types for ease of reference\n",
    "pipe_dict = {\n",
    "        0: 'Logistic Regression', \n",
    "        1: 'Decision Tree', \n",
    "        2: 'RandomForest',\n",
    "        3:'Bernouilli Naive Bias',\n",
    "        4:'XGBoost'\n",
    "      }\n",
    "\n",
    "# Fit the pipelines\n",
    "for pipe in pipelines:\n",
    "  pipe.fit(X_train, y_train)"
   ]
  },
  {
   "cell_type": "code",
   "execution_count": 229,
   "id": "2c101d87",
   "metadata": {},
   "outputs": [
    {
     "name": "stdout",
     "output_type": "stream",
     "text": [
      "Logistic Regression Test Accuracy: 0.52\n",
      "Decision Tree Test Accuracy: 0.552\n",
      "RandomForest Test Accuracy: 0.552\n",
      "Bernouilli Naive Bias Test Accuracy: 0.52\n",
      "XGBoost Test Accuracy: 0.544\n"
     ]
    }
   ],
   "source": [
    "for i,model in enumerate(pipelines):\n",
    "    print(\"{} Test Accuracy: {}\".format(pipe_dict[i],model.score(X_test,y_test)))"
   ]
  },
  {
   "cell_type": "code",
   "execution_count": null,
   "id": "b417c796",
   "metadata": {},
   "outputs": [],
   "source": []
  }
 ],
 "metadata": {
  "kernelspec": {
   "display_name": "Python 3 (ipykernel)",
   "language": "python",
   "name": "python3"
  },
  "language_info": {
   "codemirror_mode": {
    "name": "ipython",
    "version": 3
   },
   "file_extension": ".py",
   "mimetype": "text/x-python",
   "name": "python",
   "nbconvert_exporter": "python",
   "pygments_lexer": "ipython3",
   "version": "3.9.12"
  }
 },
 "nbformat": 4,
 "nbformat_minor": 5
}
