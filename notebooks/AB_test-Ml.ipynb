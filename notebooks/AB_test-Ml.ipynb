{
 "cells": [
  {
   "cell_type": "code",
   "execution_count": 18,
   "id": "02f20320",
   "metadata": {},
   "outputs": [],
   "source": [
    "# Import libraries for our task\n",
    "from sklearn.model_selection import train_test_split\n",
    "from sklearn.linear_model import LogisticRegression\n",
    "from sklearn.ensemble import RandomForestClassifier\n",
    "from sklearn.preprocessing import StandardScaler\n",
    "from sklearn.tree import DecisionTreeClassifier\n",
    "from sklearn.decomposition import PCA\n",
    "from sklearn.pipeline import Pipeline\n",
    "from sklearn import preprocessing\n",
    "\n",
    "import dvc.api\n",
    "import numpy as np\n",
    "import pandas as pd\n",
    "import seaborn as sns \n",
    "import plotly.express as px\n",
    "import plotly.graph_objects as go\n",
    "import matplotlib.pyplot as plt\n",
    "from plotly.subplots import make_subplots"
   ]
  },
  {
   "cell_type": "code",
   "execution_count": 8,
   "id": "437448f2",
   "metadata": {},
   "outputs": [],
   "source": [
    "# Import system libraries and our Scripts\n",
    "\n",
    "import os\n",
    "import sys\n",
    "import warnings\n",
    "warnings.filterwarnings('ignore')\n",
    "sys.path.append(os.path.abspath(os.path.join('../scripts')))\n",
    "from train_classifiers import TrainingClassifier"
   ]
  },
  {
   "cell_type": "code",
   "execution_count": 66,
   "id": "577452e6",
   "metadata": {},
   "outputs": [],
   "source": [
    "# Read AdSmart_AB_testing_data \n",
    "\n",
    "df  = pd.read_csv('../data/clean_data.csv')"
   ]
  },
  {
   "cell_type": "code",
   "execution_count": 67,
   "id": "3f05dd4a",
   "metadata": {},
   "outputs": [
    {
     "name": "stdout",
     "output_type": "stream",
     "text": [
      "<class 'pandas.core.frame.DataFrame'>\n",
      "RangeIndex: 1243 entries, 0 to 1242\n",
      "Data columns (total 9 columns):\n",
      " #   Column       Non-Null Count  Dtype \n",
      "---  ------       --------------  ----- \n",
      " 0   Unnamed: 0   1243 non-null   int64 \n",
      " 1   auction_id   1243 non-null   object\n",
      " 2   experiment   1243 non-null   object\n",
      " 3   date         1243 non-null   object\n",
      " 4   hour         1243 non-null   int64 \n",
      " 5   device_make  1243 non-null   object\n",
      " 6   platform_os  1243 non-null   int64 \n",
      " 7   browser      1243 non-null   object\n",
      " 8   aware        1243 non-null   int64 \n",
      "dtypes: int64(4), object(5)\n",
      "memory usage: 87.5+ KB\n"
     ]
    }
   ],
   "source": [
    "# The types and shape of data features in the dataset\n",
    "\n",
    "df.info()"
   ]
  },
  {
   "cell_type": "code",
   "execution_count": 43,
   "id": "50cbf5a8",
   "metadata": {},
   "outputs": [],
   "source": [
    "def encode_labels(df):\n",
    "    date_encoder = preprocessing.LabelEncoder()\n",
    "    device_encoder = preprocessing.LabelEncoder()\n",
    "    browser_encoder = preprocessing.LabelEncoder()\n",
    "    experiment_encoder = preprocessing.LabelEncoder()\n",
    "    aware_encoder = preprocessing.LabelEncoder()\n",
    "    \n",
    "    df['date'] = date_encoder.fit_transform(df['date'])\n",
    "    df['device_make'] = device_encoder.fit_transform(df['device_make'])\n",
    "    df['browser'] = browser_encoder.fit_transform(df['browser'])\n",
    "    df['experiment'] = experiment_encoder.fit_transform(df['experiment'])\n",
    "    df['browser'] = aware_encoder.fit_transform(df['browser'])\n",
    "    df['aware'] = aware_encoder.fit_transform(df['aware'])\n",
    "    \n",
    "    return df "
   ]
  },
  {
   "cell_type": "markdown",
   "id": "c6d53eef",
   "metadata": {},
   "source": [
    "### Task 2.2: ML modeling with MLOps\n"
   ]
  },
  {
   "cell_type": "code",
   "execution_count": 68,
   "id": "4af11f6b",
   "metadata": {},
   "outputs": [],
   "source": [
    "def feature_data(df):\n",
    "    \n",
    "    browser_feature_df = df[[\"experiment\", \"hour\", \"date\", 'device_make', 'browser', 'aware']] \n",
    "    platform_feature_df = df[[\"experiment\", \"hour\", \"date\", 'device_make', 'platform_os', 'aware']] \n",
    "\n",
    "    return browser_feature_df, platform_feature_df"
   ]
  },
  {
   "cell_type": "code",
   "execution_count": 69,
   "id": "23a6b5d0",
   "metadata": {},
   "outputs": [],
   "source": [
    "def save_encoded_df(df):\n",
    "    \n",
    "    broweser_df, platfrom_df = feature_data(df)\n",
    "    broweser_df.save_csv(\"../Data/browser_featured_data.csv\")\n",
    "    platfrom_df.save_csv(platfrom_df, \"../data/platform_featured_data.csv\") "
   ]
  },
  {
   "cell_type": "code",
   "execution_count": 70,
   "id": "08987e73",
   "metadata": {},
   "outputs": [],
   "source": [
    "#Split data by browser and platform_os, and version each split\n",
    "df = encode_labels(cleaned_data)\n",
    "cleaned_browser_df, cleaned_platform_df = feature_data(df)"
   ]
  },
  {
   "cell_type": "code",
   "execution_count": 71,
   "id": "e025bf19",
   "metadata": {},
   "outputs": [
    {
     "data": {
      "text/html": [
       "<div>\n",
       "<style scoped>\n",
       "    .dataframe tbody tr th:only-of-type {\n",
       "        vertical-align: middle;\n",
       "    }\n",
       "\n",
       "    .dataframe tbody tr th {\n",
       "        vertical-align: top;\n",
       "    }\n",
       "\n",
       "    .dataframe thead th {\n",
       "        text-align: right;\n",
       "    }\n",
       "</style>\n",
       "<table border=\"1\" class=\"dataframe\">\n",
       "  <thead>\n",
       "    <tr style=\"text-align: right;\">\n",
       "      <th></th>\n",
       "      <th>experiment</th>\n",
       "      <th>hour</th>\n",
       "      <th>date</th>\n",
       "      <th>device_make</th>\n",
       "      <th>browser</th>\n",
       "      <th>aware</th>\n",
       "    </tr>\n",
       "  </thead>\n",
       "  <tbody>\n",
       "    <tr>\n",
       "      <th>0</th>\n",
       "      <td>1</td>\n",
       "      <td>2</td>\n",
       "      <td>2</td>\n",
       "      <td>4</td>\n",
       "      <td>2</td>\n",
       "      <td>0</td>\n",
       "    </tr>\n",
       "    <tr>\n",
       "      <th>1</th>\n",
       "      <td>1</td>\n",
       "      <td>16</td>\n",
       "      <td>1</td>\n",
       "      <td>13</td>\n",
       "      <td>1</td>\n",
       "      <td>1</td>\n",
       "    </tr>\n",
       "    <tr>\n",
       "      <th>2</th>\n",
       "      <td>1</td>\n",
       "      <td>8</td>\n",
       "      <td>3</td>\n",
       "      <td>13</td>\n",
       "      <td>1</td>\n",
       "      <td>0</td>\n",
       "    </tr>\n",
       "    <tr>\n",
       "      <th>3</th>\n",
       "      <td>0</td>\n",
       "      <td>4</td>\n",
       "      <td>5</td>\n",
       "      <td>43</td>\n",
       "      <td>4</td>\n",
       "      <td>1</td>\n",
       "    </tr>\n",
       "    <tr>\n",
       "      <th>4</th>\n",
       "      <td>0</td>\n",
       "      <td>15</td>\n",
       "      <td>0</td>\n",
       "      <td>13</td>\n",
       "      <td>1</td>\n",
       "      <td>0</td>\n",
       "    </tr>\n",
       "  </tbody>\n",
       "</table>\n",
       "</div>"
      ],
      "text/plain": [
       "   experiment  hour  date  device_make  browser  aware\n",
       "0           1     2     2            4        2      0\n",
       "1           1    16     1           13        1      1\n",
       "2           1     8     3           13        1      0\n",
       "3           0     4     5           43        4      1\n",
       "4           0    15     0           13        1      0"
      ]
     },
     "execution_count": 71,
     "metadata": {},
     "output_type": "execute_result"
    }
   ],
   "source": [
    "cleaned_browser_df.head()"
   ]
  },
  {
   "cell_type": "code",
   "execution_count": 72,
   "id": "dd2afe1a",
   "metadata": {},
   "outputs": [],
   "source": [
    "# splitting data\n",
    "X = cleaned_browser_df.loc[:, cleaned_browser_df.columns != Y_col].columns\n",
    "y = 'aware'\n",
    "\n",
    "\n",
    "X_train,X_test,y_train,y_test=train_test_split(cleaned_browser_df[X], cleaned_browser_df[y],\\\n",
    "                                                test_size=0.1, random_state=42)"
   ]
  },
  {
   "cell_type": "markdown",
   "id": "e4a57b96",
   "metadata": {},
   "source": [
    "### Training Browser Featured Data\n"
   ]
  },
  {
   "cell_type": "code",
   "execution_count": 51,
   "id": "fa90213e",
   "metadata": {},
   "outputs": [],
   "source": [
    "##Training with Logistic Regression"
   ]
  },
  {
   "cell_type": "code",
   "execution_count": 73,
   "id": "17dac607",
   "metadata": {},
   "outputs": [
    {
     "name": "stdout",
     "output_type": "stream",
     "text": [
      "step 0: Validation Accuracy of Logistic Regression Classifier is: 0.545\n",
      "step 0: Validation Loss of Logistic Regression Classifier is: 0.675\n",
      "\n",
      "step 1: Validation Accuracy of Logistic Regression Classifier is: 0.527\n",
      "step 1: Validation Loss of Logistic Regression Classifier is: 0.688\n",
      "\n",
      "step 2: Validation Accuracy of Logistic Regression Classifier is: 0.554\n",
      "step 2: Validation Loss of Logistic Regression Classifier is: 0.668\n",
      "\n",
      "step 3: Validation Accuracy of Logistic Regression Classifier is: 0.543\n",
      "step 3: Validation Loss of Logistic Regression Classifier is: 0.676\n",
      "\n",
      "step 4: Validation Accuracy of Logistic Regression Classifier is: 0.574\n",
      "step 4: Validation Loss of Logistic Regression Classifier is: 0.653\n",
      "\n"
     ]
    }
   ],
   "source": [
    "LR = TrainingClassifier(X_train, X_test,  y_train, y_test, \"logistic_regression\")\n",
    "\n",
    "clf2, loss_arr_2, acc_arr_2 = LR.train(5)"
   ]
  },
  {
   "cell_type": "code",
   "execution_count": 74,
   "id": "d7db8751",
   "metadata": {},
   "outputs": [
    {
     "name": "stdout",
     "output_type": "stream",
     "text": [
      "step 1: Test Accuracy of Logistic Regression Classifier is: 0.552\n",
      "Test Metrics\n",
      "================\n",
      "              precision    recall  f1-score   support\n",
      "\n",
      "           0       0.89      0.54      0.67       107\n",
      "           1       0.18      0.61      0.28        18\n",
      "\n",
      "    accuracy                           0.55       125\n",
      "   macro avg       0.54      0.58      0.48       125\n",
      "weighted avg       0.79      0.55      0.62       125\n",
      "\n"
     ]
    },
    {
     "data": {
      "image/png": "[encoded data removed]",
      "text/plain": [
       "<Figure size 432x288 with 2 Axes>"
      ]
     },
     "metadata": {
      "needs_background": "light"
     },
     "output_type": "display_data"
    }
   ],
   "source": [
    "test_acc2, test_loss2, report2, matrix2  = LR.test()"
   ]
  },
  {
   "cell_type": "code",
   "execution_count": 75,
   "id": "b404761b",
   "metadata": {},
   "outputs": [
    {
     "data": {
      "image/png": "[encoded data removed]",
      "text/plain": [
       "<Figure size 864x504 with 1 Axes>"
      ]
     },
     "metadata": {
      "needs_background": "light"
     },
     "output_type": "display_data"
    },
    {
     "data": {
      "text/html": [
       "<div>\n",
       "<style scoped>\n",
       "    .dataframe tbody tr th:only-of-type {\n",
       "        vertical-align: middle;\n",
       "    }\n",
       "\n",
       "    .dataframe tbody tr th {\n",
       "        vertical-align: top;\n",
       "    }\n",
       "\n",
       "    .dataframe thead th {\n",
       "        text-align: right;\n",
       "    }\n",
       "</style>\n",
       "<table border=\"1\" class=\"dataframe\">\n",
       "  <thead>\n",
       "    <tr style=\"text-align: right;\">\n",
       "      <th></th>\n",
       "      <th>features</th>\n",
       "      <th>p_values</th>\n",
       "    </tr>\n",
       "  </thead>\n",
       "  <tbody>\n",
       "    <tr>\n",
       "      <th>0</th>\n",
       "      <td>experiment</td>\n",
       "      <td>0.321315</td>\n",
       "    </tr>\n",
       "    <tr>\n",
       "      <th>1</th>\n",
       "      <td>hour</td>\n",
       "      <td>0.003776</td>\n",
       "    </tr>\n",
       "    <tr>\n",
       "      <th>2</th>\n",
       "      <td>date</td>\n",
       "      <td>0.449766</td>\n",
       "    </tr>\n",
       "    <tr>\n",
       "      <th>3</th>\n",
       "      <td>device_make</td>\n",
       "      <td>0.230609</td>\n",
       "    </tr>\n",
       "    <tr>\n",
       "      <th>4</th>\n",
       "      <td>browser</td>\n",
       "      <td>0.408101</td>\n",
       "    </tr>\n",
       "  </tbody>\n",
       "</table>\n",
       "</div>"
      ],
      "text/plain": [
       "      features  p_values\n",
       "0   experiment  0.321315\n",
       "1         hour  0.003776\n",
       "2         date  0.449766\n",
       "3  device_make  0.230609\n",
       "4      browser  0.408101"
      ]
     },
     "execution_count": 75,
     "metadata": {},
     "output_type": "execute_result"
    }
   ],
   "source": [
    "# based on logistic regression\n",
    "p_values_df = LR.get_p_values()\n",
    "LR.plot_pvalues(p_values_df)\n",
    "p_values_df"
   ]
  },
  {
   "cell_type": "markdown",
   "id": "07b964bd",
   "metadata": {},
   "source": [
    "The P-value for experiment is 0.3. It is not that much significant, since our significance level is 0.05. Hour is the most important predictor for the Logestic Regression Model with p value 0.001, it is then follwed by device_make then experiment. The least predictor for the Logestic Regression Model is date"
   ]
  },
  {
   "cell_type": "code",
   "execution_count": 83,
   "id": "a5a58a60",
   "metadata": {},
   "outputs": [
    {
     "name": "stdout",
     "output_type": "stream",
     "text": [
      "step 0: Validation Accuracy of Random Forest Classifier is: 0.540\n",
      "step 0: Validation Loss of Random Forest Classifier is: 0.678\n",
      "\n",
      "step 1: Validation Accuracy of Random Forest Classifier is: 0.531\n",
      "step 1: Validation Loss of Random Forest Classifier is: 0.685\n",
      "\n",
      "step 2: Validation Accuracy of Random Forest Classifier is: 0.536\n",
      "step 2: Validation Loss of Random Forest Classifier is: 0.681\n",
      "\n",
      "step 3: Validation Accuracy of Random Forest Classifier is: 0.480\n",
      "step 3: Validation Loss of Random Forest Classifier is: 0.721\n",
      "\n",
      "step 4: Validation Accuracy of Random Forest Classifier is: 0.578\n",
      "step 4: Validation Loss of Random Forest Classifier is: 0.649\n",
      "\n"
     ]
    }
   ],
   "source": [
    "#Training with RandomForest\n",
    "RF = TrainingClassifier(X_train, X_test,  y_train, y_test, \"random_forest\")\n",
    "\n",
    "clf2, loss_arr_2, acc_arr_2 = RF.train(5)"
   ]
  },
  {
   "cell_type": "code",
   "execution_count": 84,
   "id": "83183f96",
   "metadata": {},
   "outputs": [
    {
     "name": "stdout",
     "output_type": "stream",
     "text": [
      "step 1: Test Accuracy of Random Forest Classifier is: 0.504\n",
      "Test Metrics\n",
      "================\n",
      "              precision    recall  f1-score   support\n",
      "\n",
      "           0       0.63      0.52      0.57        79\n",
      "           1       0.37      0.48      0.42        46\n",
      "\n",
      "    accuracy                           0.50       125\n",
      "   macro avg       0.50      0.50      0.49       125\n",
      "weighted avg       0.53      0.50      0.51       125\n",
      "\n",
      "Loss on test data is: 0.704\n",
      "\n"
     ]
    },
    {
     "data": {
      "image/png": "[encoded data removed]",
      "text/plain": [
       "<Figure size 432x288 with 2 Axes>"
      ]
     },
     "metadata": {
      "needs_background": "light"
     },
     "output_type": "display_data"
    }
   ],
   "source": [
    "test_acc, loss, report, confusion_matrix = RF.test()\n",
    "print(f\"Loss on test data is: {loss:.3f}\")\n",
    "print()"
   ]
  },
  {
   "cell_type": "code",
   "execution_count": 85,
   "id": "d9c003a8",
   "metadata": {},
   "outputs": [
    {
     "data": {
      "text/html": [
       "<div>\n",
       "<style scoped>\n",
       "    .dataframe tbody tr th:only-of-type {\n",
       "        vertical-align: middle;\n",
       "    }\n",
       "\n",
       "    .dataframe tbody tr th {\n",
       "        vertical-align: top;\n",
       "    }\n",
       "\n",
       "    .dataframe thead th {\n",
       "        text-align: right;\n",
       "    }\n",
       "</style>\n",
       "<table border=\"1\" class=\"dataframe\">\n",
       "  <thead>\n",
       "    <tr style=\"text-align: right;\">\n",
       "      <th></th>\n",
       "      <th>feature</th>\n",
       "      <th>feature_importances</th>\n",
       "    </tr>\n",
       "  </thead>\n",
       "  <tbody>\n",
       "    <tr>\n",
       "      <th>0</th>\n",
       "      <td>experiment</td>\n",
       "      <td>0.053350</td>\n",
       "    </tr>\n",
       "    <tr>\n",
       "      <th>1</th>\n",
       "      <td>hour</td>\n",
       "      <td>0.380625</td>\n",
       "    </tr>\n",
       "    <tr>\n",
       "      <th>2</th>\n",
       "      <td>date</td>\n",
       "      <td>0.207642</td>\n",
       "    </tr>\n",
       "    <tr>\n",
       "      <th>3</th>\n",
       "      <td>device_make</td>\n",
       "      <td>0.277869</td>\n",
       "    </tr>\n",
       "    <tr>\n",
       "      <th>4</th>\n",
       "      <td>browser</td>\n",
       "      <td>0.080515</td>\n",
       "    </tr>\n",
       "  </tbody>\n",
       "</table>\n",
       "</div>"
      ],
      "text/plain": [
       "       feature  feature_importances\n",
       "0   experiment             0.053350\n",
       "1         hour             0.380625\n",
       "2         date             0.207642\n",
       "3  device_make             0.277869\n",
       "4      browser             0.080515"
      ]
     },
     "execution_count": 85,
     "metadata": {},
     "output_type": "execute_result"
    }
   ],
   "source": [
    "RF.get_feature_importance()"
   ]
  },
  {
   "cell_type": "code",
   "execution_count": 86,
   "id": "8b7a12bd",
   "metadata": {},
   "outputs": [
    {
     "name": "stdout",
     "output_type": "stream",
     "text": [
      "step 0: Validation Accuracy of XGBoost Classifier is: 0.554\n",
      "step 0: Validation Loss of XGBoost Classifier is: 0.668\n",
      "\n",
      "step 1: Validation Accuracy of XGBoost Classifier is: 0.558\n",
      "step 1: Validation Loss of XGBoost Classifier is: 0.665\n",
      "\n",
      "step 2: Validation Accuracy of XGBoost Classifier is: 0.580\n",
      "step 2: Validation Loss of XGBoost Classifier is: 0.648\n",
      "\n",
      "step 3: Validation Accuracy of XGBoost Classifier is: 0.480\n",
      "step 3: Validation Loss of XGBoost Classifier is: 0.721\n",
      "\n",
      "step 4: Validation Accuracy of XGBoost Classifier is: 0.583\n",
      "step 4: Validation Loss of XGBoost Classifier is: 0.646\n",
      "\n"
     ]
    }
   ],
   "source": [
    "# XGBoost\n",
    "XG = TrainingClassifier(X_train, X_test,  y_train, y_test, \"xgboost\")\n",
    "clf, acc_arr, loss_arr = XG.train(5)"
   ]
  },
  {
   "cell_type": "code",
   "execution_count": 87,
   "id": "d863c7cd",
   "metadata": {},
   "outputs": [
    {
     "name": "stdout",
     "output_type": "stream",
     "text": [
      "step 1: Test Accuracy of XGBoost Classifier is: 0.504\n",
      "Test Metrics\n",
      "================\n",
      "              precision    recall  f1-score   support\n",
      "\n",
      "           0       0.66      0.52      0.58        83\n",
      "           1       0.33      0.48      0.39        42\n",
      "\n",
      "    accuracy                           0.50       125\n",
      "   macro avg       0.50      0.50      0.49       125\n",
      "weighted avg       0.55      0.50      0.52       125\n",
      "\n",
      "Loss on test data is: 0.704\n",
      "\n"
     ]
    },
    {
     "data": {
      "image/png": "[encoded data removed]",
      "text/plain": [
       "<Figure size 432x288 with 2 Axes>"
      ]
     },
     "metadata": {
      "needs_background": "light"
     },
     "output_type": "display_data"
    }
   ],
   "source": [
    "test_acc, loss, report, confusion_matrix = XG.test()\n",
    "print(f\"Loss on test data is: {loss:.3f}\")\n",
    "print()"
   ]
  },
  {
   "cell_type": "code",
   "execution_count": 88,
   "id": "705b9dee",
   "metadata": {},
   "outputs": [
    {
     "data": {
      "image/png": "[encoded data removed]",
      "text/plain": [
       "<Figure size 864x504 with 1 Axes>"
      ]
     },
     "metadata": {
      "needs_background": "light"
     },
     "output_type": "display_data"
    },
    {
     "data": {
      "text/html": [
       "<div>\n",
       "<style scoped>\n",
       "    .dataframe tbody tr th:only-of-type {\n",
       "        vertical-align: middle;\n",
       "    }\n",
       "\n",
       "    .dataframe tbody tr th {\n",
       "        vertical-align: top;\n",
       "    }\n",
       "\n",
       "    .dataframe thead th {\n",
       "        text-align: right;\n",
       "    }\n",
       "</style>\n",
       "<table border=\"1\" class=\"dataframe\">\n",
       "  <thead>\n",
       "    <tr style=\"text-align: right;\">\n",
       "      <th></th>\n",
       "      <th>features</th>\n",
       "      <th>p_values</th>\n",
       "    </tr>\n",
       "  </thead>\n",
       "  <tbody>\n",
       "    <tr>\n",
       "      <th>0</th>\n",
       "      <td>experiment</td>\n",
       "      <td>0.321315</td>\n",
       "    </tr>\n",
       "    <tr>\n",
       "      <th>1</th>\n",
       "      <td>hour</td>\n",
       "      <td>0.003776</td>\n",
       "    </tr>\n",
       "    <tr>\n",
       "      <th>2</th>\n",
       "      <td>date</td>\n",
       "      <td>0.449766</td>\n",
       "    </tr>\n",
       "    <tr>\n",
       "      <th>3</th>\n",
       "      <td>device_make</td>\n",
       "      <td>0.230609</td>\n",
       "    </tr>\n",
       "    <tr>\n",
       "      <th>4</th>\n",
       "      <td>browser</td>\n",
       "      <td>0.408101</td>\n",
       "    </tr>\n",
       "  </tbody>\n",
       "</table>\n",
       "</div>"
      ],
      "text/plain": [
       "      features  p_values\n",
       "0   experiment  0.321315\n",
       "1         hour  0.003776\n",
       "2         date  0.449766\n",
       "3  device_make  0.230609\n",
       "4      browser  0.408101"
      ]
     },
     "execution_count": 88,
     "metadata": {},
     "output_type": "execute_result"
    }
   ],
   "source": [
    "XG.plot_pvalues(p_values_df)\n",
    "p_values_df"
   ]
  },
  {
   "cell_type": "markdown",
   "id": "cfc32690",
   "metadata": {},
   "source": [
    "# conculsusion \n",
    "Based on the above experment features selection based on their important are depends on the model"
   ]
  },
  {
   "cell_type": "markdown",
   "id": "f9e7198c",
   "metadata": {},
   "source": [
    "## parameters Tunning "
   ]
  },
  {
   "cell_type": "code",
   "execution_count": 92,
   "id": "a9cfb99c",
   "metadata": {},
   "outputs": [],
   "source": [
    "xgb_params={\n",
    "    \"learning_rate\":[0.05,0.10,0.15,0.20,0.25,0.30],\n",
    "    \"max_depth\":[3,4,5,6,8,10,12,15],\n",
    "    \"min_child_weight\":[1,3,5,7],\n",
    "    \"gamma\":[0.0,0.1,0.2,0.3,0.4],\n",
    "    \"colsample_bytree\":[0.3,0.4,0.5,0.7]\n",
    "}"
   ]
  },
  {
   "cell_type": "code",
   "execution_count": 96,
   "id": "0cd68ae8",
   "metadata": {},
   "outputs": [
    {
     "data": {
      "text/html": [
       "<div>\n",
       "<style scoped>\n",
       "    .dataframe tbody tr th:only-of-type {\n",
       "        vertical-align: middle;\n",
       "    }\n",
       "\n",
       "    .dataframe tbody tr th {\n",
       "        vertical-align: top;\n",
       "    }\n",
       "\n",
       "    .dataframe thead th {\n",
       "        text-align: right;\n",
       "    }\n",
       "</style>\n",
       "<table border=\"1\" class=\"dataframe\">\n",
       "  <thead>\n",
       "    <tr style=\"text-align: right;\">\n",
       "      <th></th>\n",
       "      <th>Unnamed: 0</th>\n",
       "      <th>experiment</th>\n",
       "      <th>date</th>\n",
       "      <th>hour</th>\n",
       "      <th>device_make</th>\n",
       "      <th>platform_os</th>\n",
       "      <th>browser</th>\n",
       "      <th>aware</th>\n",
       "    </tr>\n",
       "  </thead>\n",
       "  <tbody>\n",
       "    <tr>\n",
       "      <th>0</th>\n",
       "      <td>2</td>\n",
       "      <td>1</td>\n",
       "      <td>2</td>\n",
       "      <td>2</td>\n",
       "      <td>4</td>\n",
       "      <td>6</td>\n",
       "      <td>2</td>\n",
       "      <td>0</td>\n",
       "    </tr>\n",
       "    <tr>\n",
       "      <th>1</th>\n",
       "      <td>16</td>\n",
       "      <td>1</td>\n",
       "      <td>1</td>\n",
       "      <td>16</td>\n",
       "      <td>13</td>\n",
       "      <td>6</td>\n",
       "      <td>1</td>\n",
       "      <td>1</td>\n",
       "    </tr>\n",
       "  </tbody>\n",
       "</table>\n",
       "</div>"
      ],
      "text/plain": [
       "   Unnamed: 0  experiment  date  hour  device_make  platform_os  browser  \\\n",
       "0           2           1     2     2            4            6        2   \n",
       "1          16           1     1    16           13            6        1   \n",
       "\n",
       "   aware  \n",
       "0      0  \n",
       "1      1  "
      ]
     },
     "execution_count": 96,
     "metadata": {},
     "output_type": "execute_result"
    }
   ],
   "source": [
    "df.head(2)"
   ]
  },
  {
   "cell_type": "code",
   "execution_count": 93,
   "id": "eb2b863a",
   "metadata": {},
   "outputs": [],
   "source": [
    "from sklearn.model_selection import RandomizedSearchCV"
   ]
  },
  {
   "cell_type": "code",
   "execution_count": 99,
   "id": "6fabd923",
   "metadata": {},
   "outputs": [
    {
     "name": "stdout",
     "output_type": "stream",
     "text": [
      "Fitting 10 folds for each of 10 candidates, totalling 100 fits\n",
      "[CV 1/10; 1/10] START colsample_bytree=0.4, gamma=0.2, learning_rate=0.1, max_depth=4, min_child_weight=1\n",
      "[CV 1/10; 1/10] END colsample_bytree=0.4, gamma=0.2, learning_rate=0.1, max_depth=4, min_child_weight=1;, score=0.527 total time=   0.1s\n",
      "[CV 2/10; 1/10] START colsample_bytree=0.4, gamma=0.2, learning_rate=0.1, max_depth=4, min_child_weight=1\n",
      "[CV 2/10; 1/10] END colsample_bytree=0.4, gamma=0.2, learning_rate=0.1, max_depth=4, min_child_weight=1;, score=0.545 total time=   0.1s\n",
      "[CV 3/10; 1/10] START colsample_bytree=0.4, gamma=0.2, learning_rate=0.1, max_depth=4, min_child_weight=1\n",
      "[CV 3/10; 1/10] END colsample_bytree=0.4, gamma=0.2, learning_rate=0.1, max_depth=4, min_child_weight=1;, score=0.464 total time=   0.0s\n",
      "[CV 4/10; 1/10] START colsample_bytree=0.4, gamma=0.2, learning_rate=0.1, max_depth=4, min_child_weight=1\n",
      "[CV 4/10; 1/10] END colsample_bytree=0.4, gamma=0.2, learning_rate=0.1, max_depth=4, min_child_weight=1;, score=0.509 total time=   0.1s\n",
      "[CV 5/10; 1/10] START colsample_bytree=0.4, gamma=0.2, learning_rate=0.1, max_depth=4, min_child_weight=1\n",
      "[CV 5/10; 1/10] END colsample_bytree=0.4, gamma=0.2, learning_rate=0.1, max_depth=4, min_child_weight=1;, score=0.571 total time=   0.1s\n",
      "[CV 6/10; 1/10] START colsample_bytree=0.4, gamma=0.2, learning_rate=0.1, max_depth=4, min_child_weight=1\n",
      "[CV 6/10; 1/10] END colsample_bytree=0.4, gamma=0.2, learning_rate=0.1, max_depth=4, min_child_weight=1;, score=0.571 total time=   0.1s\n",
      "[CV 7/10; 1/10] START colsample_bytree=0.4, gamma=0.2, learning_rate=0.1, max_depth=4, min_child_weight=1\n",
      "[CV 7/10; 1/10] END colsample_bytree=0.4, gamma=0.2, learning_rate=0.1, max_depth=4, min_child_weight=1;, score=0.509 total time=   0.1s\n",
      "[CV 8/10; 1/10] START colsample_bytree=0.4, gamma=0.2, learning_rate=0.1, max_depth=4, min_child_weight=1\n",
      "[CV 8/10; 1/10] END colsample_bytree=0.4, gamma=0.2, learning_rate=0.1, max_depth=4, min_child_weight=1;, score=0.518 total time=   0.1s\n",
      "[CV 9/10; 1/10] START colsample_bytree=0.4, gamma=0.2, learning_rate=0.1, max_depth=4, min_child_weight=1\n",
      "[CV 9/10; 1/10] END colsample_bytree=0.4, gamma=0.2, learning_rate=0.1, max_depth=4, min_child_weight=1;, score=0.613 total time=   0.1s\n",
      "[CV 10/10; 1/10] START colsample_bytree=0.4, gamma=0.2, learning_rate=0.1, max_depth=4, min_child_weight=1\n",
      "[CV 10/10; 1/10] END colsample_bytree=0.4, gamma=0.2, learning_rate=0.1, max_depth=4, min_child_weight=1;, score=0.550 total time=   0.1s\n",
      "[CV 1/10; 2/10] START colsample_bytree=0.3, gamma=0.0, learning_rate=0.05, max_depth=15, min_child_weight=1\n",
      "[CV 1/10; 2/10] END colsample_bytree=0.3, gamma=0.0, learning_rate=0.05, max_depth=15, min_child_weight=1;, score=0.536 total time=   0.1s\n",
      "[CV 2/10; 2/10] START colsample_bytree=0.3, gamma=0.0, learning_rate=0.05, max_depth=15, min_child_weight=1\n",
      "[CV 2/10; 2/10] END colsample_bytree=0.3, gamma=0.0, learning_rate=0.05, max_depth=15, min_child_weight=1;, score=0.580 total time=   0.1s\n",
      "[CV 3/10; 2/10] START colsample_bytree=0.3, gamma=0.0, learning_rate=0.05, max_depth=15, min_child_weight=1\n",
      "[CV 3/10; 2/10] END colsample_bytree=0.3, gamma=0.0, learning_rate=0.05, max_depth=15, min_child_weight=1;, score=0.527 total time=   0.1s\n",
      "[CV 4/10; 2/10] START colsample_bytree=0.3, gamma=0.0, learning_rate=0.05, max_depth=15, min_child_weight=1\n",
      "[CV 4/10; 2/10] END colsample_bytree=0.3, gamma=0.0, learning_rate=0.05, max_depth=15, min_child_weight=1;, score=0.509 total time=   0.1s\n",
      "[CV 5/10; 2/10] START colsample_bytree=0.3, gamma=0.0, learning_rate=0.05, max_depth=15, min_child_weight=1\n",
      "[CV 5/10; 2/10] END colsample_bytree=0.3, gamma=0.0, learning_rate=0.05, max_depth=15, min_child_weight=1;, score=0.607 total time=   0.1s\n",
      "[CV 6/10; 2/10] START colsample_bytree=0.3, gamma=0.0, learning_rate=0.05, max_depth=15, min_child_weight=1\n",
      "[CV 6/10; 2/10] END colsample_bytree=0.3, gamma=0.0, learning_rate=0.05, max_depth=15, min_child_weight=1;, score=0.598 total time=   0.1s\n",
      "[CV 7/10; 2/10] START colsample_bytree=0.3, gamma=0.0, learning_rate=0.05, max_depth=15, min_child_weight=1\n",
      "[CV 7/10; 2/10] END colsample_bytree=0.3, gamma=0.0, learning_rate=0.05, max_depth=15, min_child_weight=1;, score=0.545 total time=   0.1s\n",
      "[CV 8/10; 2/10] START colsample_bytree=0.3, gamma=0.0, learning_rate=0.05, max_depth=15, min_child_weight=1\n",
      "[CV 8/10; 2/10] END colsample_bytree=0.3, gamma=0.0, learning_rate=0.05, max_depth=15, min_child_weight=1;, score=0.545 total time=   0.1s\n",
      "[CV 9/10; 2/10] START colsample_bytree=0.3, gamma=0.0, learning_rate=0.05, max_depth=15, min_child_weight=1\n",
      "[CV 9/10; 2/10] END colsample_bytree=0.3, gamma=0.0, learning_rate=0.05, max_depth=15, min_child_weight=1;, score=0.604 total time=   0.1s\n",
      "[CV 10/10; 2/10] START colsample_bytree=0.3, gamma=0.0, learning_rate=0.05, max_depth=15, min_child_weight=1\n",
      "[CV 10/10; 2/10] END colsample_bytree=0.3, gamma=0.0, learning_rate=0.05, max_depth=15, min_child_weight=1;, score=0.568 total time=   0.1s\n",
      "[CV 1/10; 3/10] START colsample_bytree=0.5, gamma=0.2, learning_rate=0.15, max_depth=8, min_child_weight=5\n",
      "[CV 1/10; 3/10] END colsample_bytree=0.5, gamma=0.2, learning_rate=0.15, max_depth=8, min_child_weight=5;, score=0.562 total time=   0.1s\n",
      "[CV 2/10; 3/10] START colsample_bytree=0.5, gamma=0.2, learning_rate=0.15, max_depth=8, min_child_weight=5\n",
      "[CV 2/10; 3/10] END colsample_bytree=0.5, gamma=0.2, learning_rate=0.15, max_depth=8, min_child_weight=5;, score=0.580 total time=   0.1s\n",
      "[CV 3/10; 3/10] START colsample_bytree=0.5, gamma=0.2, learning_rate=0.15, max_depth=8, min_child_weight=5\n",
      "[CV 3/10; 3/10] END colsample_bytree=0.5, gamma=0.2, learning_rate=0.15, max_depth=8, min_child_weight=5;, score=0.464 total time=   0.1s\n",
      "[CV 4/10; 3/10] START colsample_bytree=0.5, gamma=0.2, learning_rate=0.15, max_depth=8, min_child_weight=5\n",
      "[CV 4/10; 3/10] END colsample_bytree=0.5, gamma=0.2, learning_rate=0.15, max_depth=8, min_child_weight=5;, score=0.554 total time=   0.1s\n",
      "[CV 5/10; 3/10] START colsample_bytree=0.5, gamma=0.2, learning_rate=0.15, max_depth=8, min_child_weight=5\n",
      "[CV 5/10; 3/10] END colsample_bytree=0.5, gamma=0.2, learning_rate=0.15, max_depth=8, min_child_weight=5;, score=0.554 total time=   0.1s\n",
      "[CV 6/10; 3/10] START colsample_bytree=0.5, gamma=0.2, learning_rate=0.15, max_depth=8, min_child_weight=5\n",
      "[CV 6/10; 3/10] END colsample_bytree=0.5, gamma=0.2, learning_rate=0.15, max_depth=8, min_child_weight=5;, score=0.562 total time=   0.1s\n",
      "[CV 7/10; 3/10] START colsample_bytree=0.5, gamma=0.2, learning_rate=0.15, max_depth=8, min_child_weight=5\n",
      "[CV 7/10; 3/10] END colsample_bytree=0.5, gamma=0.2, learning_rate=0.15, max_depth=8, min_child_weight=5;, score=0.482 total time=   0.1s\n",
      "[CV 8/10; 3/10] START colsample_bytree=0.5, gamma=0.2, learning_rate=0.15, max_depth=8, min_child_weight=5\n",
      "[CV 8/10; 3/10] END colsample_bytree=0.5, gamma=0.2, learning_rate=0.15, max_depth=8, min_child_weight=5;, score=0.571 total time=   0.1s\n",
      "[CV 9/10; 3/10] START colsample_bytree=0.5, gamma=0.2, learning_rate=0.15, max_depth=8, min_child_weight=5\n",
      "[CV 9/10; 3/10] END colsample_bytree=0.5, gamma=0.2, learning_rate=0.15, max_depth=8, min_child_weight=5;, score=0.559 total time=   0.1s\n",
      "[CV 10/10; 3/10] START colsample_bytree=0.5, gamma=0.2, learning_rate=0.15, max_depth=8, min_child_weight=5\n",
      "[CV 10/10; 3/10] END colsample_bytree=0.5, gamma=0.2, learning_rate=0.15, max_depth=8, min_child_weight=5;, score=0.550 total time=   0.1s\n",
      "[CV 1/10; 4/10] START colsample_bytree=0.4, gamma=0.0, learning_rate=0.15, max_depth=5, min_child_weight=5\n",
      "[CV 1/10; 4/10] END colsample_bytree=0.4, gamma=0.0, learning_rate=0.15, max_depth=5, min_child_weight=5;, score=0.500 total time=   0.1s\n",
      "[CV 2/10; 4/10] START colsample_bytree=0.4, gamma=0.0, learning_rate=0.15, max_depth=5, min_child_weight=5\n",
      "[CV 2/10; 4/10] END colsample_bytree=0.4, gamma=0.0, learning_rate=0.15, max_depth=5, min_child_weight=5;, score=0.571 total time=   0.1s\n",
      "[CV 3/10; 4/10] START colsample_bytree=0.4, gamma=0.0, learning_rate=0.15, max_depth=5, min_child_weight=5\n",
      "[CV 3/10; 4/10] END colsample_bytree=0.4, gamma=0.0, learning_rate=0.15, max_depth=5, min_child_weight=5;, score=0.473 total time=   0.1s\n"
     ]
    },
    {
     "name": "stdout",
     "output_type": "stream",
     "text": [
      "[CV 4/10; 4/10] START colsample_bytree=0.4, gamma=0.0, learning_rate=0.15, max_depth=5, min_child_weight=5\n",
      "[CV 4/10; 4/10] END colsample_bytree=0.4, gamma=0.0, learning_rate=0.15, max_depth=5, min_child_weight=5;, score=0.571 total time=   0.1s\n",
      "[CV 5/10; 4/10] START colsample_bytree=0.4, gamma=0.0, learning_rate=0.15, max_depth=5, min_child_weight=5\n",
      "[CV 5/10; 4/10] END colsample_bytree=0.4, gamma=0.0, learning_rate=0.15, max_depth=5, min_child_weight=5;, score=0.580 total time=   0.1s\n",
      "[CV 6/10; 4/10] START colsample_bytree=0.4, gamma=0.0, learning_rate=0.15, max_depth=5, min_child_weight=5\n",
      "[CV 6/10; 4/10] END colsample_bytree=0.4, gamma=0.0, learning_rate=0.15, max_depth=5, min_child_weight=5;, score=0.554 total time=   0.1s\n",
      "[CV 7/10; 4/10] START colsample_bytree=0.4, gamma=0.0, learning_rate=0.15, max_depth=5, min_child_weight=5\n",
      "[CV 7/10; 4/10] END colsample_bytree=0.4, gamma=0.0, learning_rate=0.15, max_depth=5, min_child_weight=5;, score=0.536 total time=   0.1s\n",
      "[CV 8/10; 4/10] START colsample_bytree=0.4, gamma=0.0, learning_rate=0.15, max_depth=5, min_child_weight=5\n",
      "[CV 8/10; 4/10] END colsample_bytree=0.4, gamma=0.0, learning_rate=0.15, max_depth=5, min_child_weight=5;, score=0.545 total time=   0.1s\n",
      "[CV 9/10; 4/10] START colsample_bytree=0.4, gamma=0.0, learning_rate=0.15, max_depth=5, min_child_weight=5\n",
      "[CV 9/10; 4/10] END colsample_bytree=0.4, gamma=0.0, learning_rate=0.15, max_depth=5, min_child_weight=5;, score=0.559 total time=   0.1s\n",
      "[CV 10/10; 4/10] START colsample_bytree=0.4, gamma=0.0, learning_rate=0.15, max_depth=5, min_child_weight=5\n",
      "[CV 10/10; 4/10] END colsample_bytree=0.4, gamma=0.0, learning_rate=0.15, max_depth=5, min_child_weight=5;, score=0.550 total time=   0.1s\n",
      "[CV 1/10; 5/10] START colsample_bytree=0.5, gamma=0.3, learning_rate=0.15, max_depth=12, min_child_weight=3\n",
      "[CV 1/10; 5/10] END colsample_bytree=0.5, gamma=0.3, learning_rate=0.15, max_depth=12, min_child_weight=3;, score=0.562 total time=   0.1s\n",
      "[CV 2/10; 5/10] START colsample_bytree=0.5, gamma=0.3, learning_rate=0.15, max_depth=12, min_child_weight=3\n",
      "[CV 2/10; 5/10] END colsample_bytree=0.5, gamma=0.3, learning_rate=0.15, max_depth=12, min_child_weight=3;, score=0.571 total time=   0.1s\n",
      "[CV 3/10; 5/10] START colsample_bytree=0.5, gamma=0.3, learning_rate=0.15, max_depth=12, min_child_weight=3\n",
      "[CV 3/10; 5/10] END colsample_bytree=0.5, gamma=0.3, learning_rate=0.15, max_depth=12, min_child_weight=3;, score=0.482 total time=   0.1s\n",
      "[CV 4/10; 5/10] START colsample_bytree=0.5, gamma=0.3, learning_rate=0.15, max_depth=12, min_child_weight=3\n",
      "[CV 4/10; 5/10] END colsample_bytree=0.5, gamma=0.3, learning_rate=0.15, max_depth=12, min_child_weight=3;, score=0.536 total time=   0.2s\n",
      "[CV 5/10; 5/10] START colsample_bytree=0.5, gamma=0.3, learning_rate=0.15, max_depth=12, min_child_weight=3\n",
      "[CV 5/10; 5/10] END colsample_bytree=0.5, gamma=0.3, learning_rate=0.15, max_depth=12, min_child_weight=3;, score=0.571 total time=   0.1s\n",
      "[CV 6/10; 5/10] START colsample_bytree=0.5, gamma=0.3, learning_rate=0.15, max_depth=12, min_child_weight=3\n",
      "[CV 6/10; 5/10] END colsample_bytree=0.5, gamma=0.3, learning_rate=0.15, max_depth=12, min_child_weight=3;, score=0.554 total time=   0.1s\n",
      "[CV 7/10; 5/10] START colsample_bytree=0.5, gamma=0.3, learning_rate=0.15, max_depth=12, min_child_weight=3\n",
      "[CV 7/10; 5/10] END colsample_bytree=0.5, gamma=0.3, learning_rate=0.15, max_depth=12, min_child_weight=3;, score=0.491 total time=   0.2s\n",
      "[CV 8/10; 5/10] START colsample_bytree=0.5, gamma=0.3, learning_rate=0.15, max_depth=12, min_child_weight=3\n",
      "[CV 8/10; 5/10] END colsample_bytree=0.5, gamma=0.3, learning_rate=0.15, max_depth=12, min_child_weight=3;, score=0.518 total time=   0.2s\n",
      "[CV 9/10; 5/10] START colsample_bytree=0.5, gamma=0.3, learning_rate=0.15, max_depth=12, min_child_weight=3\n",
      "[CV 9/10; 5/10] END colsample_bytree=0.5, gamma=0.3, learning_rate=0.15, max_depth=12, min_child_weight=3;, score=0.604 total time=   0.2s\n",
      "[CV 10/10; 5/10] START colsample_bytree=0.5, gamma=0.3, learning_rate=0.15, max_depth=12, min_child_weight=3\n",
      "[CV 10/10; 5/10] END colsample_bytree=0.5, gamma=0.3, learning_rate=0.15, max_depth=12, min_child_weight=3;, score=0.532 total time=   0.2s\n",
      "[CV 1/10; 6/10] START colsample_bytree=0.3, gamma=0.3, learning_rate=0.25, max_depth=4, min_child_weight=7\n",
      "[CV 1/10; 6/10] END colsample_bytree=0.3, gamma=0.3, learning_rate=0.25, max_depth=4, min_child_weight=7;, score=0.509 total time=   0.0s\n",
      "[CV 2/10; 6/10] START colsample_bytree=0.3, gamma=0.3, learning_rate=0.25, max_depth=4, min_child_weight=7\n",
      "[CV 2/10; 6/10] END colsample_bytree=0.3, gamma=0.3, learning_rate=0.25, max_depth=4, min_child_weight=7;, score=0.562 total time=   0.0s\n",
      "[CV 3/10; 6/10] START colsample_bytree=0.3, gamma=0.3, learning_rate=0.25, max_depth=4, min_child_weight=7\n",
      "[CV 3/10; 6/10] END colsample_bytree=0.3, gamma=0.3, learning_rate=0.25, max_depth=4, min_child_weight=7;, score=0.545 total time=   0.0s\n",
      "[CV 4/10; 6/10] START colsample_bytree=0.3, gamma=0.3, learning_rate=0.25, max_depth=4, min_child_weight=7\n",
      "[CV 4/10; 6/10] END colsample_bytree=0.3, gamma=0.3, learning_rate=0.25, max_depth=4, min_child_weight=7;, score=0.545 total time=   0.1s\n",
      "[CV 5/10; 6/10] START colsample_bytree=0.3, gamma=0.3, learning_rate=0.25, max_depth=4, min_child_weight=7\n",
      "[CV 5/10; 6/10] END colsample_bytree=0.3, gamma=0.3, learning_rate=0.25, max_depth=4, min_child_weight=7;, score=0.527 total time=   0.0s\n",
      "[CV 6/10; 6/10] START colsample_bytree=0.3, gamma=0.3, learning_rate=0.25, max_depth=4, min_child_weight=7\n",
      "[CV 6/10; 6/10] END colsample_bytree=0.3, gamma=0.3, learning_rate=0.25, max_depth=4, min_child_weight=7;, score=0.527 total time=   0.1s\n",
      "[CV 7/10; 6/10] START colsample_bytree=0.3, gamma=0.3, learning_rate=0.25, max_depth=4, min_child_weight=7\n",
      "[CV 7/10; 6/10] END colsample_bytree=0.3, gamma=0.3, learning_rate=0.25, max_depth=4, min_child_weight=7;, score=0.509 total time=   0.1s\n",
      "[CV 8/10; 6/10] START colsample_bytree=0.3, gamma=0.3, learning_rate=0.25, max_depth=4, min_child_weight=7\n",
      "[CV 8/10; 6/10] END colsample_bytree=0.3, gamma=0.3, learning_rate=0.25, max_depth=4, min_child_weight=7;, score=0.527 total time=   0.1s\n",
      "[CV 9/10; 6/10] START colsample_bytree=0.3, gamma=0.3, learning_rate=0.25, max_depth=4, min_child_weight=7\n",
      "[CV 9/10; 6/10] END colsample_bytree=0.3, gamma=0.3, learning_rate=0.25, max_depth=4, min_child_weight=7;, score=0.568 total time=   0.1s\n",
      "[CV 10/10; 6/10] START colsample_bytree=0.3, gamma=0.3, learning_rate=0.25, max_depth=4, min_child_weight=7\n",
      "[CV 10/10; 6/10] END colsample_bytree=0.3, gamma=0.3, learning_rate=0.25, max_depth=4, min_child_weight=7;, score=0.559 total time=   0.1s\n",
      "[CV 1/10; 7/10] START colsample_bytree=0.7, gamma=0.4, learning_rate=0.15, max_depth=4, min_child_weight=7\n",
      "[CV 1/10; 7/10] END colsample_bytree=0.7, gamma=0.4, learning_rate=0.15, max_depth=4, min_child_weight=7;, score=0.518 total time=   0.1s\n",
      "[CV 2/10; 7/10] START colsample_bytree=0.7, gamma=0.4, learning_rate=0.15, max_depth=4, min_child_weight=7\n",
      "[CV 2/10; 7/10] END colsample_bytree=0.7, gamma=0.4, learning_rate=0.15, max_depth=4, min_child_weight=7;, score=0.580 total time=   0.1s\n",
      "[CV 3/10; 7/10] START colsample_bytree=0.7, gamma=0.4, learning_rate=0.15, max_depth=4, min_child_weight=7\n",
      "[CV 3/10; 7/10] END colsample_bytree=0.7, gamma=0.4, learning_rate=0.15, max_depth=4, min_child_weight=7;, score=0.500 total time=   0.1s\n",
      "[CV 4/10; 7/10] START colsample_bytree=0.7, gamma=0.4, learning_rate=0.15, max_depth=4, min_child_weight=7\n",
      "[CV 4/10; 7/10] END colsample_bytree=0.7, gamma=0.4, learning_rate=0.15, max_depth=4, min_child_weight=7;, score=0.527 total time=   0.1s\n",
      "[CV 5/10; 7/10] START colsample_bytree=0.7, gamma=0.4, learning_rate=0.15, max_depth=4, min_child_weight=7\n",
      "[CV 5/10; 7/10] END colsample_bytree=0.7, gamma=0.4, learning_rate=0.15, max_depth=4, min_child_weight=7;, score=0.562 total time=   0.1s\n",
      "[CV 6/10; 7/10] START colsample_bytree=0.7, gamma=0.4, learning_rate=0.15, max_depth=4, min_child_weight=7\n",
      "[CV 6/10; 7/10] END colsample_bytree=0.7, gamma=0.4, learning_rate=0.15, max_depth=4, min_child_weight=7;, score=0.527 total time=   0.1s\n"
     ]
    },
    {
     "name": "stdout",
     "output_type": "stream",
     "text": [
      "[CV 7/10; 7/10] START colsample_bytree=0.7, gamma=0.4, learning_rate=0.15, max_depth=4, min_child_weight=7\n",
      "[CV 7/10; 7/10] END colsample_bytree=0.7, gamma=0.4, learning_rate=0.15, max_depth=4, min_child_weight=7;, score=0.491 total time=   0.1s\n",
      "[CV 8/10; 7/10] START colsample_bytree=0.7, gamma=0.4, learning_rate=0.15, max_depth=4, min_child_weight=7\n",
      "[CV 8/10; 7/10] END colsample_bytree=0.7, gamma=0.4, learning_rate=0.15, max_depth=4, min_child_weight=7;, score=0.580 total time=   0.1s\n",
      "[CV 9/10; 7/10] START colsample_bytree=0.7, gamma=0.4, learning_rate=0.15, max_depth=4, min_child_weight=7\n",
      "[CV 9/10; 7/10] END colsample_bytree=0.7, gamma=0.4, learning_rate=0.15, max_depth=4, min_child_weight=7;, score=0.550 total time=   0.1s\n",
      "[CV 10/10; 7/10] START colsample_bytree=0.7, gamma=0.4, learning_rate=0.15, max_depth=4, min_child_weight=7\n",
      "[CV 10/10; 7/10] END colsample_bytree=0.7, gamma=0.4, learning_rate=0.15, max_depth=4, min_child_weight=7;, score=0.559 total time=   0.1s\n",
      "[CV 1/10; 8/10] START colsample_bytree=0.3, gamma=0.0, learning_rate=0.15, max_depth=5, min_child_weight=1\n",
      "[CV 1/10; 8/10] END colsample_bytree=0.3, gamma=0.0, learning_rate=0.15, max_depth=5, min_child_weight=1;, score=0.509 total time=   0.1s\n",
      "[CV 2/10; 8/10] START colsample_bytree=0.3, gamma=0.0, learning_rate=0.15, max_depth=5, min_child_weight=1\n",
      "[CV 2/10; 8/10] END colsample_bytree=0.3, gamma=0.0, learning_rate=0.15, max_depth=5, min_child_weight=1;, score=0.545 total time=   0.1s\n",
      "[CV 3/10; 8/10] START colsample_bytree=0.3, gamma=0.0, learning_rate=0.15, max_depth=5, min_child_weight=1\n",
      "[CV 3/10; 8/10] END colsample_bytree=0.3, gamma=0.0, learning_rate=0.15, max_depth=5, min_child_weight=1;, score=0.554 total time=   0.1s\n",
      "[CV 4/10; 8/10] START colsample_bytree=0.3, gamma=0.0, learning_rate=0.15, max_depth=5, min_child_weight=1\n",
      "[CV 4/10; 8/10] END colsample_bytree=0.3, gamma=0.0, learning_rate=0.15, max_depth=5, min_child_weight=1;, score=0.518 total time=   0.1s\n",
      "[CV 5/10; 8/10] START colsample_bytree=0.3, gamma=0.0, learning_rate=0.15, max_depth=5, min_child_weight=1\n",
      "[CV 5/10; 8/10] END colsample_bytree=0.3, gamma=0.0, learning_rate=0.15, max_depth=5, min_child_weight=1;, score=0.571 total time=   0.1s\n",
      "[CV 6/10; 8/10] START colsample_bytree=0.3, gamma=0.0, learning_rate=0.15, max_depth=5, min_child_weight=1\n",
      "[CV 6/10; 8/10] END colsample_bytree=0.3, gamma=0.0, learning_rate=0.15, max_depth=5, min_child_weight=1;, score=0.580 total time=   0.0s\n",
      "[CV 7/10; 8/10] START colsample_bytree=0.3, gamma=0.0, learning_rate=0.15, max_depth=5, min_child_weight=1\n",
      "[CV 7/10; 8/10] END colsample_bytree=0.3, gamma=0.0, learning_rate=0.15, max_depth=5, min_child_weight=1;, score=0.518 total time=   0.1s\n",
      "[CV 8/10; 8/10] START colsample_bytree=0.3, gamma=0.0, learning_rate=0.15, max_depth=5, min_child_weight=1\n",
      "[CV 8/10; 8/10] END colsample_bytree=0.3, gamma=0.0, learning_rate=0.15, max_depth=5, min_child_weight=1;, score=0.527 total time=   0.0s\n",
      "[CV 9/10; 8/10] START colsample_bytree=0.3, gamma=0.0, learning_rate=0.15, max_depth=5, min_child_weight=1\n",
      "[CV 9/10; 8/10] END colsample_bytree=0.3, gamma=0.0, learning_rate=0.15, max_depth=5, min_child_weight=1;, score=0.586 total time=   0.1s\n",
      "[CV 10/10; 8/10] START colsample_bytree=0.3, gamma=0.0, learning_rate=0.15, max_depth=5, min_child_weight=1\n",
      "[CV 10/10; 8/10] END colsample_bytree=0.3, gamma=0.0, learning_rate=0.15, max_depth=5, min_child_weight=1;, score=0.586 total time=   0.1s\n",
      "[CV 1/10; 9/10] START colsample_bytree=0.5, gamma=0.0, learning_rate=0.1, max_depth=4, min_child_weight=5\n",
      "[CV 1/10; 9/10] END colsample_bytree=0.5, gamma=0.0, learning_rate=0.1, max_depth=4, min_child_weight=5;, score=0.491 total time=   0.1s\n",
      "[CV 2/10; 9/10] START colsample_bytree=0.5, gamma=0.0, learning_rate=0.1, max_depth=4, min_child_weight=5\n",
      "[CV 2/10; 9/10] END colsample_bytree=0.5, gamma=0.0, learning_rate=0.1, max_depth=4, min_child_weight=5;, score=0.554 total time=   0.1s\n",
      "[CV 3/10; 9/10] START colsample_bytree=0.5, gamma=0.0, learning_rate=0.1, max_depth=4, min_child_weight=5\n",
      "[CV 3/10; 9/10] END colsample_bytree=0.5, gamma=0.0, learning_rate=0.1, max_depth=4, min_child_weight=5;, score=0.491 total time=   0.1s\n",
      "[CV 4/10; 9/10] START colsample_bytree=0.5, gamma=0.0, learning_rate=0.1, max_depth=4, min_child_weight=5\n",
      "[CV 4/10; 9/10] END colsample_bytree=0.5, gamma=0.0, learning_rate=0.1, max_depth=4, min_child_weight=5;, score=0.527 total time=   0.1s\n",
      "[CV 5/10; 9/10] START colsample_bytree=0.5, gamma=0.0, learning_rate=0.1, max_depth=4, min_child_weight=5\n",
      "[CV 5/10; 9/10] END colsample_bytree=0.5, gamma=0.0, learning_rate=0.1, max_depth=4, min_child_weight=5;, score=0.545 total time=   0.1s\n",
      "[CV 6/10; 9/10] START colsample_bytree=0.5, gamma=0.0, learning_rate=0.1, max_depth=4, min_child_weight=5\n",
      "[CV 6/10; 9/10] END colsample_bytree=0.5, gamma=0.0, learning_rate=0.1, max_depth=4, min_child_weight=5;, score=0.536 total time=   0.1s\n",
      "[CV 7/10; 9/10] START colsample_bytree=0.5, gamma=0.0, learning_rate=0.1, max_depth=4, min_child_weight=5\n",
      "[CV 7/10; 9/10] END colsample_bytree=0.5, gamma=0.0, learning_rate=0.1, max_depth=4, min_child_weight=5;, score=0.554 total time=   0.1s\n",
      "[CV 8/10; 9/10] START colsample_bytree=0.5, gamma=0.0, learning_rate=0.1, max_depth=4, min_child_weight=5\n",
      "[CV 8/10; 9/10] END colsample_bytree=0.5, gamma=0.0, learning_rate=0.1, max_depth=4, min_child_weight=5;, score=0.536 total time=   0.1s\n",
      "[CV 9/10; 9/10] START colsample_bytree=0.5, gamma=0.0, learning_rate=0.1, max_depth=4, min_child_weight=5\n",
      "[CV 9/10; 9/10] END colsample_bytree=0.5, gamma=0.0, learning_rate=0.1, max_depth=4, min_child_weight=5;, score=0.532 total time=   0.1s\n",
      "[CV 10/10; 9/10] START colsample_bytree=0.5, gamma=0.0, learning_rate=0.1, max_depth=4, min_child_weight=5\n",
      "[CV 10/10; 9/10] END colsample_bytree=0.5, gamma=0.0, learning_rate=0.1, max_depth=4, min_child_weight=5;, score=0.532 total time=   0.1s\n",
      "[CV 1/10; 10/10] START colsample_bytree=0.4, gamma=0.2, learning_rate=0.15, max_depth=6, min_child_weight=7\n",
      "[CV 1/10; 10/10] END colsample_bytree=0.4, gamma=0.2, learning_rate=0.15, max_depth=6, min_child_weight=7;, score=0.518 total time=   0.1s\n",
      "[CV 2/10; 10/10] START colsample_bytree=0.4, gamma=0.2, learning_rate=0.15, max_depth=6, min_child_weight=7\n",
      "[CV 2/10; 10/10] END colsample_bytree=0.4, gamma=0.2, learning_rate=0.15, max_depth=6, min_child_weight=7;, score=0.562 total time=   0.1s\n",
      "[CV 3/10; 10/10] START colsample_bytree=0.4, gamma=0.2, learning_rate=0.15, max_depth=6, min_child_weight=7\n",
      "[CV 3/10; 10/10] END colsample_bytree=0.4, gamma=0.2, learning_rate=0.15, max_depth=6, min_child_weight=7;, score=0.464 total time=   0.1s\n",
      "[CV 4/10; 10/10] START colsample_bytree=0.4, gamma=0.2, learning_rate=0.15, max_depth=6, min_child_weight=7\n",
      "[CV 4/10; 10/10] END colsample_bytree=0.4, gamma=0.2, learning_rate=0.15, max_depth=6, min_child_weight=7;, score=0.545 total time=   0.1s\n",
      "[CV 5/10; 10/10] START colsample_bytree=0.4, gamma=0.2, learning_rate=0.15, max_depth=6, min_child_weight=7\n",
      "[CV 5/10; 10/10] END colsample_bytree=0.4, gamma=0.2, learning_rate=0.15, max_depth=6, min_child_weight=7;, score=0.536 total time=   0.1s\n",
      "[CV 6/10; 10/10] START colsample_bytree=0.4, gamma=0.2, learning_rate=0.15, max_depth=6, min_child_weight=7\n",
      "[CV 6/10; 10/10] END colsample_bytree=0.4, gamma=0.2, learning_rate=0.15, max_depth=6, min_child_weight=7;, score=0.536 total time=   0.1s\n",
      "[CV 7/10; 10/10] START colsample_bytree=0.4, gamma=0.2, learning_rate=0.15, max_depth=6, min_child_weight=7\n",
      "[CV 7/10; 10/10] END colsample_bytree=0.4, gamma=0.2, learning_rate=0.15, max_depth=6, min_child_weight=7;, score=0.500 total time=   0.1s\n",
      "[CV 8/10; 10/10] START colsample_bytree=0.4, gamma=0.2, learning_rate=0.15, max_depth=6, min_child_weight=7\n",
      "[CV 8/10; 10/10] END colsample_bytree=0.4, gamma=0.2, learning_rate=0.15, max_depth=6, min_child_weight=7;, score=0.545 total time=   0.1s\n",
      "[CV 9/10; 10/10] START colsample_bytree=0.4, gamma=0.2, learning_rate=0.15, max_depth=6, min_child_weight=7\n",
      "[CV 9/10; 10/10] END colsample_bytree=0.4, gamma=0.2, learning_rate=0.15, max_depth=6, min_child_weight=7;, score=0.550 total time=   0.1s\n"
     ]
    },
    {
     "name": "stdout",
     "output_type": "stream",
     "text": [
      "[CV 10/10; 10/10] START colsample_bytree=0.4, gamma=0.2, learning_rate=0.15, max_depth=6, min_child_weight=7\n",
      "[CV 10/10; 10/10] END colsample_bytree=0.4, gamma=0.2, learning_rate=0.15, max_depth=6, min_child_weight=7;, score=0.541 total time=   0.1s\n"
     ]
    },
    {
     "data": {
      "text/plain": [
       "RandomizedSearchCV(cv=10,\n",
       "                   estimator=XGBClassifier(base_score=None, booster=None,\n",
       "                                           callbacks=None,\n",
       "                                           colsample_bylevel=None,\n",
       "                                           colsample_bynode=None,\n",
       "                                           colsample_bytree=None,\n",
       "                                           early_stopping_rounds=None,\n",
       "                                           enable_categorical=False,\n",
       "                                           eval_metric=None, gamma=None,\n",
       "                                           gpu_id=None, grow_policy=None,\n",
       "                                           importance_type=None,\n",
       "                                           interaction_constraints=None,\n",
       "                                           learning_rate=None, max_bin=None...\n",
       "                                           monotone_constraints=None,\n",
       "                                           n_estimators=100, n_jobs=None,\n",
       "                                           num_parallel_tree=None,\n",
       "                                           predictor=None, random_state=None,\n",
       "                                           reg_alpha=None, reg_lambda=None, ...),\n",
       "                   param_distributions={'colsample_bytree': [0.3, 0.4, 0.5,\n",
       "                                                             0.7],\n",
       "                                        'gamma': [0.0, 0.1, 0.2, 0.3, 0.4],\n",
       "                                        'learning_rate': [0.05, 0.1, 0.15, 0.2,\n",
       "                                                          0.25, 0.3],\n",
       "                                        'max_depth': [3, 4, 5, 6, 8, 10, 12,\n",
       "                                                      15],\n",
       "                                        'min_child_weight': [1, 3, 5, 7]},\n",
       "                   scoring='accuracy', verbose=10)"
      ]
     },
     "execution_count": 99,
     "metadata": {},
     "output_type": "execute_result"
    }
   ],
   "source": [
    "from xgboost import XGBClassifier\n",
    "clf_xgb =XGBClassifier(objective='binary:logistic',seed=42)\n",
    "random_search=RandomizedSearchCV(clf_xgb,param_distributions=xgb_params,scoring=\"accuracy\",cv=10,verbose=10)\n",
    "#X=['experiment','date','hour','device_make','platform_os','browser','Unnamed:0']\n",
    "#y=['aware']\n",
    "random_search.fit(X_train,y_train)"
   ]
  },
  {
   "cell_type": "code",
   "execution_count": 100,
   "id": "c6ef5de3",
   "metadata": {},
   "outputs": [
    {
     "data": {
      "text/plain": [
       "XGBClassifier(base_score=0.5, booster='gbtree', callbacks=None,\n",
       "              colsample_bylevel=1, colsample_bynode=1, colsample_bytree=0.3,\n",
       "              early_stopping_rounds=None, enable_categorical=False,\n",
       "              eval_metric=None, gamma=0.0, gpu_id=-1, grow_policy='depthwise',\n",
       "              importance_type=None, interaction_constraints='',\n",
       "              learning_rate=0.05, max_bin=256, max_cat_to_onehot=4,\n",
       "              max_delta_step=0, max_depth=15, max_leaves=0, min_child_weight=1,\n",
       "              missing=nan, monotone_constraints='()', n_estimators=100,\n",
       "              n_jobs=0, num_parallel_tree=1, predictor='auto', random_state=42,\n",
       "              reg_alpha=0, reg_lambda=1, ...)"
      ]
     },
     "execution_count": 100,
     "metadata": {},
     "output_type": "execute_result"
    }
   ],
   "source": [
    "random_search.best_estimator_"
   ]
  },
  {
   "cell_type": "code",
   "execution_count": 101,
   "id": "ce406c02",
   "metadata": {},
   "outputs": [],
   "source": [
    "from xgboost import XGBClassifier\n",
    "final_xgb=XGBClassifier(objective='binary:logistic',seed=42,colsample_bytree=0.3, gamma=0.0,learning_rate=0.05,max_depth=15,min_child_weight=1)"
   ]
  },
  {
   "cell_type": "code",
   "execution_count": 102,
   "id": "7357f086",
   "metadata": {},
   "outputs": [
    {
     "name": "stdout",
     "output_type": "stream",
     "text": [
      "[0]\tvalidation_0-logloss:0.69279\tvalidation_0-auc:0.50828\n",
      "[1]\tvalidation_0-logloss:0.69124\tvalidation_0-auc:0.58696\n",
      "[2]\tvalidation_0-logloss:0.69095\tvalidation_0-auc:0.58877\n",
      "[3]\tvalidation_0-logloss:0.68956\tvalidation_0-auc:0.58702\n",
      "[4]\tvalidation_0-logloss:0.68908\tvalidation_0-auc:0.59051\n",
      "[5]\tvalidation_0-logloss:0.68643\tvalidation_0-auc:0.65471\n",
      "[6]\tvalidation_0-logloss:0.68602\tvalidation_0-auc:0.65123\n",
      "[7]\tvalidation_0-logloss:0.68482\tvalidation_0-auc:0.64429\n",
      "[8]\tvalidation_0-logloss:0.68241\tvalidation_0-auc:0.66325\n",
      "[9]\tvalidation_0-logloss:0.68134\tvalidation_0-auc:0.65748\n",
      "[10]\tvalidation_0-logloss:0.68120\tvalidation_0-auc:0.65718\n",
      "[11]\tvalidation_0-logloss:0.67899\tvalidation_0-auc:0.66521\n",
      "[12]\tvalidation_0-logloss:0.67870\tvalidation_0-auc:0.66498\n",
      "[13]\tvalidation_0-logloss:0.67857\tvalidation_0-auc:0.66455\n",
      "[14]\tvalidation_0-logloss:0.67846\tvalidation_0-auc:0.66457\n",
      "[15]\tvalidation_0-logloss:0.67754\tvalidation_0-auc:0.66115\n",
      "[16]\tvalidation_0-logloss:0.67744\tvalidation_0-auc:0.66158\n",
      "[17]\tvalidation_0-logloss:0.67661\tvalidation_0-auc:0.65917\n",
      "[18]\tvalidation_0-logloss:0.67638\tvalidation_0-auc:0.65815\n",
      "[19]\tvalidation_0-logloss:0.67439\tvalidation_0-auc:0.66392\n",
      "[20]\tvalidation_0-logloss:0.67251\tvalidation_0-auc:0.66848\n",
      "[21]\tvalidation_0-logloss:0.67245\tvalidation_0-auc:0.66860\n",
      "[22]\tvalidation_0-logloss:0.67072\tvalidation_0-auc:0.67086\n",
      "[23]\tvalidation_0-logloss:0.66998\tvalidation_0-auc:0.66934\n",
      "[24]\tvalidation_0-logloss:0.66835\tvalidation_0-auc:0.67065\n",
      "[25]\tvalidation_0-logloss:0.66767\tvalidation_0-auc:0.66982\n",
      "[26]\tvalidation_0-logloss:0.66616\tvalidation_0-auc:0.67074\n",
      "[27]\tvalidation_0-logloss:0.66554\tvalidation_0-auc:0.66971\n",
      "[28]\tvalidation_0-logloss:0.66552\tvalidation_0-auc:0.67017\n",
      "[29]\tvalidation_0-logloss:0.66549\tvalidation_0-auc:0.67030\n",
      "[30]\tvalidation_0-logloss:0.66534\tvalidation_0-auc:0.67038\n",
      "[31]\tvalidation_0-logloss:0.66520\tvalidation_0-auc:0.67055\n",
      "[32]\tvalidation_0-logloss:0.66519\tvalidation_0-auc:0.67051\n"
     ]
    },
    {
     "data": {
      "text/plain": [
       "XGBClassifier(base_score=0.5, booster='gbtree', callbacks=None,\n",
       "              colsample_bylevel=1, colsample_bynode=1, colsample_bytree=0.3,\n",
       "              early_stopping_rounds=None, enable_categorical=False,\n",
       "              eval_metric=None, gamma=0.0, gpu_id=-1, grow_policy='depthwise',\n",
       "              importance_type=None, interaction_constraints='',\n",
       "              learning_rate=0.05, max_bin=256, max_cat_to_onehot=4,\n",
       "              max_delta_step=0, max_depth=15, max_leaves=0, min_child_weight=1,\n",
       "              missing=nan, monotone_constraints='()', n_estimators=100,\n",
       "              n_jobs=0, num_parallel_tree=1, predictor='auto', random_state=42,\n",
       "              reg_alpha=0, reg_lambda=1, ...)"
      ]
     },
     "execution_count": 102,
     "metadata": {},
     "output_type": "execute_result"
    }
   ],
   "source": [
    "final_xgb.fit(X_train,y_train,\n",
    "        eval_set=[(X_train,y_train)],\n",
    "        eval_metric=['logloss','auc'],\n",
    "        early_stopping_rounds=10,\n",
    "        verbose=True)"
   ]
  },
  {
   "cell_type": "code",
   "execution_count": 103,
   "id": "b8d7e979",
   "metadata": {},
   "outputs": [],
   "source": [
    "pre=final_xgb.predict(X_test)"
   ]
  },
  {
   "cell_type": "code",
   "execution_count": 104,
   "id": "f40d1241",
   "metadata": {},
   "outputs": [
    {
     "data": {
      "text/plain": [
       "array([1, 1, 0, 0, 1, 0, 0, 0, 0, 1, 0, 0, 0, 0, 0, 0, 0, 0, 1, 0, 0, 1,\n",
       "       0, 0, 0, 0, 1, 0, 0, 0, 0, 0, 0, 0, 1, 0, 0, 0, 0, 1, 0, 0, 0, 0,\n",
       "       0, 0, 0, 1, 0, 0, 0, 0, 0, 0, 0, 0, 0, 1, 0, 0, 0, 0, 0, 0, 0, 0,\n",
       "       1, 0, 0, 1, 0, 0, 0, 1, 0, 1, 1, 0, 0, 0, 0, 0, 0, 0, 1, 1, 0, 0,\n",
       "       0, 1, 0, 0, 0, 1, 0, 0, 1, 0, 1, 0, 0, 0, 1, 1, 0, 0, 0, 1, 1, 0,\n",
       "       0, 0, 0, 0, 0, 1, 0, 1, 1, 0, 0, 0, 1, 1, 0])"
      ]
     },
     "execution_count": 104,
     "metadata": {},
     "output_type": "execute_result"
    }
   ],
   "source": [
    "pre"
   ]
  },
  {
   "cell_type": "code",
   "execution_count": 105,
   "id": "830fc413",
   "metadata": {},
   "outputs": [],
   "source": [
    "from sklearn.metrics import accuracy_score\n",
    "res=accuracy_score(y_test, pre)\n"
   ]
  },
  {
   "cell_type": "code",
   "execution_count": 106,
   "id": "b284baee",
   "metadata": {},
   "outputs": [
    {
     "data": {
      "text/plain": [
       "0.576"
      ]
     },
     "execution_count": 106,
     "metadata": {},
     "output_type": "execute_result"
    }
   ],
   "source": [
    "res"
   ]
  },
  {
   "cell_type": "code",
   "execution_count": 111,
   "id": "9a22e618",
   "metadata": {},
   "outputs": [
    {
     "data": {
      "text/html": [
       "<div>\n",
       "<style scoped>\n",
       "    .dataframe tbody tr th:only-of-type {\n",
       "        vertical-align: middle;\n",
       "    }\n",
       "\n",
       "    .dataframe tbody tr th {\n",
       "        vertical-align: top;\n",
       "    }\n",
       "\n",
       "    .dataframe thead th {\n",
       "        text-align: right;\n",
       "    }\n",
       "</style>\n",
       "<table border=\"1\" class=\"dataframe\">\n",
       "  <thead>\n",
       "    <tr style=\"text-align: right;\">\n",
       "      <th></th>\n",
       "      <th>experiment</th>\n",
       "      <th>hour</th>\n",
       "      <th>date</th>\n",
       "      <th>device_make</th>\n",
       "      <th>browser</th>\n",
       "    </tr>\n",
       "  </thead>\n",
       "  <tbody>\n",
       "    <tr>\n",
       "      <th>1131</th>\n",
       "      <td>1</td>\n",
       "      <td>9</td>\n",
       "      <td>3</td>\n",
       "      <td>73</td>\n",
       "      <td>2</td>\n",
       "    </tr>\n",
       "    <tr>\n",
       "      <th>363</th>\n",
       "      <td>1</td>\n",
       "      <td>1</td>\n",
       "      <td>0</td>\n",
       "      <td>13</td>\n",
       "      <td>1</td>\n",
       "    </tr>\n",
       "    <tr>\n",
       "      <th>947</th>\n",
       "      <td>0</td>\n",
       "      <td>15</td>\n",
       "      <td>0</td>\n",
       "      <td>13</td>\n",
       "      <td>1</td>\n",
       "    </tr>\n",
       "    <tr>\n",
       "      <th>932</th>\n",
       "      <td>1</td>\n",
       "      <td>8</td>\n",
       "      <td>0</td>\n",
       "      <td>60</td>\n",
       "      <td>2</td>\n",
       "    </tr>\n",
       "    <tr>\n",
       "      <th>858</th>\n",
       "      <td>0</td>\n",
       "      <td>15</td>\n",
       "      <td>0</td>\n",
       "      <td>69</td>\n",
       "      <td>4</td>\n",
       "    </tr>\n",
       "  </tbody>\n",
       "</table>\n",
       "</div>"
      ],
      "text/plain": [
       "      experiment  hour  date  device_make  browser\n",
       "1131           1     9     3           73        2\n",
       "363            1     1     0           13        1\n",
       "947            0    15     0           13        1\n",
       "932            1     8     0           60        2\n",
       "858            0    15     0           69        4"
      ]
     },
     "execution_count": 111,
     "metadata": {},
     "output_type": "execute_result"
    }
   ],
   "source": [
    "X_train.head() "
   ]
  },
  {
   "cell_type": "code",
   "execution_count": 112,
   "id": "45556a15",
   "metadata": {},
   "outputs": [
    {
     "data": {
      "text/plain": [
       "1131    0\n",
       "363     1\n",
       "947     1\n",
       "932     1\n",
       "858     0\n",
       "       ..\n",
       "1044    1\n",
       "1095    0\n",
       "1130    0\n",
       "860     1\n",
       "1126    1\n",
       "Name: aware, Length: 1118, dtype: int64"
      ]
     },
     "execution_count": 112,
     "metadata": {},
     "output_type": "execute_result"
    }
   ],
   "source": [
    "y_train"
   ]
  },
  {
   "cell_type": "code",
   "execution_count": null,
   "id": "ffd2606e",
   "metadata": {},
   "outputs": [],
   "source": []
  }
 ],
 "metadata": {
  "kernelspec": {
   "display_name": "Python 3 (ipykernel)",
   "language": "python",
   "name": "python3"
  },
  "language_info": {
   "codemirror_mode": {
    "name": "ipython",
    "version": 3
   },
   "file_extension": ".py",
   "mimetype": "text/x-python",
   "name": "python",
   "nbconvert_exporter": "python",
   "pygments_lexer": "ipython3",
   "version": "3.9.12"
  }
 },
 "nbformat": 4,
 "nbformat_minor": 5
}
