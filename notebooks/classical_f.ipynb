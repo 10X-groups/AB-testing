{
 "cells": [
  {
   "cell_type": "code",
   "execution_count": 1,
   "metadata": {},
   "outputs": [],
   "source": [
    "# imports\n",
    "import os\n",
    "import sys\n",
    "import dvc.api\n",
    "import pandas as pd\n",
    "import seaborn as sns\n",
    "import matplotlib.pyplot as plt\n",
    "from plotly.subplots import make_subplots\n",
    "import warnings\n",
    "warnings.filterwarnings('ignore')"
   ]
  },
  {
   "cell_type": "code",
   "execution_count": 2,
   "metadata": {},
   "outputs": [
    {
     "name": "stdout",
     "output_type": "stream",
     "text": [
      "--> <Logger dataCleaner (WARNING)>\n",
      "logger <Logger dataCleaner (INFO)> created at path: ../logs/cleaner_root.log\n",
      "Data cleaner in action\n",
      "--> <Logger dataVisualizer (WARNING)>\n",
      "logger <Logger dataVisualizer (INFO)> created at path: ../logs/visualizer_root.log\n",
      "Data visualizer in action\n",
      "--> <Logger abTestHelper (WARNING)>\n",
      "logger <Logger abTestHelper (INFO)> created at path: ../logs/hypothesis_test_root.log\n",
      "Hypothesis test helper in action\n"
     ]
    }
   ],
   "source": [
    "# set up paths and helper scripts\n",
    "sys.path.append('.')\n",
    "sys.path.insert(1, '../scripts/')\n",
    "\n",
    "import defaults as defs\n",
    "import dataCleaner as dc\n",
    "import dataVisualizer as dv\n",
    "import abTestHelper as th\n",
    "\n",
    "# setup helper scripts\n",
    "cleaner = dc.dataCleaner('classical hypothesis testing notebook')\n",
    "visualizer = dv.dataVisualizer('classical hypothesis testing notebook')\n",
    "abTestHelper = th.abTestHelper('classical hypothesis testing notebook')"
   ]
  },
  {
   "cell_type": "code",
   "execution_count": 3,
   "metadata": {},
   "outputs": [
    {
     "ename": "FileNotFoundError",
     "evalue": "[Errno 2] No such file or directory: '/.dvc/C:/Users/f0x-tr0t/Documents/education/datascience/dvc-storage/1a/e19300fae64a8d41f40122d8f68a53'",
     "output_type": "error",
     "traceback": [
      "\u001b[0;31m---------------------------------------------------------------------------\u001b[0m",
      "\u001b[0;31mFileNotFoundError\u001b[0m                         Traceback (most recent call last)",
      "\u001b[1;32m/media/f0x-tr0t/4CFCD13BFCD1204E/Documents and Settings/f0x-tr0t/Documents/education/10_Academy/VI/week_II/AB-testing/notebooks/classical_f.ipynb Cell 3\u001b[0m in \u001b[0;36m<cell line: 9>\u001b[0;34m()\u001b[0m\n\u001b[1;32m      <a href='vscode-notebook-cell:/media/f0x-tr0t/4CFCD13BFCD1204E/Documents%20and%20Settings/f0x-tr0t/Documents/education/10_Academy/VI/week_II/AB-testing/notebooks/classical_f.ipynb#W2sZmlsZQ%3D%3D?line=6'>7</a>\u001b[0m \u001b[39m# reading the csv file\u001b[39;00m\n\u001b[1;32m      <a href='vscode-notebook-cell:/media/f0x-tr0t/4CFCD13BFCD1204E/Documents%20and%20Settings/f0x-tr0t/Documents/education/10_Academy/VI/week_II/AB-testing/notebooks/classical_f.ipynb#W2sZmlsZQ%3D%3D?line=7'>8</a>\u001b[0m missing_values \u001b[39m=\u001b[39m [\u001b[39m\"\u001b[39m\u001b[39mn/a\u001b[39m\u001b[39m\"\u001b[39m, \u001b[39m\"\u001b[39m\u001b[39mna\u001b[39m\u001b[39m\"\u001b[39m, \u001b[39m\"\u001b[39m\u001b[39mundefined\u001b[39m\u001b[39m\"\u001b[39m, \u001b[39m'\u001b[39m\u001b[39m?\u001b[39m\u001b[39m'\u001b[39m, \u001b[39m'\u001b[39m\u001b[39mNA\u001b[39m\u001b[39m'\u001b[39m, \u001b[39m'\u001b[39m\u001b[39mundefined\u001b[39m\u001b[39m'\u001b[39m]\n\u001b[0;32m----> <a href='vscode-notebook-cell:/media/f0x-tr0t/4CFCD13BFCD1204E/Documents%20and%20Settings/f0x-tr0t/Documents/education/10_Academy/VI/week_II/AB-testing/notebooks/classical_f.ipynb#W2sZmlsZQ%3D%3D?line=8'>9</a>\u001b[0m df \u001b[39m=\u001b[39m pd\u001b[39m.\u001b[39;49mread_csv(data_url, na_values\u001b[39m=\u001b[39;49mmissing_values)\n\u001b[1;32m     <a href='vscode-notebook-cell:/media/f0x-tr0t/4CFCD13BFCD1204E/Documents%20and%20Settings/f0x-tr0t/Documents/education/10_Academy/VI/week_II/AB-testing/notebooks/classical_f.ipynb#W2sZmlsZQ%3D%3D?line=9'>10</a>\u001b[0m df\n",
      "File \u001b[0;32m~/.local/lib/python3.10/site-packages/pandas/util/_decorators.py:311\u001b[0m, in \u001b[0;36mdeprecate_nonkeyword_arguments.<locals>.decorate.<locals>.wrapper\u001b[0;34m(*args, **kwargs)\u001b[0m\n\u001b[1;32m    305\u001b[0m \u001b[39mif\u001b[39;00m \u001b[39mlen\u001b[39m(args) \u001b[39m>\u001b[39m num_allow_args:\n\u001b[1;32m    306\u001b[0m     warnings\u001b[39m.\u001b[39mwarn(\n\u001b[1;32m    307\u001b[0m         msg\u001b[39m.\u001b[39mformat(arguments\u001b[39m=\u001b[39marguments),\n\u001b[1;32m    308\u001b[0m         \u001b[39mFutureWarning\u001b[39;00m,\n\u001b[1;32m    309\u001b[0m         stacklevel\u001b[39m=\u001b[39mstacklevel,\n\u001b[1;32m    310\u001b[0m     )\n\u001b[0;32m--> 311\u001b[0m \u001b[39mreturn\u001b[39;00m func(\u001b[39m*\u001b[39;49margs, \u001b[39m*\u001b[39;49m\u001b[39m*\u001b[39;49mkwargs)\n",
      "File \u001b[0;32m~/.local/lib/python3.10/site-packages/pandas/io/parsers/readers.py:680\u001b[0m, in \u001b[0;36mread_csv\u001b[0;34m(filepath_or_buffer, sep, delimiter, header, names, index_col, usecols, squeeze, prefix, mangle_dupe_cols, dtype, engine, converters, true_values, false_values, skipinitialspace, skiprows, skipfooter, nrows, na_values, keep_default_na, na_filter, verbose, skip_blank_lines, parse_dates, infer_datetime_format, keep_date_col, date_parser, dayfirst, cache_dates, iterator, chunksize, compression, thousands, decimal, lineterminator, quotechar, quoting, doublequote, escapechar, comment, encoding, encoding_errors, dialect, error_bad_lines, warn_bad_lines, on_bad_lines, delim_whitespace, low_memory, memory_map, float_precision, storage_options)\u001b[0m\n\u001b[1;32m    665\u001b[0m kwds_defaults \u001b[39m=\u001b[39m _refine_defaults_read(\n\u001b[1;32m    666\u001b[0m     dialect,\n\u001b[1;32m    667\u001b[0m     delimiter,\n\u001b[0;32m   (...)\u001b[0m\n\u001b[1;32m    676\u001b[0m     defaults\u001b[39m=\u001b[39m{\u001b[39m\"\u001b[39m\u001b[39mdelimiter\u001b[39m\u001b[39m\"\u001b[39m: \u001b[39m\"\u001b[39m\u001b[39m,\u001b[39m\u001b[39m\"\u001b[39m},\n\u001b[1;32m    677\u001b[0m )\n\u001b[1;32m    678\u001b[0m kwds\u001b[39m.\u001b[39mupdate(kwds_defaults)\n\u001b[0;32m--> 680\u001b[0m \u001b[39mreturn\u001b[39;00m _read(filepath_or_buffer, kwds)\n",
      "File \u001b[0;32m~/.local/lib/python3.10/site-packages/pandas/io/parsers/readers.py:575\u001b[0m, in \u001b[0;36m_read\u001b[0;34m(filepath_or_buffer, kwds)\u001b[0m\n\u001b[1;32m    572\u001b[0m _validate_names(kwds\u001b[39m.\u001b[39mget(\u001b[39m\"\u001b[39m\u001b[39mnames\u001b[39m\u001b[39m\"\u001b[39m, \u001b[39mNone\u001b[39;00m))\n\u001b[1;32m    574\u001b[0m \u001b[39m# Create the parser.\u001b[39;00m\n\u001b[0;32m--> 575\u001b[0m parser \u001b[39m=\u001b[39m TextFileReader(filepath_or_buffer, \u001b[39m*\u001b[39;49m\u001b[39m*\u001b[39;49mkwds)\n\u001b[1;32m    577\u001b[0m \u001b[39mif\u001b[39;00m chunksize \u001b[39mor\u001b[39;00m iterator:\n\u001b[1;32m    578\u001b[0m     \u001b[39mreturn\u001b[39;00m parser\n",
      "File \u001b[0;32m~/.local/lib/python3.10/site-packages/pandas/io/parsers/readers.py:934\u001b[0m, in \u001b[0;36mTextFileReader.__init__\u001b[0;34m(self, f, engine, **kwds)\u001b[0m\n\u001b[1;32m    931\u001b[0m     \u001b[39mself\u001b[39m\u001b[39m.\u001b[39moptions[\u001b[39m\"\u001b[39m\u001b[39mhas_index_names\u001b[39m\u001b[39m\"\u001b[39m] \u001b[39m=\u001b[39m kwds[\u001b[39m\"\u001b[39m\u001b[39mhas_index_names\u001b[39m\u001b[39m\"\u001b[39m]\n\u001b[1;32m    933\u001b[0m \u001b[39mself\u001b[39m\u001b[39m.\u001b[39mhandles: IOHandles \u001b[39m|\u001b[39m \u001b[39mNone\u001b[39;00m \u001b[39m=\u001b[39m \u001b[39mNone\u001b[39;00m\n\u001b[0;32m--> 934\u001b[0m \u001b[39mself\u001b[39m\u001b[39m.\u001b[39m_engine \u001b[39m=\u001b[39m \u001b[39mself\u001b[39;49m\u001b[39m.\u001b[39;49m_make_engine(f, \u001b[39mself\u001b[39;49m\u001b[39m.\u001b[39;49mengine)\n",
      "File \u001b[0;32m~/.local/lib/python3.10/site-packages/pandas/io/parsers/readers.py:1218\u001b[0m, in \u001b[0;36mTextFileReader._make_engine\u001b[0;34m(self, f, engine)\u001b[0m\n\u001b[1;32m   1214\u001b[0m     mode \u001b[39m=\u001b[39m \u001b[39m\"\u001b[39m\u001b[39mrb\u001b[39m\u001b[39m\"\u001b[39m\n\u001b[1;32m   1215\u001b[0m \u001b[39m# error: No overload variant of \"get_handle\" matches argument types\u001b[39;00m\n\u001b[1;32m   1216\u001b[0m \u001b[39m# \"Union[str, PathLike[str], ReadCsvBuffer[bytes], ReadCsvBuffer[str]]\"\u001b[39;00m\n\u001b[1;32m   1217\u001b[0m \u001b[39m# , \"str\", \"bool\", \"Any\", \"Any\", \"Any\", \"Any\", \"Any\"\u001b[39;00m\n\u001b[0;32m-> 1218\u001b[0m \u001b[39mself\u001b[39m\u001b[39m.\u001b[39mhandles \u001b[39m=\u001b[39m get_handle(  \u001b[39m# type: ignore[call-overload]\u001b[39;49;00m\n\u001b[1;32m   1219\u001b[0m     f,\n\u001b[1;32m   1220\u001b[0m     mode,\n\u001b[1;32m   1221\u001b[0m     encoding\u001b[39m=\u001b[39;49m\u001b[39mself\u001b[39;49m\u001b[39m.\u001b[39;49moptions\u001b[39m.\u001b[39;49mget(\u001b[39m\"\u001b[39;49m\u001b[39mencoding\u001b[39;49m\u001b[39m\"\u001b[39;49m, \u001b[39mNone\u001b[39;49;00m),\n\u001b[1;32m   1222\u001b[0m     compression\u001b[39m=\u001b[39;49m\u001b[39mself\u001b[39;49m\u001b[39m.\u001b[39;49moptions\u001b[39m.\u001b[39;49mget(\u001b[39m\"\u001b[39;49m\u001b[39mcompression\u001b[39;49m\u001b[39m\"\u001b[39;49m, \u001b[39mNone\u001b[39;49;00m),\n\u001b[1;32m   1223\u001b[0m     memory_map\u001b[39m=\u001b[39;49m\u001b[39mself\u001b[39;49m\u001b[39m.\u001b[39;49moptions\u001b[39m.\u001b[39;49mget(\u001b[39m\"\u001b[39;49m\u001b[39mmemory_map\u001b[39;49m\u001b[39m\"\u001b[39;49m, \u001b[39mFalse\u001b[39;49;00m),\n\u001b[1;32m   1224\u001b[0m     is_text\u001b[39m=\u001b[39;49mis_text,\n\u001b[1;32m   1225\u001b[0m     errors\u001b[39m=\u001b[39;49m\u001b[39mself\u001b[39;49m\u001b[39m.\u001b[39;49moptions\u001b[39m.\u001b[39;49mget(\u001b[39m\"\u001b[39;49m\u001b[39mencoding_errors\u001b[39;49m\u001b[39m\"\u001b[39;49m, \u001b[39m\"\u001b[39;49m\u001b[39mstrict\u001b[39;49m\u001b[39m\"\u001b[39;49m),\n\u001b[1;32m   1226\u001b[0m     storage_options\u001b[39m=\u001b[39;49m\u001b[39mself\u001b[39;49m\u001b[39m.\u001b[39;49moptions\u001b[39m.\u001b[39;49mget(\u001b[39m\"\u001b[39;49m\u001b[39mstorage_options\u001b[39;49m\u001b[39m\"\u001b[39;49m, \u001b[39mNone\u001b[39;49;00m),\n\u001b[1;32m   1227\u001b[0m )\n\u001b[1;32m   1228\u001b[0m \u001b[39massert\u001b[39;00m \u001b[39mself\u001b[39m\u001b[39m.\u001b[39mhandles \u001b[39mis\u001b[39;00m \u001b[39mnot\u001b[39;00m \u001b[39mNone\u001b[39;00m\n\u001b[1;32m   1229\u001b[0m f \u001b[39m=\u001b[39m \u001b[39mself\u001b[39m\u001b[39m.\u001b[39mhandles\u001b[39m.\u001b[39mhandle\n",
      "File \u001b[0;32m~/.local/lib/python3.10/site-packages/pandas/io/common.py:786\u001b[0m, in \u001b[0;36mget_handle\u001b[0;34m(path_or_buf, mode, encoding, compression, memory_map, is_text, errors, storage_options)\u001b[0m\n\u001b[1;32m    781\u001b[0m \u001b[39melif\u001b[39;00m \u001b[39misinstance\u001b[39m(handle, \u001b[39mstr\u001b[39m):\n\u001b[1;32m    782\u001b[0m     \u001b[39m# Check whether the filename is to be opened in binary mode.\u001b[39;00m\n\u001b[1;32m    783\u001b[0m     \u001b[39m# Binary mode does not support 'encoding' and 'newline'.\u001b[39;00m\n\u001b[1;32m    784\u001b[0m     \u001b[39mif\u001b[39;00m ioargs\u001b[39m.\u001b[39mencoding \u001b[39mand\u001b[39;00m \u001b[39m\"\u001b[39m\u001b[39mb\u001b[39m\u001b[39m\"\u001b[39m \u001b[39mnot\u001b[39;00m \u001b[39min\u001b[39;00m ioargs\u001b[39m.\u001b[39mmode:\n\u001b[1;32m    785\u001b[0m         \u001b[39m# Encoding\u001b[39;00m\n\u001b[0;32m--> 786\u001b[0m         handle \u001b[39m=\u001b[39m \u001b[39mopen\u001b[39;49m(\n\u001b[1;32m    787\u001b[0m             handle,\n\u001b[1;32m    788\u001b[0m             ioargs\u001b[39m.\u001b[39;49mmode,\n\u001b[1;32m    789\u001b[0m             encoding\u001b[39m=\u001b[39;49mioargs\u001b[39m.\u001b[39;49mencoding,\n\u001b[1;32m    790\u001b[0m             errors\u001b[39m=\u001b[39;49merrors,\n\u001b[1;32m    791\u001b[0m             newline\u001b[39m=\u001b[39;49m\u001b[39m\"\u001b[39;49m\u001b[39m\"\u001b[39;49m,\n\u001b[1;32m    792\u001b[0m         )\n\u001b[1;32m    793\u001b[0m     \u001b[39melse\u001b[39;00m:\n\u001b[1;32m    794\u001b[0m         \u001b[39m# Binary mode\u001b[39;00m\n\u001b[1;32m    795\u001b[0m         handle \u001b[39m=\u001b[39m \u001b[39mopen\u001b[39m(handle, ioargs\u001b[39m.\u001b[39mmode)\n",
      "\u001b[0;31mFileNotFoundError\u001b[0m: [Errno 2] No such file or directory: '/.dvc/C:/Users/f0x-tr0t/Documents/education/datascience/dvc-storage/1a/e19300fae64a8d41f40122d8f68a53'"
     ]
    }
   ],
   "source": [
    "# read data using dvc\n",
    "version = 'v1'\n",
    "\n",
    "# data path using dvc api\n",
    "data_url = dvc.api.get_url(path = defs.path, repo = defs.repo, rev = version)\n",
    "\n",
    "# reading the csv file\n",
    "missing_values = [\"n/a\", \"na\", \"undefined\", '?', 'NA', 'undefined']\n",
    "df = pd.read_csv(data_url, na_values=missing_values)\n",
    "df"
   ]
  },
  {
   "cell_type": "markdown",
   "metadata": {},
   "source": [
    "# Classical AB testing"
   ]
  },
  {
   "cell_type": "markdown",
   "metadata": {},
   "source": [
    "## Metric choice"
   ]
  },
  {
   "cell_type": "markdown",
   "metadata": {},
   "source": [
    "### Invariate metrics - sanity checks"
   ]
  },
  {
   "cell_type": "markdown",
   "metadata": {},
   "source": [
    "### Evaluation metrics - performance indicators"
   ]
  },
  {
   "cell_type": "markdown",
   "metadata": {},
   "source": [
    "## Analyzing data"
   ]
  },
  {
   "cell_type": "code",
   "execution_count": null,
   "metadata": {},
   "outputs": [
    {
     "name": "stdout",
     "output_type": "stream",
     "text": [
      "<class 'pandas.core.frame.DataFrame'>\n",
      "Int64Index: 1243 entries, 2 to 8071\n",
      "Data columns (total 9 columns):\n",
      " #   Column       Non-Null Count  Dtype \n",
      "---  ------       --------------  ----- \n",
      " 0   auction_id   1243 non-null   object\n",
      " 1   experiment   1243 non-null   object\n",
      " 2   date         1243 non-null   object\n",
      " 3   hour         1243 non-null   int64 \n",
      " 4   device_make  1243 non-null   object\n",
      " 5   platform_os  1243 non-null   int64 \n",
      " 6   browser      1243 non-null   object\n",
      " 7   yes          1243 non-null   int64 \n",
      " 8   no           1243 non-null   int64 \n",
      "dtypes: int64(4), object(5)\n",
      "memory usage: 97.1+ KB\n"
     ]
    }
   ],
   "source": [
    "# drop the values of un answered BIO records\n",
    "answered_data = df.query(\"not (yes == 0 & no == 0)\")\n",
    "answered_data.info()"
   ]
  },
  {
   "cell_type": "markdown",
   "metadata": {},
   "source": [
    "* Drop all the BIO non participants"
   ]
  },
  {
   "cell_type": "code",
   "execution_count": null,
   "metadata": {},
   "outputs": [
    {
     "data": {
      "text/html": [
       "<div>\n",
       "<style scoped>\n",
       "    .dataframe tbody tr th:only-of-type {\n",
       "        vertical-align: middle;\n",
       "    }\n",
       "\n",
       "    .dataframe tbody tr th {\n",
       "        vertical-align: top;\n",
       "    }\n",
       "\n",
       "    .dataframe thead th {\n",
       "        text-align: right;\n",
       "    }\n",
       "</style>\n",
       "<table border=\"1\" class=\"dataframe\">\n",
       "  <thead>\n",
       "    <tr style=\"text-align: right;\">\n",
       "      <th></th>\n",
       "      <th>experiment</th>\n",
       "      <th>aware</th>\n",
       "    </tr>\n",
       "    <tr>\n",
       "      <th>auction_id</th>\n",
       "      <th></th>\n",
       "      <th></th>\n",
       "    </tr>\n",
       "  </thead>\n",
       "  <tbody>\n",
       "    <tr>\n",
       "      <th>0016d14a-ae18-4a02-a204-6ba53b52f2ed</th>\n",
       "      <td>exposed</td>\n",
       "      <td>0</td>\n",
       "    </tr>\n",
       "    <tr>\n",
       "      <th>008aafdf-deef-4482-8fec-d98e3da054da</th>\n",
       "      <td>exposed</td>\n",
       "      <td>1</td>\n",
       "    </tr>\n",
       "    <tr>\n",
       "      <th>00a1384a-5118-4d1b-925b-6cdada50318d</th>\n",
       "      <td>exposed</td>\n",
       "      <td>0</td>\n",
       "    </tr>\n",
       "    <tr>\n",
       "      <th>00b6fadb-10bd-49e3-a778-290da82f7a8d</th>\n",
       "      <td>control</td>\n",
       "      <td>1</td>\n",
       "    </tr>\n",
       "    <tr>\n",
       "      <th>00ebf4a8-060f-4b99-93ac-c62724399483</th>\n",
       "      <td>control</td>\n",
       "      <td>0</td>\n",
       "    </tr>\n",
       "    <tr>\n",
       "      <th>...</th>\n",
       "      <td>...</td>\n",
       "      <td>...</td>\n",
       "    </tr>\n",
       "    <tr>\n",
       "      <th>ffa08ff9-a132-4051-aef5-01a9c79367bc</th>\n",
       "      <td>exposed</td>\n",
       "      <td>1</td>\n",
       "    </tr>\n",
       "    <tr>\n",
       "      <th>ffb176df-ecd2-45d3-b05f-05b173a093a7</th>\n",
       "      <td>exposed</td>\n",
       "      <td>1</td>\n",
       "    </tr>\n",
       "    <tr>\n",
       "      <th>ffb79718-6f25-4896-b6b3-e58b80a6e147</th>\n",
       "      <td>control</td>\n",
       "      <td>0</td>\n",
       "    </tr>\n",
       "    <tr>\n",
       "      <th>ffca1153-c182-4f32-9e90-2a6008417497</th>\n",
       "      <td>control</td>\n",
       "      <td>0</td>\n",
       "    </tr>\n",
       "    <tr>\n",
       "      <th>ffdfdc09-48c7-4bfb-80f8-ec1eb633602b</th>\n",
       "      <td>exposed</td>\n",
       "      <td>0</td>\n",
       "    </tr>\n",
       "  </tbody>\n",
       "</table>\n",
       "<p>1243 rows × 2 columns</p>\n",
       "</div>"
      ],
      "text/plain": [
       "                                     experiment  aware\n",
       "auction_id                                            \n",
       "0016d14a-ae18-4a02-a204-6ba53b52f2ed    exposed      0\n",
       "008aafdf-deef-4482-8fec-d98e3da054da    exposed      1\n",
       "00a1384a-5118-4d1b-925b-6cdada50318d    exposed      0\n",
       "00b6fadb-10bd-49e3-a778-290da82f7a8d    control      1\n",
       "00ebf4a8-060f-4b99-93ac-c62724399483    control      0\n",
       "...                                         ...    ...\n",
       "ffa08ff9-a132-4051-aef5-01a9c79367bc    exposed      1\n",
       "ffb176df-ecd2-45d3-b05f-05b173a093a7    exposed      1\n",
       "ffb79718-6f25-4896-b6b3-e58b80a6e147    control      0\n",
       "ffca1153-c182-4f32-9e90-2a6008417497    control      0\n",
       "ffdfdc09-48c7-4bfb-80f8-ec1eb633602b    exposed      0\n",
       "\n",
       "[1243 rows x 2 columns]"
      ]
     },
     "execution_count": 7,
     "metadata": {},
     "output_type": "execute_result"
    }
   ],
   "source": [
    "# merge the yes and no features, \n",
    "cleaned_data = answered_data[['auction_id', 'experiment', 'yes', 'no']]\n",
    "cleaned_data.insert(column='aware', value=0, loc=4)\n",
    "cleaned_data.loc[cleaned_data['yes'] == 1, 'aware'] = 1\n",
    "cleaned_data.loc[cleaned_data['yes'] == 0, 'aware'] = 0\n",
    "cleaned_data = cleaned_data.drop(columns=['yes', 'no'])\n",
    "cleaned_data = cleaned_data.set_index('auction_id')\n",
    "cleaned_data"
   ]
  },
  {
   "cell_type": "code",
   "execution_count": null,
   "metadata": {},
   "outputs": [
    {
     "data": {
      "text/html": [
       "<div>\n",
       "<style scoped>\n",
       "    .dataframe tbody tr th:only-of-type {\n",
       "        vertical-align: middle;\n",
       "    }\n",
       "\n",
       "    .dataframe tbody tr th {\n",
       "        vertical-align: top;\n",
       "    }\n",
       "\n",
       "    .dataframe thead th {\n",
       "        text-align: right;\n",
       "    }\n",
       "</style>\n",
       "<table border=\"1\" class=\"dataframe\">\n",
       "  <thead>\n",
       "    <tr style=\"text-align: right;\">\n",
       "      <th></th>\n",
       "      <th>aware</th>\n",
       "      <th>not aware</th>\n",
       "      <th>total</th>\n",
       "      <th>awareness rate</th>\n",
       "    </tr>\n",
       "    <tr>\n",
       "      <th>experiment</th>\n",
       "      <th></th>\n",
       "      <th></th>\n",
       "      <th></th>\n",
       "      <th></th>\n",
       "    </tr>\n",
       "  </thead>\n",
       "  <tbody>\n",
       "    <tr>\n",
       "      <th>control</th>\n",
       "      <td>264</td>\n",
       "      <td>322</td>\n",
       "      <td>586</td>\n",
       "      <td>0.450512</td>\n",
       "    </tr>\n",
       "    <tr>\n",
       "      <th>exposed</th>\n",
       "      <td>308</td>\n",
       "      <td>349</td>\n",
       "      <td>657</td>\n",
       "      <td>0.468798</td>\n",
       "    </tr>\n",
       "  </tbody>\n",
       "</table>\n",
       "</div>"
      ],
      "text/plain": [
       "            aware  not aware  total  awareness rate\n",
       "experiment                                         \n",
       "control       264        322    586        0.450512\n",
       "exposed       308        349    657        0.468798"
      ]
     },
     "execution_count": 8,
     "metadata": {},
     "output_type": "execute_result"
    }
   ],
   "source": [
    "# format table to make it suitable for awareness rate calculations\n",
    "grouped_data = cleaned_data.groupby('experiment').sum()\n",
    "grouped_data['total'] = cleaned_data.pivot_table(index='experiment', aggfunc='count')\n",
    "grouped_data['awareness rate'] = cleaned_data.pivot_table( index='experiment')\n",
    "grouped_data['not aware'] = grouped_data['total'] - grouped_data['aware']\n",
    "grouped_data = grouped_data.reindex(['aware', 'not aware', 'total', 'awareness rate'], axis=1)\n",
    "grouped_data"
   ]
  },
  {
   "cell_type": "markdown",
   "metadata": {},
   "source": [
    "## Invariant metrics - sanity checks"
   ]
  },
  {
   "cell_type": "markdown",
   "metadata": {},
   "source": [
    "### 1. Number of page views (on the total data set (8077 records))"
   ]
  },
  {
   "cell_type": "code",
   "execution_count": null,
   "metadata": {},
   "outputs": [
    {
     "name": "stdout",
     "output_type": "stream",
     "text": [
      "number of total page views in control: 4071\n",
      "number of total Page views in experiment: 4006\n",
      "number of total page views: 8077\n"
     ]
    }
   ],
   "source": [
    "total_control_pv = df['experiment'].value_counts()['control']\n",
    "total_exposed_pv = df['experiment'].value_counts()['exposed']\n",
    "complete_total_pv = total_exposed_pv + total_control_pv\n",
    "\n",
    "print (f\"number of total page views in control: {total_control_pv}\")\n",
    "print (f\"number of total Page views in experiment: {total_exposed_pv}\")\n",
    "print (f\"number of total page views: {complete_total_pv}\")"
   ]
  },
  {
   "cell_type": "code",
   "execution_count": null,
   "metadata": {},
   "outputs": [
    {
     "ename": "NameError",
     "evalue": "name 'trans' is not defined",
     "output_type": "error",
     "traceback": [
      "\u001b[1;31m---------------------------------------------------------------------------\u001b[0m",
      "\u001b[1;31mNameError\u001b[0m                                 Traceback (most recent call last)",
      "\u001b[1;32mc:\\Users\\f0x-tr0t\\Documents\\education\\10_Academy\\VI\\week_II\\AB-testing\\notebooks\\classical_f.ipynb Cell 17\u001b[0m in \u001b[0;36m<cell line: 5>\u001b[1;34m()\u001b[0m\n\u001b[0;32m      <a href='vscode-notebook-cell:/c%3A/Users/f0x-tr0t/Documents/education/10_Academy/VI/week_II/AB-testing/notebooks/classical_f.ipynb#X25sZmlsZQ%3D%3D?line=2'>3</a>\u001b[0m alpha \u001b[39m=\u001b[39m \u001b[39m0.05\u001b[39m\n\u001b[0;32m      <a href='vscode-notebook-cell:/c%3A/Users/f0x-tr0t/Documents/education/10_Academy/VI/week_II/AB-testing/notebooks/classical_f.ipynb#X25sZmlsZQ%3D%3D?line=3'>4</a>\u001b[0m p_hat \u001b[39m=\u001b[39m \u001b[39mround\u001b[39m(total_control_pv \u001b[39m/\u001b[39m (complete_total_pv),\u001b[39m4\u001b[39m)\n\u001b[1;32m----> <a href='vscode-notebook-cell:/c%3A/Users/f0x-tr0t/Documents/education/10_Academy/VI/week_II/AB-testing/notebooks/classical_f.ipynb#X25sZmlsZQ%3D%3D?line=4'>5</a>\u001b[0m sd \u001b[39m=\u001b[39m trans\u001b[39m.\u001b[39mget_std(p, complete_total_pv)\n\u001b[0;32m      <a href='vscode-notebook-cell:/c%3A/Users/f0x-tr0t/Documents/education/10_Academy/VI/week_II/AB-testing/notebooks/classical_f.ipynb#X25sZmlsZQ%3D%3D?line=5'>6</a>\u001b[0m ME \u001b[39m=\u001b[39m \u001b[39mround\u001b[39m(trans\u001b[39m.\u001b[39mget_z_score(\u001b[39m1\u001b[39m\u001b[39m-\u001b[39m(alpha\u001b[39m/\u001b[39m\u001b[39m2\u001b[39m)) \u001b[39m*\u001b[39m sd, \u001b[39m4\u001b[39m)\n\u001b[0;32m      <a href='vscode-notebook-cell:/c%3A/Users/f0x-tr0t/Documents/education/10_Academy/VI/week_II/AB-testing/notebooks/classical_f.ipynb#X25sZmlsZQ%3D%3D?line=6'>7</a>\u001b[0m \u001b[39mprint\u001b[39m (\u001b[39m\"\u001b[39m\u001b[39mThe confidence interval is between\u001b[39m\u001b[39m\"\u001b[39m, p\u001b[39m-\u001b[39mME, \u001b[39m\"\u001b[39m\u001b[39mand\u001b[39m\u001b[39m\"\u001b[39m, p\u001b[39m+\u001b[39mME,\u001b[39m\"\u001b[39m\u001b[39m; Is\u001b[39m\u001b[39m\"\u001b[39m, p_hat, \u001b[39m\"\u001b[39m\u001b[39minside this range?\u001b[39m\u001b[39m\"\u001b[39m, p\u001b[39m-\u001b[39mME\u001b[39m<\u001b[39mp_hat\u001b[39m<\u001b[39mp\u001b[39m+\u001b[39mME)\n",
      "\u001b[1;31mNameError\u001b[0m: name 'trans' is not defined"
     ]
    }
   ],
   "source": [
    "# check if the difference in amount is not significant\n",
    "p = 0.5     # we are expecting the amount of people in the exposed and control groups probability to be 50%\n",
    "alpha = 0.05\n",
    "p_hat = round(total_control_pv / (complete_total_pv),4)\n",
    "sd = trans.get_std(p, complete_total_pv)\n",
    "ME = round(trans.get_z_score(1-(alpha/2)) * sd, 4)\n",
    "print (\"The confidence interval is between\", p-ME, \"and\", p+ME,\"; Is\", p_hat, \"inside this range?\", p-ME<p_hat<p+ME)"
   ]
  },
  {
   "cell_type": "markdown",
   "metadata": {},
   "source": [
    "### 2. Number of BIO participants (on the total data set (8077 records))"
   ]
  },
  {
   "cell_type": "code",
   "execution_count": null,
   "metadata": {},
   "outputs": [
    {
     "name": "stdout",
     "output_type": "stream",
     "text": [
      "number of BIO participants: experiment\n",
      "control    586\n",
      "exposed    657\n",
      "Name: total, dtype: int64\n",
      "Total participants: 1243\n"
     ]
    }
   ],
   "source": [
    "bio_participants_df = df.groupby('experiment').sum()\n",
    "bio_participants_df['total'] = bio_participants_df['yes'] + bio_participants_df['no']\n",
    "\n",
    "bio_participants_control = bio_participants_df['total']['control']\n",
    "bio_participants_control_pv = total_control_pv\n",
    "\n",
    "bio_participants_exposed = bio_participants_df['total']['exposed']\n",
    "bio_participants_exposed_pv = total_exposed_pv\n",
    "print(f\"number of BIO participants: {bio_participants_df['total']}\\nTotal participants: {bio_participants_df['total'].sum()}\")"
   ]
  },
  {
   "cell_type": "code",
   "execution_count": null,
   "metadata": {},
   "outputs": [
    {
     "name": "stdout",
     "output_type": "stream",
     "text": [
      "rate of bio participation - control: 0.1439\n",
      "rate of bio participation - exposed: 0.164\n"
     ]
    }
   ],
   "source": [
    "rate_of_participation_control = round(bio_participants_control / bio_participants_control_pv, 4)\n",
    "rate_of_participation_exposed = round(bio_participants_exposed / bio_participants_exposed_pv, 4)\n",
    "print(f'rate of bio participation - control: {rate_of_participation_control}\\nrate of bio participation - exposed: {rate_of_participation_exposed}')\n"
   ]
  },
  {
   "cell_type": "markdown",
   "metadata": {},
   "source": [
    "* In this case, we want to make sure the proportion of BIO is about the same in both groups (since this was not expected to change due to the experiment).\n",
    "\n",
    "* The changes we should notice are for the calculation of the standard error - which in this case is a pooled standard error."
   ]
  },
  {
   "cell_type": "code",
   "execution_count": null,
   "metadata": {},
   "outputs": [
    {
     "ename": "NameError",
     "evalue": "name 'trans' is not defined",
     "output_type": "error",
     "traceback": [
      "\u001b[1;31m---------------------------------------------------------------------------\u001b[0m",
      "\u001b[1;31mNameError\u001b[0m                                 Traceback (most recent call last)",
      "\u001b[1;32mc:\\Users\\f0x-tr0t\\Documents\\education\\10_Academy\\VI\\week_II\\AB-testing\\notebooks\\classical_f.ipynb Cell 22\u001b[0m in \u001b[0;36m<cell line: 5>\u001b[1;34m()\u001b[0m\n\u001b[0;32m      <a href='vscode-notebook-cell:/c%3A/Users/f0x-tr0t/Documents/education/10_Academy/VI/week_II/AB-testing/notebooks/classical_f.ipynb#X32sZmlsZQ%3D%3D?line=2'>3</a>\u001b[0m BIO_participants_total \u001b[39m=\u001b[39m bio_participants_df[\u001b[39m'\u001b[39m\u001b[39mtotal\u001b[39m\u001b[39m'\u001b[39m]\u001b[39m.\u001b[39msum() \n\u001b[0;32m      <a href='vscode-notebook-cell:/c%3A/Users/f0x-tr0t/Documents/education/10_Academy/VI/week_II/AB-testing/notebooks/classical_f.ipynb#X32sZmlsZQ%3D%3D?line=3'>4</a>\u001b[0m p_pooled \u001b[39m=\u001b[39m BIO_participants_total \u001b[39m/\u001b[39m complete_total_pv\n\u001b[1;32m----> <a href='vscode-notebook-cell:/c%3A/Users/f0x-tr0t/Documents/education/10_Academy/VI/week_II/AB-testing/notebooks/classical_f.ipynb#X32sZmlsZQ%3D%3D?line=4'>5</a>\u001b[0m sd_pooled \u001b[39m=\u001b[39m trans\u001b[39m.\u001b[39mget_pooled_std(p_pooled, bio_participants_control_pv, bio_participants_exposed_pv) \n\u001b[0;32m      <a href='vscode-notebook-cell:/c%3A/Users/f0x-tr0t/Documents/education/10_Academy/VI/week_II/AB-testing/notebooks/classical_f.ipynb#X32sZmlsZQ%3D%3D?line=5'>6</a>\u001b[0m ME \u001b[39m=\u001b[39m \u001b[39mround\u001b[39m(trans\u001b[39m.\u001b[39mget_z_score(\u001b[39m1\u001b[39m\u001b[39m-\u001b[39m(alpha\u001b[39m/\u001b[39m\u001b[39m2\u001b[39m))\u001b[39m*\u001b[39msd_pooled,\u001b[39m4\u001b[39m)\n\u001b[0;32m      <a href='vscode-notebook-cell:/c%3A/Users/f0x-tr0t/Documents/education/10_Academy/VI/week_II/AB-testing/notebooks/classical_f.ipynb#X32sZmlsZQ%3D%3D?line=6'>7</a>\u001b[0m \u001b[39mprint\u001b[39m (\u001b[39m\"\u001b[39m\u001b[39mThe confidence interval is between\u001b[39m\u001b[39m\"\u001b[39m,\u001b[39m0\u001b[39m\u001b[39m-\u001b[39mME,\u001b[39m\"\u001b[39m\u001b[39mand\u001b[39m\u001b[39m\"\u001b[39m,\u001b[39m0\u001b[39m\u001b[39m+\u001b[39mME,\u001b[39m\"\u001b[39m\u001b[39m; Is\u001b[39m\u001b[39m\"\u001b[39m,d_hat,\u001b[39m\"\u001b[39m\u001b[39mwithin this range?\u001b[39m\u001b[39m\"\u001b[39m, \u001b[39m0\u001b[39m\u001b[39m-\u001b[39mME\u001b[39m<\u001b[39md_hat\u001b[39m<\u001b[39m\u001b[39m0\u001b[39m\u001b[39m+\u001b[39mME)\n",
      "\u001b[1;31mNameError\u001b[0m: name 'trans' is not defined"
     ]
    }
   ],
   "source": [
    "# che\n",
    "d_hat = round(rate_of_participation_exposed - rate_of_participation_control,4)\n",
    "BIO_participants_total = bio_participants_df['total'].sum() \n",
    "p_pooled = BIO_participants_total / complete_total_pv\n",
    "sd_pooled = trans.get_pooled_std(p_pooled, bio_participants_control_pv, bio_participants_exposed_pv) \n",
    "ME = round(trans.get_z_score(1-(alpha/2))*sd_pooled,4)\n",
    "print (\"The confidence interval is between\",0-ME,\"and\",0+ME,\"; Is\",d_hat,\"within this range?\", 0-ME<d_hat<0+ME)"
   ]
  },
  {
   "cell_type": "markdown",
   "metadata": {},
   "source": [
    "* As we can see this did not pass the statistical significance, there might be something else to investigate."
   ]
  },
  {
   "cell_type": "code",
   "execution_count": null,
   "metadata": {},
   "outputs": [
    {
     "name": "stdout",
     "output_type": "stream",
     "text": [
      "There seems to be around a 2.01% increase in BIO engagement in the exposed groups than the control ones.\n"
     ]
    }
   ],
   "source": [
    "print(f\"There seems to be around a {d_hat*100}% increase in BIO engagement in the exposed groups than the control ones.\")"
   ]
  },
  {
   "cell_type": "markdown",
   "metadata": {},
   "source": [
    "* We could say we, on average, hit around 15% BIO engagement mark for both the control and the exposed groups.\n",
    "* We also could say there was around a 2% increase in the BIO engagement in the exposed group than the control one.\n",
    "* Nevertheless, a statistical significance is not achieved."
   ]
  },
  {
   "cell_type": "markdown",
   "metadata": {},
   "source": [
    "## Evaluation metrics - performance indicators"
   ]
  },
  {
   "cell_type": "markdown",
   "metadata": {},
   "source": [
    "### 1. Increase in awareness (on the BIO participants (1024 records))"
   ]
  },
  {
   "cell_type": "code",
   "execution_count": null,
   "metadata": {},
   "outputs": [
    {
     "data": {
      "text/html": [
       "<div>\n",
       "<style scoped>\n",
       "    .dataframe tbody tr th:only-of-type {\n",
       "        vertical-align: middle;\n",
       "    }\n",
       "\n",
       "    .dataframe tbody tr th {\n",
       "        vertical-align: top;\n",
       "    }\n",
       "\n",
       "    .dataframe thead th {\n",
       "        text-align: right;\n",
       "    }\n",
       "</style>\n",
       "<table border=\"1\" class=\"dataframe\">\n",
       "  <thead>\n",
       "    <tr style=\"text-align: right;\">\n",
       "      <th></th>\n",
       "      <th>aware</th>\n",
       "      <th>not aware</th>\n",
       "      <th>total</th>\n",
       "      <th>awareness rate</th>\n",
       "    </tr>\n",
       "    <tr>\n",
       "      <th>experiment</th>\n",
       "      <th></th>\n",
       "      <th></th>\n",
       "      <th></th>\n",
       "      <th></th>\n",
       "    </tr>\n",
       "  </thead>\n",
       "  <tbody>\n",
       "    <tr>\n",
       "      <th>control</th>\n",
       "      <td>264</td>\n",
       "      <td>322</td>\n",
       "      <td>586</td>\n",
       "      <td>0.450512</td>\n",
       "    </tr>\n",
       "    <tr>\n",
       "      <th>exposed</th>\n",
       "      <td>308</td>\n",
       "      <td>349</td>\n",
       "      <td>657</td>\n",
       "      <td>0.468798</td>\n",
       "    </tr>\n",
       "  </tbody>\n",
       "</table>\n",
       "</div>"
      ],
      "text/plain": [
       "            aware  not aware  total  awareness rate\n",
       "experiment                                         \n",
       "control       264        322    586        0.450512\n",
       "exposed       308        349    657        0.468798"
      ]
     },
     "execution_count": 16,
     "metadata": {},
     "output_type": "execute_result"
    }
   ],
   "source": [
    "grouped_data"
   ]
  },
  {
   "cell_type": "code",
   "execution_count": null,
   "metadata": {},
   "outputs": [
    {
     "name": "stdout",
     "output_type": "stream",
     "text": [
      "BIO participants in control: 586\n",
      "BIO participants in experiment: 657\n",
      "Total BIO participants: 1243\n",
      "\n",
      "Brand awareness rate in control: 0.4505\n",
      "Brand awareness rate in experiment: 0.4688\n",
      "\n",
      "There seems to be around a 1.83% increase in brand awareness in the exposed groups than the control ones.\n"
     ]
    }
   ],
   "source": [
    "print (f\"BIO participants in control: {bio_participants_control}\")\n",
    "print (f\"BIO participants in experiment: {bio_participants_exposed}\")\n",
    "print (f\"Total BIO participants: {bio_participants_control+bio_participants_exposed}\\n\")\n",
    "\n",
    "print (f\"Brand awareness rate in control: {round(grouped_data['awareness rate']['control'], 4)}\")\n",
    "print (f\"Brand awareness rate in experiment: {round(grouped_data['awareness rate']['exposed'], 4)}\\n\")\n",
    "\n",
    "awareness_diff = round(grouped_data['awareness rate']['exposed'] - grouped_data['awareness rate']['control'], 4)\n",
    "print(f\"There seems to be around a {awareness_diff * 100}% increase in brand awareness in the exposed groups than the control ones.\")"
   ]
  },
  {
   "cell_type": "markdown",
   "metadata": {},
   "source": [
    "* This will pas the practical significance we set earlier as 1%.\n",
    "* Next we will check if this rate in brand awareness is statistically significant."
   ]
  },
  {
   "cell_type": "code",
   "execution_count": null,
   "metadata": {},
   "outputs": [
    {
     "ename": "NameError",
     "evalue": "name 'trans' is not defined",
     "output_type": "error",
     "traceback": [
      "\u001b[1;31m---------------------------------------------------------------------------\u001b[0m",
      "\u001b[1;31mNameError\u001b[0m                                 Traceback (most recent call last)",
      "\u001b[1;32mc:\\Users\\f0x-tr0t\\Documents\\education\\10_Academy\\VI\\week_II\\AB-testing\\notebooks\\classical_f.ipynb Cell 30\u001b[0m in \u001b[0;36m<cell line: 4>\u001b[1;34m()\u001b[0m\n\u001b[0;32m      <a href='vscode-notebook-cell:/c%3A/Users/f0x-tr0t/Documents/education/10_Academy/VI/week_II/AB-testing/notebooks/classical_f.ipynb#X44sZmlsZQ%3D%3D?line=0'>1</a>\u001b[0m awareness_pooled \u001b[39m=\u001b[39m ((grouped_data[\u001b[39m'\u001b[39m\u001b[39maware\u001b[39m\u001b[39m'\u001b[39m][\u001b[39m'\u001b[39m\u001b[39mcontrol\u001b[39m\u001b[39m'\u001b[39m]  \u001b[39m+\u001b[39m  grouped_data[\u001b[39m'\u001b[39m\u001b[39maware\u001b[39m\u001b[39m'\u001b[39m][\u001b[39m'\u001b[39m\u001b[39mexposed\u001b[39m\u001b[39m'\u001b[39m]) \n\u001b[0;32m      <a href='vscode-notebook-cell:/c%3A/Users/f0x-tr0t/Documents/education/10_Academy/VI/week_II/AB-testing/notebooks/classical_f.ipynb#X44sZmlsZQ%3D%3D?line=1'>2</a>\u001b[0m                     \u001b[39m/\u001b[39m (grouped_data[\u001b[39m'\u001b[39m\u001b[39mtotal\u001b[39m\u001b[39m'\u001b[39m][\u001b[39m'\u001b[39m\u001b[39mcontrol\u001b[39m\u001b[39m'\u001b[39m] \u001b[39m+\u001b[39m grouped_data[\u001b[39m'\u001b[39m\u001b[39mtotal\u001b[39m\u001b[39m'\u001b[39m][\u001b[39m'\u001b[39m\u001b[39mexposed\u001b[39m\u001b[39m'\u001b[39m]))\n\u001b[1;32m----> <a href='vscode-notebook-cell:/c%3A/Users/f0x-tr0t/Documents/education/10_Academy/VI/week_II/AB-testing/notebooks/classical_f.ipynb#X44sZmlsZQ%3D%3D?line=3'>4</a>\u001b[0m awareness_sd_pooled \u001b[39m=\u001b[39m trans\u001b[39m.\u001b[39mget_pooled_std(awareness_pooled, grouped_data[\u001b[39m'\u001b[39m\u001b[39mtotal\u001b[39m\u001b[39m'\u001b[39m][\u001b[39m'\u001b[39m\u001b[39mcontrol\u001b[39m\u001b[39m'\u001b[39m], grouped_data[\u001b[39m'\u001b[39m\u001b[39mtotal\u001b[39m\u001b[39m'\u001b[39m][\u001b[39m'\u001b[39m\u001b[39mexposed\u001b[39m\u001b[39m'\u001b[39m]) \n\u001b[0;32m      <a href='vscode-notebook-cell:/c%3A/Users/f0x-tr0t/Documents/education/10_Academy/VI/week_II/AB-testing/notebooks/classical_f.ipynb#X44sZmlsZQ%3D%3D?line=4'>5</a>\u001b[0m awareness_ME \u001b[39m=\u001b[39m \u001b[39mround\u001b[39m(trans\u001b[39m.\u001b[39mget_z_score(\u001b[39m1\u001b[39m\u001b[39m-\u001b[39malpha\u001b[39m/\u001b[39m\u001b[39m2\u001b[39m) \u001b[39m*\u001b[39m awareness_sd_pooled,\u001b[39m4\u001b[39m)\n\u001b[0;32m      <a href='vscode-notebook-cell:/c%3A/Users/f0x-tr0t/Documents/education/10_Academy/VI/week_II/AB-testing/notebooks/classical_f.ipynb#X44sZmlsZQ%3D%3D?line=6'>7</a>\u001b[0m \u001b[39mprint\u001b[39m(\u001b[39m\"\u001b[39m\u001b[39mThe change due to the experiment is\u001b[39m\u001b[39m\"\u001b[39m,awareness_diff\u001b[39m*\u001b[39m\u001b[39m100\u001b[39m,\u001b[39m\"\u001b[39m\u001b[39m%\u001b[39m\u001b[39m\"\u001b[39m)\n",
      "\u001b[1;31mNameError\u001b[0m: name 'trans' is not defined"
     ]
    }
   ],
   "source": [
    "awareness_pooled = ((grouped_data['aware']['control']  +  grouped_data['aware']['exposed']) \n",
    "                    / (grouped_data['total']['control'] + grouped_data['total']['exposed']))\n",
    "\n",
    "awareness_sd_pooled = trans.get_pooled_std(awareness_pooled, grouped_data['total']['control'], grouped_data['total']['exposed']) \n",
    "awareness_ME = round(trans.get_z_score(1-alpha/2) * awareness_sd_pooled,4)\n",
    "\n",
    "print(\"The change due to the experiment is\",awareness_diff*100,\"%\")\n",
    "print(\"Confidence Interval: [\",awareness_diff - awareness_ME,\",\",awareness_diff + awareness_ME,\"]\")\n",
    "print (\"The change is statistically significant if the CI doesn't include 0. In that case, it is practically significant if\",{0.01},\"is not in the CI as well.\")\n"
   ]
  },
  {
   "cell_type": "markdown",
   "metadata": {},
   "source": [
    "* This indicates that the outcome has an increase change sized in around 1.83%, a moderate increase but not statistically and practically significant."
   ]
  }
 ],
 "metadata": {
  "kernelspec": {
   "display_name": "Python 3.10.4 64-bit",
   "language": "python",
   "name": "python3"
  },
  "language_info": {
   "codemirror_mode": {
    "name": "ipython",
    "version": 3
   },
   "file_extension": ".py",
   "mimetype": "text/x-python",
   "name": "python",
   "nbconvert_exporter": "python",
   "pygments_lexer": "ipython3",
   "version": "3.10.4"
  },
  "orig_nbformat": 4,
  "vscode": {
   "interpreter": {
    "hash": "916dbcbb3f70747c44a77c7bcd40155683ae19c65e1c03b4aa3499c5328201f1"
   }
  }
 },
 "nbformat": 4,
 "nbformat_minor": 2
}
