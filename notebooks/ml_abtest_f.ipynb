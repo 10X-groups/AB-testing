{
 "cells": [
  {
   "cell_type": "code",
   "execution_count": 1,
   "metadata": {},
   "outputs": [],
   "source": [
    "# general data set, path and visualizer related imports\n",
    "import os\n",
    "import sys\n",
    "import random\n",
    "import math\n",
    "import numpy as np\n",
    "import pandas as pd\n",
    "import matplotlib.pyplot as plt\n",
    "import warnings\n",
    "import scipy.stats as scs\n",
    "import seaborn as sb\n",
    "import dvc.api\n",
    "import mlflow\n",
    "import mlflow.sklearn\n",
    "warnings.filterwarnings(\"ignore\")\n",
    "\n",
    "# modeling, cross validation and scoring related imports\n",
    "from datetime import datetime\n",
    "import joblib\n",
    "import xgboost as xgb\n",
    "import matplotlib.pyplot as plt\n",
    "from sklearn import preprocessing\n",
    "from sklearn.linear_model import LogisticRegression\n",
    "from sklearn.pipeline import make_pipeline, Pipeline\n",
    "from sklearn.tree import DecisionTreeClassifier\n",
    "from sklearn.model_selection import train_test_split, ShuffleSplit, cross_val_score, cross_validate"
   ]
  },
  {
   "cell_type": "code",
   "execution_count": 2,
   "metadata": {},
   "outputs": [
    {
     "name": "stdout",
     "output_type": "stream",
     "text": [
      "--> <Logger dataCleaner (WARNING)>\n",
      "logger <Logger dataCleaner (INFO)> created at path: ../logs/cleaner_root.log\n",
      "Data cleaner in action\n",
      "--> <Logger dataVisualizer (WARNING)>\n",
      "logger <Logger dataVisualizer (INFO)> created at path: ../logs/visualizer_root.log\n",
      "Data visualizer in action\n",
      "--> <Logger mlHelper (WARNING)>\n",
      "logger <Logger mlHelper (INFO)> created at path: ../logs/ml_preprocess_root.log\n",
      "Data preprocessor in action\n"
     ]
    }
   ],
   "source": [
    "# set up paths and helper scripts\n",
    "sys.path.append('.')\n",
    "sys.path.insert(1, '../scripts/')\n",
    "\n",
    "import defaults as defs\n",
    "import dataCleaner as dc\n",
    "import dataVisualizer as dv\n",
    "import mlHelper as mlh\n",
    "\n",
    "# setup helper scripts\n",
    "cleaner = dc.dataCleaner('ml modeling notebook')\n",
    "visualizer = dv.dataVisualizer('ml modeling notebook')\n",
    "mlHelper = mlh.machineLearningHelper('ml modeling notebook')"
   ]
  },
  {
   "cell_type": "markdown",
   "metadata": {},
   "source": [
    "* Platform os split: version 4 of the dataset\n",
    "\n",
    "* Browser split: version 5 of the dataset"
   ]
  },
  {
   "cell_type": "code",
   "execution_count": 3,
   "metadata": {},
   "outputs": [
    {
     "data": {
      "text/html": [
       "<div>\n",
       "<style scoped>\n",
       "    .dataframe tbody tr th:only-of-type {\n",
       "        vertical-align: middle;\n",
       "    }\n",
       "\n",
       "    .dataframe tbody tr th {\n",
       "        vertical-align: top;\n",
       "    }\n",
       "\n",
       "    .dataframe thead th {\n",
       "        text-align: right;\n",
       "    }\n",
       "</style>\n",
       "<table border=\"1\" class=\"dataframe\">\n",
       "  <thead>\n",
       "    <tr style=\"text-align: right;\">\n",
       "      <th></th>\n",
       "      <th>Unnamed: 0</th>\n",
       "      <th>experiment</th>\n",
       "      <th>hour</th>\n",
       "      <th>date</th>\n",
       "      <th>device_make</th>\n",
       "      <th>browser</th>\n",
       "      <th>awareness</th>\n",
       "    </tr>\n",
       "  </thead>\n",
       "  <tbody>\n",
       "    <tr>\n",
       "      <th>0</th>\n",
       "      <td>0</td>\n",
       "      <td>1</td>\n",
       "      <td>2</td>\n",
       "      <td>2</td>\n",
       "      <td>4</td>\n",
       "      <td>2</td>\n",
       "      <td>0</td>\n",
       "    </tr>\n",
       "    <tr>\n",
       "      <th>1</th>\n",
       "      <td>1</td>\n",
       "      <td>1</td>\n",
       "      <td>16</td>\n",
       "      <td>1</td>\n",
       "      <td>13</td>\n",
       "      <td>1</td>\n",
       "      <td>1</td>\n",
       "    </tr>\n",
       "    <tr>\n",
       "      <th>2</th>\n",
       "      <td>2</td>\n",
       "      <td>1</td>\n",
       "      <td>8</td>\n",
       "      <td>3</td>\n",
       "      <td>13</td>\n",
       "      <td>1</td>\n",
       "      <td>0</td>\n",
       "    </tr>\n",
       "    <tr>\n",
       "      <th>3</th>\n",
       "      <td>3</td>\n",
       "      <td>0</td>\n",
       "      <td>4</td>\n",
       "      <td>5</td>\n",
       "      <td>43</td>\n",
       "      <td>4</td>\n",
       "      <td>1</td>\n",
       "    </tr>\n",
       "    <tr>\n",
       "      <th>4</th>\n",
       "      <td>4</td>\n",
       "      <td>0</td>\n",
       "      <td>15</td>\n",
       "      <td>0</td>\n",
       "      <td>13</td>\n",
       "      <td>1</td>\n",
       "      <td>0</td>\n",
       "    </tr>\n",
       "    <tr>\n",
       "      <th>...</th>\n",
       "      <td>...</td>\n",
       "      <td>...</td>\n",
       "      <td>...</td>\n",
       "      <td>...</td>\n",
       "      <td>...</td>\n",
       "      <td>...</td>\n",
       "      <td>...</td>\n",
       "    </tr>\n",
       "    <tr>\n",
       "      <th>1238</th>\n",
       "      <td>1238</td>\n",
       "      <td>1</td>\n",
       "      <td>21</td>\n",
       "      <td>2</td>\n",
       "      <td>13</td>\n",
       "      <td>1</td>\n",
       "      <td>1</td>\n",
       "    </tr>\n",
       "    <tr>\n",
       "      <th>1239</th>\n",
       "      <td>1239</td>\n",
       "      <td>1</td>\n",
       "      <td>1</td>\n",
       "      <td>1</td>\n",
       "      <td>13</td>\n",
       "      <td>1</td>\n",
       "      <td>1</td>\n",
       "    </tr>\n",
       "    <tr>\n",
       "      <th>1240</th>\n",
       "      <td>1240</td>\n",
       "      <td>0</td>\n",
       "      <td>7</td>\n",
       "      <td>6</td>\n",
       "      <td>13</td>\n",
       "      <td>1</td>\n",
       "      <td>0</td>\n",
       "    </tr>\n",
       "    <tr>\n",
       "      <th>1241</th>\n",
       "      <td>1241</td>\n",
       "      <td>0</td>\n",
       "      <td>16</td>\n",
       "      <td>7</td>\n",
       "      <td>13</td>\n",
       "      <td>1</td>\n",
       "      <td>0</td>\n",
       "    </tr>\n",
       "    <tr>\n",
       "      <th>1242</th>\n",
       "      <td>1242</td>\n",
       "      <td>1</td>\n",
       "      <td>4</td>\n",
       "      <td>0</td>\n",
       "      <td>13</td>\n",
       "      <td>1</td>\n",
       "      <td>0</td>\n",
       "    </tr>\n",
       "  </tbody>\n",
       "</table>\n",
       "<p>1243 rows × 7 columns</p>\n",
       "</div>"
      ],
      "text/plain": [
       "      Unnamed: 0  experiment  hour  date  device_make  browser  awareness\n",
       "0              0           1     2     2            4        2          0\n",
       "1              1           1    16     1           13        1          1\n",
       "2              2           1     8     3           13        1          0\n",
       "3              3           0     4     5           43        4          1\n",
       "4              4           0    15     0           13        1          0\n",
       "...          ...         ...   ...   ...          ...      ...        ...\n",
       "1238        1238           1    21     2           13        1          1\n",
       "1239        1239           1     1     1           13        1          1\n",
       "1240        1240           0     7     6           13        1          0\n",
       "1241        1241           0    16     7           13        1          0\n",
       "1242        1242           1     4     0           13        1          0\n",
       "\n",
       "[1243 rows x 7 columns]"
      ]
     },
     "execution_count": 3,
     "metadata": {},
     "output_type": "execute_result"
    }
   ],
   "source": [
    "# TODO : refactor this \n",
    "# read data using dvc\n",
    "version = 'v5'\n",
    "\n",
    "# data path using dvc api\n",
    "data_url = dvc.api.get_url(path = defs.path, \n",
    "                           repo = defs.repo, \n",
    "                           rev = version)\n",
    "\n",
    "# reading the csv file\n",
    "missing_values = [\"n/a\", \"na\", \"undefined\", '?', 'NA', 'undefined']\n",
    "df = pd.read_csv(data_url, na_values=missing_values)\n",
    "df"
   ]
  },
  {
   "cell_type": "markdown",
   "metadata": {},
   "source": [
    "## Ml modeling"
   ]
  },
  {
   "cell_type": "markdown",
   "metadata": {},
   "source": [
    "* Clean unwanted rows"
   ]
  },
  {
   "cell_type": "code",
   "execution_count": 4,
   "metadata": {},
   "outputs": [
    {
     "data": {
      "text/html": [
       "<div>\n",
       "<style scoped>\n",
       "    .dataframe tbody tr th:only-of-type {\n",
       "        vertical-align: middle;\n",
       "    }\n",
       "\n",
       "    .dataframe tbody tr th {\n",
       "        vertical-align: top;\n",
       "    }\n",
       "\n",
       "    .dataframe thead th {\n",
       "        text-align: right;\n",
       "    }\n",
       "</style>\n",
       "<table border=\"1\" class=\"dataframe\">\n",
       "  <thead>\n",
       "    <tr style=\"text-align: right;\">\n",
       "      <th></th>\n",
       "      <th>experiment</th>\n",
       "      <th>hour</th>\n",
       "      <th>date</th>\n",
       "      <th>device_make</th>\n",
       "      <th>browser</th>\n",
       "      <th>awareness</th>\n",
       "    </tr>\n",
       "  </thead>\n",
       "  <tbody>\n",
       "    <tr>\n",
       "      <th>0</th>\n",
       "      <td>1</td>\n",
       "      <td>2</td>\n",
       "      <td>2</td>\n",
       "      <td>4</td>\n",
       "      <td>2</td>\n",
       "      <td>0</td>\n",
       "    </tr>\n",
       "    <tr>\n",
       "      <th>1</th>\n",
       "      <td>1</td>\n",
       "      <td>16</td>\n",
       "      <td>1</td>\n",
       "      <td>13</td>\n",
       "      <td>1</td>\n",
       "      <td>1</td>\n",
       "    </tr>\n",
       "    <tr>\n",
       "      <th>2</th>\n",
       "      <td>1</td>\n",
       "      <td>8</td>\n",
       "      <td>3</td>\n",
       "      <td>13</td>\n",
       "      <td>1</td>\n",
       "      <td>0</td>\n",
       "    </tr>\n",
       "    <tr>\n",
       "      <th>3</th>\n",
       "      <td>0</td>\n",
       "      <td>4</td>\n",
       "      <td>5</td>\n",
       "      <td>43</td>\n",
       "      <td>4</td>\n",
       "      <td>1</td>\n",
       "    </tr>\n",
       "    <tr>\n",
       "      <th>4</th>\n",
       "      <td>0</td>\n",
       "      <td>15</td>\n",
       "      <td>0</td>\n",
       "      <td>13</td>\n",
       "      <td>1</td>\n",
       "      <td>0</td>\n",
       "    </tr>\n",
       "    <tr>\n",
       "      <th>...</th>\n",
       "      <td>...</td>\n",
       "      <td>...</td>\n",
       "      <td>...</td>\n",
       "      <td>...</td>\n",
       "      <td>...</td>\n",
       "      <td>...</td>\n",
       "    </tr>\n",
       "    <tr>\n",
       "      <th>1238</th>\n",
       "      <td>1</td>\n",
       "      <td>21</td>\n",
       "      <td>2</td>\n",
       "      <td>13</td>\n",
       "      <td>1</td>\n",
       "      <td>1</td>\n",
       "    </tr>\n",
       "    <tr>\n",
       "      <th>1239</th>\n",
       "      <td>1</td>\n",
       "      <td>1</td>\n",
       "      <td>1</td>\n",
       "      <td>13</td>\n",
       "      <td>1</td>\n",
       "      <td>1</td>\n",
       "    </tr>\n",
       "    <tr>\n",
       "      <th>1240</th>\n",
       "      <td>0</td>\n",
       "      <td>7</td>\n",
       "      <td>6</td>\n",
       "      <td>13</td>\n",
       "      <td>1</td>\n",
       "      <td>0</td>\n",
       "    </tr>\n",
       "    <tr>\n",
       "      <th>1241</th>\n",
       "      <td>0</td>\n",
       "      <td>16</td>\n",
       "      <td>7</td>\n",
       "      <td>13</td>\n",
       "      <td>1</td>\n",
       "      <td>0</td>\n",
       "    </tr>\n",
       "    <tr>\n",
       "      <th>1242</th>\n",
       "      <td>1</td>\n",
       "      <td>4</td>\n",
       "      <td>0</td>\n",
       "      <td>13</td>\n",
       "      <td>1</td>\n",
       "      <td>0</td>\n",
       "    </tr>\n",
       "  </tbody>\n",
       "</table>\n",
       "<p>1243 rows × 6 columns</p>\n",
       "</div>"
      ],
      "text/plain": [
       "      experiment  hour  date  device_make  browser  awareness\n",
       "0              1     2     2            4        2          0\n",
       "1              1    16     1           13        1          1\n",
       "2              1     8     3           13        1          0\n",
       "3              0     4     5           43        4          1\n",
       "4              0    15     0           13        1          0\n",
       "...          ...   ...   ...          ...      ...        ...\n",
       "1238           1    21     2           13        1          1\n",
       "1239           1     1     1           13        1          1\n",
       "1240           0     7     6           13        1          0\n",
       "1241           0    16     7           13        1          0\n",
       "1242           1     4     0           13        1          0\n",
       "\n",
       "[1243 rows x 6 columns]"
      ]
     },
     "execution_count": 4,
     "metadata": {},
     "output_type": "execute_result"
    }
   ],
   "source": [
    "df = cleaner.remove_unwanted_cols(df, ['Unnamed: 0'])\n",
    "df"
   ]
  },
  {
   "cell_type": "markdown",
   "metadata": {},
   "source": [
    "* Setting up ml flow experiment"
   ]
  },
  {
   "cell_type": "code",
   "execution_count": 5,
   "metadata": {},
   "outputs": [],
   "source": [
    "# setting up ml flow experiment\n",
    "mlflow.set_experiment('ml modeling')\n",
    "mlflow.start_run()\n",
    "\n",
    "mlflow.log_param('data_url', data_url)\n",
    "mlflow.log_param('data_version', version)\n",
    "mlflow.log_param('input_rows', df.shape[0])\n",
    "mlflow.log_param('input_cols', df.shape[1])"
   ]
  },
  {
   "cell_type": "markdown",
   "metadata": {},
   "source": [
    "### Training models"
   ]
  },
  {
   "cell_type": "markdown",
   "metadata": {},
   "source": [
    "* Platform os split: version 4 of the dataset\n",
    "\n",
    "* Browser split: version 5 of the dataset"
   ]
  },
  {
   "cell_type": "code",
   "execution_count": 6,
   "metadata": {},
   "outputs": [],
   "source": [
    "# set up the data, differentiating the training features and the target\n",
    "X = df.iloc[: , :-1]\n",
    "y = df.iloc[: , -1]"
   ]
  },
  {
   "cell_type": "code",
   "execution_count": 7,
   "metadata": {},
   "outputs": [],
   "source": [
    "mlflow.log_param('features', X.columns.to_list())\n",
    "mlflow.log_param('target', 'awareness')"
   ]
  },
  {
   "cell_type": "markdown",
   "metadata": {},
   "source": [
    "### Cross validation: 5 folds "
   ]
  },
  {
   "cell_type": "markdown",
   "metadata": {},
   "source": [
    "* Using shuffle split and defining scoring metrics"
   ]
  },
  {
   "cell_type": "code",
   "execution_count": 8,
   "metadata": {},
   "outputs": [],
   "source": [
    "# shuffle split using 5 folds and tet size of 2%\n",
    "cv = ShuffleSplit(n_splits = 5, test_size = 0.2, random_state = 77)\n",
    "\n",
    "# scoring metrics\n",
    "#long_scoring = ['r2', 'neg_mean_squared_error', 'neg_root_mean_squared_error', 'neg_mean_absolute_error', 'accuracy', 'precision', 'recall', 'f1',  'neg_log_loss']\n",
    "scoring = ['r2', 'neg_mean_squared_error', 'neg_root_mean_squared_error', 'neg_mean_absolute_error', 'accuracy', 'precision']\n",
    "mlflow.log_param('scoring', scoring)\n",
    "mlflow.log_param('cross_validation', cv)"
   ]
  },
  {
   "cell_type": "markdown",
   "metadata": {},
   "source": [
    "#### Classifier one: logistic regression"
   ]
  },
  {
   "cell_type": "code",
   "execution_count": 9,
   "metadata": {},
   "outputs": [],
   "source": [
    "# logistic regression parameters\n",
    "log_reg_params = {'random_state' : 77}\n",
    "\n",
    "# logistic regression classifier pipeline\n",
    "log_reg_pipeline = Pipeline([(\"scaler\", preprocessing.StandardScaler()),\n",
    "                            ('log_reg_classifier', LogisticRegression(random_state = 77))])\n",
    "\n",
    "# logistic regression classifier cross validation\n",
    "log_reg_results = cross_validate(log_reg_pipeline, X, y, cv = cv, scoring = scoring, \n",
    "                                return_train_score = False, return_estimator = True)\n",
    "# save the model\n",
    "joblib.dump(log_reg_pipeline._final_estimator, '../models/log_reg_model.pkl')\n",
    "\n",
    "# logging parameters, models and metrics\n",
    "mlflow.log_param('log reg parameters', log_reg_params)\n",
    "mlflow.log_artifact(\"../models/log_reg_model.pkl\")\n",
    "# mlflow.log_metric('log reg metrics', log_reg_results)"
   ]
  },
  {
   "cell_type": "code",
   "execution_count": 10,
   "metadata": {},
   "outputs": [
    {
     "name": "stdout",
     "output_type": "stream",
     "text": [
      "CV: 1\n",
      "Importance: [ 0.00806167  0.09503814  0.01007358 -0.01300681 -0.032171  ]\n"
     ]
    },
    {
     "data": {
      "image/png": "[encoded data removed]",
      "text/plain": [
       "<Figure size 864x504 with 1 Axes>"
      ]
     },
     "metadata": {
      "needs_background": "light"
     },
     "output_type": "display_data"
    },
    {
     "name": "stdout",
     "output_type": "stream",
     "text": [
      "CV: 2\n",
      "Importance: [ 0.06399135  0.11698666 -0.00440268  0.10736672 -0.08050977]\n"
     ]
    },
    {
     "data": {
      "image/png": "[encoded data removed]",
      "text/plain": [
       "<Figure size 864x504 with 1 Axes>"
      ]
     },
     "metadata": {
      "needs_background": "light"
     },
     "output_type": "display_data"
    },
    {
     "name": "stdout",
     "output_type": "stream",
     "text": [
      "CV: 3\n",
      "Importance: [ 0.05827405  0.12824363 -0.02075375  0.09654713 -0.03531756]\n"
     ]
    },
    {
     "data": {
      "image/png": "[encoded data removed]",
      "text/plain": [
       "<Figure size 864x504 with 1 Axes>"
      ]
     },
     "metadata": {
      "needs_background": "light"
     },
     "output_type": "display_data"
    },
    {
     "name": "stdout",
     "output_type": "stream",
     "text": [
      "CV: 4\n",
      "Importance: [ 0.0520174   0.11548259 -0.02198752  0.02878286 -0.00615935]\n"
     ]
    },
    {
     "data": {
      "image/png": "[encoded data removed]",
      "text/plain": [
       "<Figure size 864x504 with 1 Axes>"
      ]
     },
     "metadata": {
      "needs_background": "light"
     },
     "output_type": "display_data"
    },
    {
     "name": "stdout",
     "output_type": "stream",
     "text": [
      "CV: 5\n",
      "Importance: [ 0.07813754  0.130771   -0.02530983  0.11714569 -0.08294001]\n"
     ]
    },
    {
     "data": {
      "image/png": "[encoded data removed]",
      "text/plain": [
       "<Figure size 864x504 with 1 Axes>"
      ]
     },
     "metadata": {
      "needs_background": "light"
     },
     "output_type": "display_data"
    }
   ],
   "source": [
    "for i in range(0, 5, 1):\n",
    "    importance = log_reg_results['estimator'][i]['log_reg_classifier'].coef_[0]\n",
    "    print(f'CV: {(i+1)}\\nImportance: {importance}')\n",
    "    #importance is a list so you can plot it.\n",
    "    plt.figure(figsize=(12, 7))\n",
    "    feat_importance = pd.Series(importance, index=X.columns)\n",
    "    #feat_importance.nlargest(20).plot(kind='barh',title = 'Feature Importance')\n",
    "    feat_importance.plot(kind='barh',title = 'Feature Importance')\n",
    "    plt.show()"
   ]
  },
  {
   "cell_type": "markdown",
   "metadata": {},
   "source": [
    "#### Classifier two: decision tree"
   ]
  },
  {
   "cell_type": "code",
   "execution_count": 11,
   "metadata": {},
   "outputs": [],
   "source": [
    "# decision tree parameters\n",
    "decision_tree_params = {'random_state' : '77'}\n",
    "\n",
    "# decision tree classifier pipeline\n",
    "decision_tree_pipeline = Pipeline([('scaler', preprocessing.StandardScaler()),\n",
    "                                ('decision_tree_classifier', DecisionTreeClassifier(random_state = 77))])\n",
    "\n",
    "# decision tree classifier cross validation\n",
    "decision_tree_results = cross_validate(decision_tree_pipeline, X, y, cv = cv, scoring = scoring, \n",
    "                                return_train_score = False, return_estimator = True)\n",
    "# save the model\n",
    "joblib.dump(decision_tree_pipeline._final_estimator, '../models/decision_tree_model.pkl')\n",
    "\n",
    "# logging parameters, models and metrics\n",
    "mlflow.log_param('decision tree parameters', decision_tree_params)\n",
    "mlflow.log_artifact(\"../models/decision_tree_model.pkl\")\n",
    "# mlflow.log_metric('decision tree metrics', decision_tree_results)"
   ]
  },
  {
   "cell_type": "code",
   "execution_count": 12,
   "metadata": {},
   "outputs": [
    {
     "name": "stdout",
     "output_type": "stream",
     "text": [
      "CV: 1\n",
      "Importance: [0.03513476 0.3720084  0.24027483 0.26333372 0.0892483 ]\n"
     ]
    },
    {
     "data": {
      "image/png": "[encoded data removed]",
      "text/plain": [
       "<Figure size 864x504 with 1 Axes>"
      ]
     },
     "metadata": {
      "needs_background": "light"
     },
     "output_type": "display_data"
    },
    {
     "name": "stdout",
     "output_type": "stream",
     "text": [
      "CV: 2\n",
      "Importance: [0.09603528 0.29150312 0.28767594 0.21669687 0.1080888 ]\n"
     ]
    },
    {
     "data": {
      "image/png": "[encoded data removed]",
      "text/plain": [
       "<Figure size 864x504 with 1 Axes>"
      ]
     },
     "metadata": {
      "needs_background": "light"
     },
     "output_type": "display_data"
    },
    {
     "name": "stdout",
     "output_type": "stream",
     "text": [
      "CV: 3\n",
      "Importance: [0.09909289 0.27939832 0.21423375 0.30602548 0.10124955]\n"
     ]
    },
    {
     "data": {
      "image/png": "[encoded data removed]",
      "text/plain": [
       "<Figure size 864x504 with 1 Axes>"
      ]
     },
     "metadata": {
      "needs_background": "light"
     },
     "output_type": "display_data"
    },
    {
     "name": "stdout",
     "output_type": "stream",
     "text": [
      "CV: 4\n",
      "Importance: [0.07779652 0.25847339 0.27015639 0.28596393 0.10760977]\n"
     ]
    },
    {
     "data": {
      "image/png": "[encoded data removed]",
      "text/plain": [
       "<Figure size 864x504 with 1 Axes>"
      ]
     },
     "metadata": {
      "needs_background": "light"
     },
     "output_type": "display_data"
    },
    {
     "name": "stdout",
     "output_type": "stream",
     "text": [
      "CV: 5\n",
      "Importance: [0.07112727 0.39829709 0.15357269 0.27348581 0.10351714]\n"
     ]
    },
    {
     "data": {
      "image/png": "[encoded data removed]",
      "text/plain": [
       "<Figure size 864x504 with 1 Axes>"
      ]
     },
     "metadata": {
      "needs_background": "light"
     },
     "output_type": "display_data"
    }
   ],
   "source": [
    "for i in range(0, 5, 1):\n",
    "    importance = decision_tree_results['estimator'][i]['decision_tree_classifier'].feature_importances_\n",
    "    print(f'CV: {(i+1)}\\nImportance: {importance}')\n",
    "    #importance is a list so you can plot it.\n",
    "    plt.figure(figsize=(12, 7))\n",
    "    feat_importance = pd.Series(importance, index=X.columns)\n",
    "    # feat_importance.nlargest(20).plot(kind='barh',title = 'Feature Importance')\n",
    "    feat_importance.plot(kind='barh',title = 'Feature Importance')\n",
    "    plt.show()\n"
   ]
  },
  {
   "cell_type": "markdown",
   "metadata": {},
   "source": [
    "#### Classifier three: XGB"
   ]
  },
  {
   "cell_type": "code",
   "execution_count": 13,
   "metadata": {},
   "outputs": [],
   "source": [
    "# xgb parameters\n",
    "xgb_params = {\"objective\":\"binary:logistic\", 'colsample_bytree': 0.3, 'learning_rate': 0.1, 'max_depth': 5, 'alpha': 10}\n",
    "\n",
    "# convert the dataset into an optimized data structure named Dmatrix that XGB supports\n",
    "data_dmatrix = xgb.DMatrix(data = X, label = y)\n",
    "\n",
    "# XGBoost classifier cross validation\n",
    "xgb_results = xgb.cv(dtrain = data_dmatrix, params = xgb_params, nfold = 5,\n",
    "                        num_boost_round = 50, early_stopping_rounds = 10, \n",
    "                        metrics = \"rmse\", as_pandas=True, seed=77)\n",
    "\n",
    "xg_class = xgb.train(dtrain = data_dmatrix, params = xgb_params, num_boost_round = 50)\n",
    "\n",
    "# save the model\n",
    "joblib.dump(xg_class, '../models/xgb_classification_model.pkl')\n",
    "\n",
    "# logging parameters, models and metrics\n",
    "mlflow.log_param('xgb parameters', xgb_params)\n",
    "mlflow.log_artifact(\"../models/xgb_classification_model.pkl\")\n",
    "# mlflow.log_metric('xgb metrics', xgb_results)"
   ]
  },
  {
   "cell_type": "markdown",
   "metadata": {},
   "source": [
    "* End and stop ml flow experiment"
   ]
  },
  {
   "cell_type": "code",
   "execution_count": 14,
   "metadata": {},
   "outputs": [],
   "source": [
    "mlflow.end_run()"
   ]
  },
  {
   "cell_type": "code",
   "execution_count": 15,
   "metadata": {},
   "outputs": [
    {
     "data": {
      "image/png": "[encoded data removed]",
      "text/plain": [
       "<Figure size 432x288 with 1 Axes>"
      ]
     },
     "metadata": {
      "needs_background": "light"
     },
     "output_type": "display_data"
    }
   ],
   "source": [
    "# feature importance\n",
    "xgb.plot_importance(xg_class)\n",
    "plt.rcParams['figure.figsize'] = [12, 7]\n",
    "plt.show()\n",
    "# mlflow.log_artifact('feature importance', plt)"
   ]
  },
  {
   "cell_type": "markdown",
   "metadata": {},
   "source": [
    "#### Based on the feature importance plots plotted above we can clearly see that different types of models have different feature importance variables.\n",
    "\n",
    "\n",
    "1. Logistic regression model: Hour, device make and experiment are the top features respectively.\n",
    "\n",
    "2. Decision tree model: Hour, date and device make are the top features respectively.\n",
    "\n",
    "3. XBG model: Hour and device make are the top features respectively"
   ]
  },
  {
   "cell_type": "markdown",
   "metadata": {},
   "source": [
    "### Metrics report"
   ]
  },
  {
   "cell_type": "markdown",
   "metadata": {},
   "source": [
    "* Mean report"
   ]
  },
  {
   "cell_type": "code",
   "execution_count": 16,
   "metadata": {},
   "outputs": [
    {
     "name": "stdout",
     "output_type": "stream",
     "text": [
      "\n",
      "--- Mean Report ---\n",
      "fit time: 0.1095\n",
      "score time: 0.0138\n",
      "test_r2: -0.8326\n",
      "test_neg_mean_squared_error: -0.4538\n",
      "test_neg_root_mean_squared_error: -0.6732\n",
      "test_neg_mean_absolute_error: -0.4538\n",
      "test_accuracy: 0.5462\n",
      "test_precision: 0.5398\n",
      "\n",
      "--- Mean Report ---\n",
      "fit time: 0.0901\n",
      "score time: 0.009\n",
      "test_r2: -0.9412\n",
      "test_neg_mean_squared_error: -0.4803\n",
      "test_neg_root_mean_squared_error: -0.6928\n",
      "test_neg_mean_absolute_error: -0.4803\n",
      "test_accuracy: 0.5197\n",
      "test_precision: 0.4704\n"
     ]
    },
    {
     "data": {
      "text/html": [
       "<div>\n",
       "<style scoped>\n",
       "    .dataframe tbody tr th:only-of-type {\n",
       "        vertical-align: middle;\n",
       "    }\n",
       "\n",
       "    .dataframe tbody tr th {\n",
       "        vertical-align: top;\n",
       "    }\n",
       "\n",
       "    .dataframe thead th {\n",
       "        text-align: right;\n",
       "    }\n",
       "</style>\n",
       "<table border=\"1\" class=\"dataframe\">\n",
       "  <thead>\n",
       "    <tr style=\"text-align: right;\">\n",
       "      <th></th>\n",
       "      <th>train-rmse-mean</th>\n",
       "      <th>train-rmse-std</th>\n",
       "      <th>test-rmse-mean</th>\n",
       "      <th>test-rmse-std</th>\n",
       "    </tr>\n",
       "  </thead>\n",
       "  <tbody>\n",
       "    <tr>\n",
       "      <th>0</th>\n",
       "      <td>0.499761</td>\n",
       "      <td>0.000103</td>\n",
       "      <td>0.499822</td>\n",
       "      <td>0.000135</td>\n",
       "    </tr>\n",
       "    <tr>\n",
       "      <th>1</th>\n",
       "      <td>0.499561</td>\n",
       "      <td>0.000188</td>\n",
       "      <td>0.499681</td>\n",
       "      <td>0.000263</td>\n",
       "    </tr>\n",
       "    <tr>\n",
       "      <th>2</th>\n",
       "      <td>0.499394</td>\n",
       "      <td>0.000258</td>\n",
       "      <td>0.499567</td>\n",
       "      <td>0.000384</td>\n",
       "    </tr>\n",
       "    <tr>\n",
       "      <th>3</th>\n",
       "      <td>0.499164</td>\n",
       "      <td>0.000335</td>\n",
       "      <td>0.499512</td>\n",
       "      <td>0.000491</td>\n",
       "    </tr>\n",
       "    <tr>\n",
       "      <th>4</th>\n",
       "      <td>0.498969</td>\n",
       "      <td>0.000377</td>\n",
       "      <td>0.499431</td>\n",
       "      <td>0.000623</td>\n",
       "    </tr>\n",
       "  </tbody>\n",
       "</table>\n",
       "</div>"
      ],
      "text/plain": [
       "   train-rmse-mean  train-rmse-std  test-rmse-mean  test-rmse-std\n",
       "0         0.499761        0.000103        0.499822       0.000135\n",
       "1         0.499561        0.000188        0.499681       0.000263\n",
       "2         0.499394        0.000258        0.499567       0.000384\n",
       "3         0.499164        0.000335        0.499512       0.000491\n",
       "4         0.498969        0.000377        0.499431       0.000623"
      ]
     },
     "execution_count": 16,
     "metadata": {},
     "output_type": "execute_result"
    }
   ],
   "source": [
    "# Mean report for all three classifier\n",
    "mlHelper.print_result(log_reg_results, scoring, 'mean')\n",
    "mlHelper.print_result(decision_tree_results, scoring, 'mean')\n",
    "xgb_results.head()"
   ]
  },
  {
   "cell_type": "markdown",
   "metadata": {},
   "source": [
    "* Standard deviation"
   ]
  },
  {
   "cell_type": "code",
   "execution_count": 17,
   "metadata": {},
   "outputs": [
    {
     "name": "stdout",
     "output_type": "stream",
     "text": [
      "\n",
      "--- Standard deviation Report ---\n",
      "fit time: 0.1672\n",
      "score time: 0.0032\n",
      "test_r2: 0.1168\n",
      "test_neg_mean_squared_error: 0.0331\n",
      "test_neg_root_mean_squared_error: 0.0248\n",
      "test_neg_mean_absolute_error: 0.0331\n",
      "test_accuracy: 0.0331\n",
      "test_precision: 0.1122\n",
      "\n",
      "--- Standard deviation Report ---\n",
      "fit time: 0.1548\n",
      "score time: 0.0025\n",
      "test_r2: 0.1155\n",
      "test_neg_mean_squared_error: 0.0279\n",
      "test_neg_root_mean_squared_error: 0.0202\n",
      "test_neg_mean_absolute_error: 0.0279\n",
      "test_accuracy: 0.0279\n",
      "test_precision: 0.0472\n"
     ]
    }
   ],
   "source": [
    "# Standard deviation report for all three classifiers\n",
    "mlHelper.print_result(log_reg_results, scoring, 'std')\n",
    "mlHelper.print_result(decision_tree_results, scoring, 'std')"
   ]
  }
 ],
 "metadata": {
  "kernelspec": {
   "display_name": "Python 3.10.5 64-bit",
   "language": "python",
   "name": "python3"
  },
  "language_info": {
   "codemirror_mode": {
    "name": "ipython",
    "version": 3
   },
   "file_extension": ".py",
   "mimetype": "text/x-python",
   "name": "python",
   "nbconvert_exporter": "python",
   "pygments_lexer": "ipython3",
   "version": "3.10.5"
  },
  "orig_nbformat": 4,
  "vscode": {
   "interpreter": {
    "hash": "a265634967a27dd555e8346f2355ee703e655fd7f0a0d20c168527cd0a3d5707"
   }
  }
 },
 "nbformat": 4,
 "nbformat_minor": 2
}
